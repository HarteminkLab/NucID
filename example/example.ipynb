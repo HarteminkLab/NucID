{
 "metadata": {
  "name": "",
  "signature": "sha256:cd82019d46b3325561a5e626f81a794776518c0a1a9f366b5ed73d4a4d519197"
 },
 "nbformat": 3,
 "nbformat_minor": 0,
 "worksheets": [
  {
   "cells": [
    {
     "cell_type": "markdown",
     "metadata": {},
     "source": [
      "Calculate the moving window nucleosome score in the example region shown in Figure 3"
     ]
    },
    {
     "cell_type": "code",
     "collapsed": false,
     "input": [
      "import imp\n",
      "import os\n",
      "import numpy as np \n",
      "import NucID\n",
      "home_dir = os.path.expanduser('~')\n",
      "dataio = imp.load_source('dataio', home_dir+'/bithub/coding_space/pytools/dataIO.py')"
     ],
     "language": "python",
     "metadata": {},
     "outputs": [],
     "prompt_number": 1
    },
    {
     "cell_type": "heading",
     "level": 1,
     "metadata": {},
     "source": [
      "Read in data"
     ]
    },
    {
     "cell_type": "code",
     "collapsed": false,
     "input": [
      "chromo = 9; start = 59700; end = 62700"
     ],
     "language": "python",
     "metadata": {},
     "outputs": [],
     "prompt_number": 2
    },
    {
     "cell_type": "heading",
     "level": 2,
     "metadata": {},
     "source": [
      "DNase-seq counts"
     ]
    },
    {
     "cell_type": "code",
     "collapsed": false,
     "input": [
      "# In vivo DNase-seq counts from the Greg Crawford Lab\n",
      "# the read_dnase_data function essentially creates a pandas DataFrame (format shown below) from mapped DNase I reads"
      "dnase_counts = dataio.read_dnase_data(chromo, start, end, 'greg_vivo')"
     ],
     "language": "python",
     "metadata": {},
     "outputs": [],
     "prompt_number": 3
    },
    {
     "cell_type": "code",
     "collapsed": false,
     "input": [
      "dnase_counts.head()"
     ],
     "language": "python",
     "metadata": {},
     "outputs": [
      {
       "html": [
        "<div style=\"max-width:1500px;overflow:auto;\">\n",
        "<table border=\"1\" class=\"dataframe\">\n",
        "  <thead>\n",
        "    <tr style=\"text-align: right;\">\n",
        "      <th></th>\n",
        "      <th>chromo</th>\n",
        "      <th>coordinate</th>\n",
        "      <th>fwd_count</th>\n",
        "      <th>rev_count</th>\n",
        "    </tr>\n",
        "  </thead>\n",
        "  <tbody>\n",
        "    <tr>\n",
        "      <th>59699</th>\n",
        "      <td>9</td>\n",
        "      <td>59700</td>\n",
        "      <td>3</td>\n",
        "      <td>3</td>\n",
        "    </tr>\n",
        "    <tr>\n",
        "      <th>59700</th>\n",
        "      <td>9</td>\n",
        "      <td>59701</td>\n",
        "      <td>2</td>\n",
        "      <td>1</td>\n",
        "    </tr>\n",
        "    <tr>\n",
        "      <th>59701</th>\n",
        "      <td>9</td>\n",
        "      <td>59702</td>\n",
        "      <td>1</td>\n",
        "      <td>0</td>\n",
        "    </tr>\n",
        "    <tr>\n",
        "      <th>59702</th>\n",
        "      <td>9</td>\n",
        "      <td>59703</td>\n",
        "      <td>9</td>\n",
        "      <td>1</td>\n",
        "    </tr>\n",
        "    <tr>\n",
        "      <th>59703</th>\n",
        "      <td>9</td>\n",
        "      <td>59704</td>\n",
        "      <td>5</td>\n",
        "      <td>0</td>\n",
        "    </tr>\n",
        "  </tbody>\n",
        "</table>\n",
        "</div>"
       ],
       "metadata": {},
       "output_type": "pyout",
       "prompt_number": 4,
       "text": [
        "       chromo  coordinate  fwd_count  rev_count\n",
        "59699       9       59700          3          3\n",
        "59700       9       59701          2          1\n",
        "59701       9       59702          1          0\n",
        "59702       9       59703          9          1\n",
        "59703       9       59704          5          0"
       ]
      }
     ],
     "prompt_number": 4
    },
    {
     "cell_type": "code",
     "collapsed": false,
     "input": [
      "dnase_counts.tail()"
     ],
     "language": "python",
     "metadata": {},
     "outputs": [
      {
       "html": [
        "<div style=\"max-width:1500px;overflow:auto;\">\n",
        "<table border=\"1\" class=\"dataframe\">\n",
        "  <thead>\n",
        "    <tr style=\"text-align: right;\">\n",
        "      <th></th>\n",
        "      <th>chromo</th>\n",
        "      <th>coordinate</th>\n",
        "      <th>fwd_count</th>\n",
        "      <th>rev_count</th>\n",
        "    </tr>\n",
        "  </thead>\n",
        "  <tbody>\n",
        "    <tr>\n",
        "      <th>62695</th>\n",
        "      <td>9</td>\n",
        "      <td>62696</td>\n",
        "      <td>7</td>\n",
        "      <td>1</td>\n",
        "    </tr>\n",
        "    <tr>\n",
        "      <th>62696</th>\n",
        "      <td>9</td>\n",
        "      <td>62697</td>\n",
        "      <td>2</td>\n",
        "      <td>1</td>\n",
        "    </tr>\n",
        "    <tr>\n",
        "      <th>62697</th>\n",
        "      <td>9</td>\n",
        "      <td>62698</td>\n",
        "      <td>0</td>\n",
        "      <td>3</td>\n",
        "    </tr>\n",
        "    <tr>\n",
        "      <th>62698</th>\n",
        "      <td>9</td>\n",
        "      <td>62699</td>\n",
        "      <td>0</td>\n",
        "      <td>0</td>\n",
        "    </tr>\n",
        "    <tr>\n",
        "      <th>62699</th>\n",
        "      <td>9</td>\n",
        "      <td>62700</td>\n",
        "      <td>4</td>\n",
        "      <td>11</td>\n",
        "    </tr>\n",
        "  </tbody>\n",
        "</table>\n",
        "</div>"
       ],
       "metadata": {},
       "output_type": "pyout",
       "prompt_number": 5,
       "text": [
        "       chromo  coordinate  fwd_count  rev_count\n",
        "62695       9       62696          7          1\n",
        "62696       9       62697          2          1\n",
        "62697       9       62698          0          3\n",
        "62698       9       62699          0          0\n",
        "62699       9       62700          4         11"
       ]
      }
     ],
     "prompt_number": 5
    },
    {
     "cell_type": "heading",
     "level": 2,
     "metadata": {},
     "source": [
      "asinh transform the counts"
     ]
    },
    {
     "cell_type": "code",
     "collapsed": false,
     "input": [
      "dnase = dnase_counts.copy()\n",
      "dnase['fwd_count'] = np.arcsinh(dnase_counts['fwd_count'])\n",
      "dnase['rev_count'] = np.arcsinh(dnase_counts['rev_count'])"
     ],
     "language": "python",
     "metadata": {},
     "outputs": [],
     "prompt_number": 6
    },
    {
     "cell_type": "code",
     "collapsed": false,
     "input": [
      "# Nucleosome center position score from Brogaard et al. (2012)\n",
      "ncp = dataio.read_brogaard_ncp(chromo, start, end, data_type = 'overlapping')"
     ],
     "language": "python",
     "metadata": {},
     "outputs": [],
     "prompt_number": 7
    },
    {
     "cell_type": "code",
     "collapsed": false,
     "input": [
      "ncp.head()"
     ],
     "language": "python",
     "metadata": {},
     "outputs": [
      {
       "html": [
        "<div style=\"max-width:1500px;overflow:auto;\">\n",
        "<table border=\"1\" class=\"dataframe\">\n",
        "  <thead>\n",
        "    <tr style=\"text-align: right;\">\n",
        "      <th></th>\n",
        "      <th>chr</th>\n",
        "      <th>coordinate</th>\n",
        "      <th>ncp_score</th>\n",
        "      <th>ncp_score_to_noise_ratio</th>\n",
        "    </tr>\n",
        "  </thead>\n",
        "  <tbody>\n",
        "    <tr>\n",
        "      <th>0</th>\n",
        "      <td>9</td>\n",
        "      <td>59700</td>\n",
        "      <td>0</td>\n",
        "      <td>0</td>\n",
        "    </tr>\n",
        "    <tr>\n",
        "      <th>1</th>\n",
        "      <td>9</td>\n",
        "      <td>59701</td>\n",
        "      <td>0</td>\n",
        "      <td>0</td>\n",
        "    </tr>\n",
        "    <tr>\n",
        "      <th>2</th>\n",
        "      <td>9</td>\n",
        "      <td>59702</td>\n",
        "      <td>0</td>\n",
        "      <td>0</td>\n",
        "    </tr>\n",
        "    <tr>\n",
        "      <th>3</th>\n",
        "      <td>9</td>\n",
        "      <td>59703</td>\n",
        "      <td>0</td>\n",
        "      <td>0</td>\n",
        "    </tr>\n",
        "    <tr>\n",
        "      <th>4</th>\n",
        "      <td>9</td>\n",
        "      <td>59704</td>\n",
        "      <td>0</td>\n",
        "      <td>0</td>\n",
        "    </tr>\n",
        "  </tbody>\n",
        "</table>\n",
        "</div>"
       ],
       "metadata": {},
       "output_type": "pyout",
       "prompt_number": 8,
       "text": [
        "   chr  coordinate  ncp_score  ncp_score_to_noise_ratio\n",
        "0    9       59700          0                         0\n",
        "1    9       59701          0                         0\n",
        "2    9       59702          0                         0\n",
        "3    9       59703          0                         0\n",
        "4    9       59704          0                         0"
       ]
      }
     ],
     "prompt_number": 8
    },
    {
     "cell_type": "code",
     "collapsed": false,
     "input": [
      "ncp.tail()"
     ],
     "language": "python",
     "metadata": {},
     "outputs": [
      {
       "html": [
        "<div style=\"max-width:1500px;overflow:auto;\">\n",
        "<table border=\"1\" class=\"dataframe\">\n",
        "  <thead>\n",
        "    <tr style=\"text-align: right;\">\n",
        "      <th></th>\n",
        "      <th>chr</th>\n",
        "      <th>coordinate</th>\n",
        "      <th>ncp_score</th>\n",
        "      <th>ncp_score_to_noise_ratio</th>\n",
        "    </tr>\n",
        "  </thead>\n",
        "  <tbody>\n",
        "    <tr>\n",
        "      <th>2996</th>\n",
        "      <td>9</td>\n",
        "      <td>62696</td>\n",
        "      <td>0</td>\n",
        "      <td>0</td>\n",
        "    </tr>\n",
        "    <tr>\n",
        "      <th>2997</th>\n",
        "      <td>9</td>\n",
        "      <td>62697</td>\n",
        "      <td>0</td>\n",
        "      <td>0</td>\n",
        "    </tr>\n",
        "    <tr>\n",
        "      <th>2998</th>\n",
        "      <td>9</td>\n",
        "      <td>62698</td>\n",
        "      <td>0</td>\n",
        "      <td>0</td>\n",
        "    </tr>\n",
        "    <tr>\n",
        "      <th>2999</th>\n",
        "      <td>9</td>\n",
        "      <td>62699</td>\n",
        "      <td>0</td>\n",
        "      <td>0</td>\n",
        "    </tr>\n",
        "    <tr>\n",
        "      <th>3000</th>\n",
        "      <td>9</td>\n",
        "      <td>62700</td>\n",
        "      <td>0</td>\n",
        "      <td>0</td>\n",
        "    </tr>\n",
        "  </tbody>\n",
        "</table>\n",
        "</div>"
       ],
       "metadata": {},
       "output_type": "pyout",
       "prompt_number": 9,
       "text": [
        "      chr  coordinate  ncp_score  ncp_score_to_noise_ratio\n",
        "2996    9       62696          0                         0\n",
        "2997    9       62697          0                         0\n",
        "2998    9       62698          0                         0\n",
        "2999    9       62699          0                         0\n",
        "3000    9       62700          0                         0"
       ]
      }
     ],
     "prompt_number": 9
    },
    {
     "cell_type": "heading",
     "level": 1,
     "metadata": {},
     "source": [
      "Calculate moving window nucleosome score"
     ]
    },
    {
     "cell_type": "code",
     "collapsed": false,
     "input": [
      "# use default parameters\n",
      "nuc_score = NucID.utils.moving_window_score(dnase)"
     ],
     "language": "python",
     "metadata": {},
     "outputs": [],
     "prompt_number": 10
    },
    {
     "cell_type": "code",
     "collapsed": false,
     "input": [
      "nuc_score.head()"
     ],
     "language": "python",
     "metadata": {},
     "outputs": [
      {
       "html": [
        "<div style=\"max-width:1500px;overflow:auto;\">\n",
        "<table border=\"1\" class=\"dataframe\">\n",
        "  <thead>\n",
        "    <tr style=\"text-align: right;\">\n",
        "      <th></th>\n",
        "      <th>chr</th>\n",
        "      <th>coordinate</th>\n",
        "      <th>score</th>\n",
        "    </tr>\n",
        "  </thead>\n",
        "  <tbody>\n",
        "    <tr>\n",
        "      <th>59772</th>\n",
        "      <td>9</td>\n",
        "      <td>59773</td>\n",
        "      <td>-10.117660</td>\n",
        "    </tr>\n",
        "    <tr>\n",
        "      <th>59773</th>\n",
        "      <td>9</td>\n",
        "      <td>59774</td>\n",
        "      <td>-9.990562</td>\n",
        "    </tr>\n",
        "    <tr>\n",
        "      <th>59774</th>\n",
        "      <td>9</td>\n",
        "      <td>59775</td>\n",
        "      <td>-10.979497</td>\n",
        "    </tr>\n",
        "    <tr>\n",
        "      <th>59775</th>\n",
        "      <td>9</td>\n",
        "      <td>59776</td>\n",
        "      <td>-12.981239</td>\n",
        "    </tr>\n",
        "    <tr>\n",
        "      <th>59776</th>\n",
        "      <td>9</td>\n",
        "      <td>59777</td>\n",
        "      <td>-18.061077</td>\n",
        "    </tr>\n",
        "  </tbody>\n",
        "</table>\n",
        "</div>"
       ],
       "metadata": {},
       "output_type": "pyout",
       "prompt_number": 11,
       "text": [
        "       chr  coordinate      score\n",
        "59772    9       59773 -10.117660\n",
        "59773    9       59774  -9.990562\n",
        "59774    9       59775 -10.979497\n",
        "59775    9       59776 -12.981239\n",
        "59776    9       59777 -18.061077"
       ]
      }
     ],
     "prompt_number": 11
    },
    {
     "cell_type": "code",
     "collapsed": false,
     "input": [
      "# smooth the score\n",
      "nuc_score['smoothed'] = NucID.utils.lowess_smooth(nuc_score.score.values, fracs = 0.008)"
     ],
     "language": "python",
     "metadata": {},
     "outputs": [],
     "prompt_number": 12
    },
    {
     "cell_type": "heading",
     "level": 1,
     "metadata": {},
     "source": [
      "Visualization"
     ]
    },
    {
     "cell_type": "markdown",
     "metadata": {},
     "source": [
      "Some visualization code"
     ]
    },
    {
     "cell_type": "code",
     "collapsed": false,
     "input": [
      "import matplotlib.pyplot as plt \n",
      "from matplotlib import gridspec\n",
      "import brewer2mpl\n",
      "\n",
      "graph = imp.load_source('graph', home_dir+'/bithub/coding_space/pytools/graphical_tools.py')\n",
      "color_palette = imp.load_source('colors', home_dir+'/bithub/python_notebooks/nucleosome_position/tools/Color Palette.py')\n",
      "#colorbrewer2 Dark2 qualitative color table\n",
      "dark2_colors = brewer2mpl.get_map('Dark2', 'Qualitative', 7).mpl_colors\n",
      "\n",
      "def remove_border(axes=None, top=False, right=False, left=True, bottom=True):\n",
      "    \"\"\"\n",
      "    Minimize chartjunk by stripping out unnecesasry plot borders and axis ticks\n",
      "    \n",
      "    The top/right/left/bottom keywords toggle whether the corresponding plot border is drawn\n",
      "    \"\"\"\n",
      "    ax = axes or plt.gca()\n",
      "    ax.spines['top'].set_visible(top)\n",
      "    ax.spines['right'].set_visible(right)\n",
      "    ax.spines['left'].set_visible(left)\n",
      "    ax.spines['bottom'].set_visible(bottom)\n",
      "    \n",
      "    #turn off all ticks\n",
      "    ax.yaxis.set_ticks_position('none')\n",
      "    ax.xaxis.set_ticks_position('none')\n",
      "    \n",
      "    #now re-enable visibles\n",
      "    if top:\n",
      "        ax.xaxis.tick_top()\n",
      "    if bottom:\n",
      "        ax.xaxis.tick_bottom()\n",
      "    if left:\n",
      "        ax.yaxis.tick_left()\n",
      "    if right:\n",
      "        ax.yaxis.tick_right()"
     ],
     "language": "python",
     "metadata": {},
     "outputs": [],
     "prompt_number": 13
    },
    {
     "cell_type": "code",
     "collapsed": false,
     "input": [
      "min_coordinate = dnase_counts.coordinate.iloc[0]; max_coordinate = dnase_counts.coordinate.iloc[-1]\n",
      "\n",
      "fig = plt.figure(figsize = (15, 15/1.33), dpi = 1200)\n",
      "gs = gridspec.GridSpec(4, 1, height_ratios=[1, 3, 3, 3], hspace = 0.4) \n",
      "\n",
      "#### add genomic features here\n",
      "orf_starts = [62728, 60694]\n",
      "orf_ends = [61013, 57338]\n",
      "\n",
      "plt.subplot(gs[0])\n",
      "arrow_length = 50\n",
      "\n",
      "plt.arrow(orf_starts[0], 3, orf_ends[0]  - orf_starts[0] + 1.1 * arrow_length, 0, \n",
      "         head_width=0.5, head_length=arrow_length, linewidth=5, fc='#696599', ec='#696599')\n",
      "\n",
      "plt.text(orf_ends[0]+100, 3.5, 'MCM10', color='#696599', fontweight='bold', fontsize=10, style='italic')\n",
      "\n",
      "plt.arrow(orf_starts[1], 3, orf_ends[1]  - orf_starts[1] + 1.1 * arrow_length, 0, \n",
      "         head_width=0.5, head_length=arrow_length, linewidth=5, fc='#696599', ec='#696599')\n",
      "plt.arrow(orf_starts[1], 3, min_coordinate  - orf_starts[1] + 3 * arrow_length, 0, \n",
      "         head_width=0.5, head_length=arrow_length, linewidth=5, fc='#696599', ec='#696599')\n",
      "plt.text(orf_starts[1]-100, 3.5, 'ESL1', color='#696599', fontweight='bold', fontsize=10, style='italic')\n",
      "\n",
      "plt.xlim(min_coordinate, max_coordinate)\n",
      "plt.ylim(2.5, 4.5)\n",
      "plt.yticks([])\n",
      "plt.xticks([])\n",
      "remove_border(left=False, bottom = False)\n",
      "\n",
      "####################################################\n",
      "\n",
      "plt.subplot(gs[1])\n",
      "graph.ploth(dnase_counts.coordinate.values, dnase_counts.fwd_count.values, \n",
      "            color = color_palette.tableau20[0], label = 'Watson', linewidth=1)\n",
      "graph.ploth(dnase_counts.coordinate.values, -1*dnase_counts.rev_count.values, \n",
      "            color = color_palette.tableau20[2], label = 'Crick', linewidth=1)\n",
      "plt.xlim(min_coordinate, max_coordinate)\n",
      "plt.legend(loc = 'upper left', fontsize = 12, frameon = False, ncol=2)\n",
      "plt.text(60000 - 250, 100, 'A', fontsize=20)\n",
      "remove_border(bottom = False)\n",
      "plt.ylabel('Raw\\nDNase-seq data')\n",
      "plt.yticks([-150, -100, -50, 0, 50, 100], [150, 100, 50, 0, 50, 100])\n",
      "plt.xticks([])\n",
      "####################################################\n",
      "\n",
      "plt.subplot(gs[2])\n",
      "graph.ploth(dnase_counts.coordinate.values, dnase.fwd_count.values, \n",
      "            color = color_palette.tableau20[0], label = 'Watson', linewidth=1)\n",
      "graph.ploth(dnase_counts.coordinate.values, -1*dnase.rev_count.values, \n",
      "            color = color_palette.tableau20[2], label = 'Crick', linewidth=1)\n",
      "plt.xlim(min_coordinate, max_coordinate)\n",
      "plt.legend(loc = 'upper left', fontsize = 12, frameon = False, ncol=2)\n",
      "plt.text(60000 - 250, 6, 'B', fontsize=20)\n",
      "remove_border(bottom = False)\n",
      "# plt.xlabel('Coordinate on Chromosome IX', fontsize=20)\n",
      "plt.ylabel('Transformed\\nDNase-seq data')\n",
      "plt.yticks([-6, -4, -2, 0, 2, 4, 6], [6, 4, 2, 0, 2, 4, 6])\n",
      "plt.xticks([])\n",
      "####################################################\n",
      "\n",
      "ax1 = plt.subplot(gs[3])\n",
      "ax2 = ax1.twinx()\n",
      "ax1.plot(nuc_score.coordinate, nuc_score.smoothed, linewidth = 1.5, color = dark2_colors[0])\n",
      "ax2.vlines(ncp.coordinate, 0, ncp.ncp_score_to_noise_ratio,color = dark2_colors[1], \n",
      "           linewidth=1.45, label = 'Brogaard et al. NCP score-to-noise ratio')\n",
      "ax1.set_ylim(-25, 20)\n",
      "ax1.set_yticks([-25, -10, 0, 10, 20])\n",
      "ax1.set_ylabel('Nuc. Score', color = dark2_colors[0])\n",
      "ax2.set_ylabel('Brogaard et al.\\nNCP score-to-noise ratio', color = dark2_colors[1])\n",
      "ax1.set_xlim(min_coordinate, max_coordinate)\n",
      "ax1.spines['top'].set_visible(False)\n",
      "ax2.spines['bottom'].set_visible(False)\n",
      "ax2.spines['top'].set_visible(False)\n",
      "ax1.text(60000 - 250, 20, 'C', fontsize=20)\n",
      "ax1.set_xlabel('Coordinate on Chromosome IX', fontsize=20)\n",
      "remove_border(axes = ax1)"
     ],
     "language": "python",
     "metadata": {},
     "outputs": [
      {
       "metadata": {},
       "output_type": "display_data",
       "png": "iVBORw0KGgoAAAANSUhEUgAAA60AAAKpCAYAAABXQ8p9AAAABHNCSVQICAgIfAhkiAAAAAlwSFlz\nAAALEgAACxIB0t1+/AAAIABJREFUeJzs3Xd4HdWd//HPV5Ily7Yk994NpgUIvdjYcggQTE8gJLBZ\nSpbk+aUQnM0msJsEZxsku5CFTdiFbBJgAyTAQjChGgfjgsEJmOCCccEGuTdZkiWrn98ftzAez23S\nvboj6f16Hj26d+7Mme/MnDlzvjNz55pzTgAAAAAAhFFBvgMAAAAAACARklYAAAAAQGiRtAIAAAAA\nQoukFQAAAAAQWiStAAAAAIDQKsp3ADnGo5EBAAAA9GaW7wA6iyutAAAAAIDQImkFAAAAAIQWSSsA\nAAAAILRIWgEAAAAAoUXSCgAAAAAILZJWAAAAAEBokbQCAAAAAEKLpBUAAAAAEFokrQAAAACA0CJp\nBQAAAACEFkkrAAAAACC0SFoBAAAAAKFF0goAAAAACC2SVgAAAABAaJG0AgAAAABCi6QVAAAAABBa\nRfkOAAA64+UX39EzTy8/ZNj0GcfovAtO1FNPvKEN63eoublVgwb116VXnK6TTp6kt/68Ub/6xQJ9\n6tMn6HNXnXnItE/87nWteHuTavbX67hPjNfXvvmZrlwc5EGsDpmZ/v0/rlPfvsVqbGzRj374O9XW\nNOjkUybry1/5tNau2aIXnl+hqo/2qLCwQBMnDde1fz1DhQUFuvXv/leS9PkvTNPMWcdJkh7/7VK9\n9upqmZnuvvcGFRcX6X8eeEXr3t+m+gONmjHzWF19zfR4HKtXfqRnnv6Tdu2q0dhxQ/TX11dq+IiK\nvKwTAADChCutALq1bVv3SZKu+NyZuvGmc3XjTefqU+cer//6z5f0wcaduuiSU3TV1WdrwqThKinp\nc8g0Y8cOPqy8+gONmjp1lCRpTMDn6Hli9cE5afOm3ZKkF59fodqaBknSmHFD9MaydfrPe55X9b4D\nmn3xKbrw4pNVW3tQffv20dbo9JK06YOdkTK37dOihWskSUOHlau4uEiNjc0qMNPkySPi5X483S79\n930vq29psS694jRt3rRLv310Se4XHgCAboArrQC6tW1bqyWZTj5lsoqLi2QFUlNjq3bsqNaUI0bp\ntNOPUL/+JZp2ztHxabZuiSQZowOS0uu//Cm9umCV/rR8g8aMIWntDbZtrVZxcR/1H1CiTR/s1JAh\nZfrjKys1ctQg7dherUED++uxR5ao/4C++u5tV2hAWV9J0qfOPT46faQ+jRw1SJs27ZIkPfHbZRox\ncqB2bK+O16O+fYt1403n6snHl0nSIfVr3u//JOecrruxMjL/+Sv10Yd7umoVAAAQalxpBdBttbW1\na8eOaklOP/j7R/W97zysu34yTwMG9FXf0mJt3LBdf/fth/XTf39WGzfsiE+3bes+FRQUaNSoQYHl\nxpKQMWOHBH6OniNWh0aPGawpR4zUpg926f+eWKZJk4dr5MiBkqT6+ia1tLRq+jnHxBNWr9iV1nNm\nHKM9u2u1ZNF72rhhu86edpSkw6/Yb9u6T2am0dGktaGhSeve36bRowdryJAySdKBA40yy9liAwDQ\nrZC0Aui2du2sUVtbu446eoxunnORbp5zkW686VwVlxTplm9frFNOm6J+/Yq1Yf123fezF9XW2q7G\nxhbt3VunYcPLVVRUGFju1i17VVhYqBEj+T5hTxerQ6PHDNKUI0Zq7XtbtGrlR7rq6rO1bes+9e1b\nrG3bIknpiGgS67dt6z4VFRXqjDOnysz0+G9f18xZx6m1tV2S4slpzNYt+zR48ID47eo7d9RIcvEr\n/7t31aqlpZWTJgAARJG0Aui2Yle4Jk4arqOOHqOjjh6jsWOHqLW1TePGD9WNf3Ou7vy3L2nosHI1\nHmxRS2urtm+rlnR4IhHjnNP27dUaOXKgCgpoInu6WB0aPWawpkwZqba2dp097SiNGDlQu3fXavSY\nwRowIHJ1dd/eukOmbWtrV3u70/Zt1Ro5apBK+xVrzNghKi0t1uyLT4knu2PGfJx81tUe1IEDB331\nz0mSBvQvkSStWvWRJOnMs6fmZJkBAOhu+E4rgG4rdhtvbW2D/rx8g6TIQ2+eevINjRw1SBMmDNP+\n/fWq3ndARx09OnLVLDpN9b4D+v1Tb0qShg+v0NnTj9bbb32gvXvr1NzcqoJC09Ila3X8CeNVXt4v\nPwuInIvfCj5msEaPGaTLP3eGzjr7KO3YXi3nnEaPGayTT5miV15+V/Nf+ouswFRaWqxV736k8y44\nUQMH9Y9cFY0moZdcdqqKi4tUWhqpa8XFfTRseLkkadnS97VzZ40kqaWlTUuXrNWpp03RyJGDVFzc\nR6tXVWnIsFV6/tm3NGx4hU477Yj8rBQAAEKGpBVAtxVJOEzLlr6vZUvfl2S6+NJTNGbMYK1eVaU3\nl61Tv34lOu2MI3XF586ITBO9+rV5025t3rRLkmnaOUfrrGlH6eFfL1RLS6skU9VHe/To/y7WP93x\nxXwtHrpArA6NHj1YZqbzzj9RkrRq5UeSTGPGDtb4CUP11a9doD/M+7NefG6FSvsV64gjRmr8hKFa\n+95WSaZRYyLfj/7E8eMlRa7C7twR+ekaSarZ36DfPPyaJJNkWvveFm1Yv11nnT1VBSUF+tL1M/X0\nk2/qmaeW68ipo/SFa6ersIgr/QAASJI55/IdQy716IUDAAAAgBS6/aP9OI0bIu3t5NgAkA20pwAA\n9BwkrXnmnNP7a7fqv372YvT2RgBAR7S1teutP2/Uv//4meit3wAAoCfgO6150tzcqj+9uUGvLlip\nbdGnmR5/woQ8RwUA3c+BA41aunitXlu4Wvur6/MdDgAAyDKS1i5WXX1Aixau0ZJF76m+vinf4QBA\nt7Vt2z69umCVlr+xXi0tbfkOBwAA5AhJaxfZ9MFO/fGVlVrx9ia+awUAHdTe7rR61Uf64yur9P7a\nrfkOBwAAdAGS1hxqbW3Tirc26dUFK7V58+58hwMA3dbBg8164/V1WvjqKu3eVZvvcAAAQBciac2B\nurqDWrLoPS1auEY1NQ35DgcAuq3du2q18NVVWrb0fTU2tuQ7HAAAkAckrVm0pWqvXl2wUn9avlGt\nrXy/CgA6IvJU9W16dcFKrVr5kXr2z4kDAIBUzPXg3sDXvvJAz104AF2uuLhIRX0KVdq3WP90xxfz\nHU6P09zcquVvrtfCBaviT1UHAACdc98DX7F8x9BZXGkFgDQ1N7equblVjQeb8x1Kj1JdfUCvvbpG\nSxfzVHUAAHA4klYAQF7s23tAT//fGzxVHQAAJFWQ7wAAAL3ToMH9VXnuJ3TSyZNUUNDt71wCAAA5\nwpVWAEBemJmmTBmpKVNGqrr6gBYtXKMli7hFGAAAHKpHJ62VnzquS+bjnNOePXXaUrVXNfs7/hM3\npaXFGjxkQBYjA5BNkyYNV1l5qfr2Lc53KD3OoEEDdNkVp+vC2Sdr+fL1enXBKm3vxMOYjj5mjEaO\nGpjFCAEAQL706KcHS+ryhauq2qOFC1Z16GdvrvmrczR9xjE5igwAuo/O/uzNd753mSZPGZGb4AAA\n6F66/XdwevSV1nwYN26ovnR9pS7/3Blasug9LVq4RjU1Hb/6CgC9kZnp6GPG6Ohjxmj3rlotfHWV\nli19X42NLfkODQAAdDGutOZYa2ubVry1Sa8uWKnNm3cnHZcrrQCQ2MGDzXrj9XVa+Ooq7d5Vm3Rc\nrrQCABDHlVYkV1RUqNPOOEKnnXGENn2wU68uWKW33/qAn3cAgAyVlhZr1rmf0MxZx2n1qo/06oJV\nWvve1nyHBQAAcoyktQtNmjxCkyaP0GevPFOvLVzNUzIBoAMKCkzHnzBBx58wQdu27dPCBav05hvr\n1dKS2XMEAABA98DtwXnU3NyqPy3foFcXrNK2rfu4PRgAOqi+vlFLF6/Va6+uVnV1PbcHAwDwsW5/\nezBJawg457Tu/e3q06eQThYAdEJbW7v+smKzxk8YqqHDyvMdDgAAYUDSGnI9euEAAAAAIIVun7QW\n5DsAAAAAAAAS6ekPYur2ZxUAAAAAoDfjSisAAAAAILRIWgEAAAAAoUXSCgAAAAAILZJWAAAAAEBo\nkbQCAAAAAEKLpBUAAAAAEFokrQAAAACA0CJpBQAAAACEFkkrAAAAACC0SFoBAAAAAKFF0goAAAAA\nCC2SVgAAAABAaJG0AgAAAABCi6QVAAAAABBaJK0AAAAAgNAiaQUAAAAAhBZJKwAAAAAgtEhaAQAA\nAAChRdIKAAAAAAgtklYAAAAAQGiRtAIAAAAAQoukFQAAAAAQWiStAAAAAIDQImkFAAAAAIQWSSsA\nAAAAILRIWgEAAAAAoUXSCgAAAAAILZJWAAAAAEBokbQCAAAAAEKLpBUAAAAAEFokrQAAAACA0CJp\nBQAAAACEFkkrAAAAACC0SFoBAAAAAKFF0pomM/sHM2uP/k3NdzwAAAAA0BuQtKbBzEzS33gG3ZSv\nWAAAAACgNyFpTc/5kiZIeljSbknXmVmf/IYEAAAAAD0fSWt6YldWH5D0iKShkq7IXzgAAAAA0DuY\ncy7fMYSamY2QVCXpA+fc0WZ2vKS/SPqjc+7T+Y0OAAAAAHo2rrSmdoOkIkkPSpJzbqWkFZJmmdmU\nPMYFAAAAAD0eSWsSngcwtSnyfdaYX0sy8UAmAAAAAMgpbg9OwszOlTRf0ovOudme4YMlbZO0X9JY\n51xrnkIEAAAAgB6NK63JfSX6/yHvQOfcPkl/kDRc0mVdHRQAAAAA9BahSVrN7FdmttPMVnqGDTaz\n+Wa2zsxeNrOBns9uM7P1ZrbWzM7PQTzDJF0effuYmbV7/yR9NvrZV4JLAAAAAAB0VmhuDzazcyQd\nkPSwc+746LCfSNrjnPuJmX1P0iDn3K1mdqykRyWdJmmMpFckTXXOtWcxnu9I+omkP0t6J8Folyny\n8zdTnHObszVvAAAAAEBEUb4DiHHOLTazib7Bl0qaGX39kKSFkm5VJFl8zDnXImmzmW2QdLqkN7IY\n0k2SnKSvOef+HDSCme2Q9H1FHtb0/SzOGwAAAACgEN0enMAI59zO6OudkkZEX4+WtMUz3hZFrrhm\nhZlVSjpS0spECWvUL6P/bzCzwmzNHwAAAAAQEZorrak455yZJbuX+bDPzMzdfvvt8feVlZWqrKxM\nOa9rr71Wjz32mO65554Tg8r1xKQLLrhAr7zyyuinnnqKJwgDAAAACBvLdwCdFZrvtEpS9PbgZz3f\naV0rqdI5t8PMRkl61Tl3tJndKknOuTuj470o6Xbn3Ju+8lyYlg8AAAAAuli3T1rDfnvwPEnXRV9f\nJ+n3nuFfMLNiM5ukyK28y/MQHwAAAAAgh0Jze7CZPabIQ5eGmlmVpB9KulPS42b2ZUmbJX1ekpxz\na8zscUlrJLUq8rAkLqkCAAAAQA8TqtuDs43bgwEAAAD0ctweDAAAAABArpC0AgAAAABCi6QVAAAA\nABBaJK0AAAAAgNAiaQUAAAAAhBZJKwAAAAAgtEhaAQAAAAChRdIKZNkdd9yhm266KeV4119/vX7w\ngx90QUQAAABA90XSGiJ33HGHZs+efciwI488MnDY448/nrCchQsXaty4cTmJsbd69NFHdeqpp6qs\nrEyjR4/W7NmztXTp0sBxb7vtNv3iF79IWaaZyazb/9YzAAAAkFMkrSEyc+ZMvf7663LOSZK2b9+u\n1tZWvfPOO2pvb48P27hxo2bMmJHPUHuVu+++W3PmzNH3v/997dq1S1VVVfr617+uefPmHTZuW1tb\nRmXHtjXQnfx0/rp8hwAAAHoRktYQOfXUU9XS0qJ33nlHkrR48WLNmjVLU6dOPWTYlClT9OKLL+qY\nY45ReXm5pkyZogceeECSVF9frwsvvFDbtm1TWVmZysvLtWPHDi1fvlynnnqqKioqNHLkSP3t3/5t\nfL7z5s3Tcccdp0GDBmnWrFlau3Zt/LOJEyfqrrvu0oknnqiBAwfqC1/4gpqamrpwreRXTU2Nbr/9\ndt133326/PLLVVpaqsLCQl100UX68Y9/rLlz5+rKK6/Ul770JVVUVOjBBx/U3Llz9aUvfSlexpIl\nS3T22Wdr0KBBGj9+vB5++OHD5lNXV6dZs2bplltu6crFAzrkngXr8x0CAADoRUhaQ6S4uFhnnHGG\nXnvtNUnSokWLdM4552j69OlatGhRfNiMGTM0YsQIPf/886qtrdWvf/1rzZkzRytWrFD//v314osv\navTo0aqrq1Ntba1Gjhypb33rW5ozZ45qamr0wQcf6POf/7wkad26dbrmmmt07733as+ePZo9e7Yu\nueQStba2SorcwvrEE0/opZde0qZNm/Tuu+/qwQcfzMv6yYdly5apsbFRV1xxRcJx5s2bp6uuuko1\nNTW69tprD7nl98MPP9Ts2bP1rW99S3v27NE777yjE088Mf65mWnv3r0699xzdc455+g//uM/cro8\nAAAAQHdTlO8Awmjirc9lpZzNd16U8TQzZ87UokWLdMstt2jJkiWaM2eORo8erfvvv1+33HKLFi9e\nrO985zu68MIL49PMmDFD559/vhYvXqyTTjop8JbT4uJirV+/Xnv27NHQoUN1xhlnSJJ+97vf6eKL\nL9a5554rSfrOd76je+65R6+//nr8FuSbb75ZI0eOlCRdcskl8au+XWpuRZbKqclo9L1792ro0KEq\nKEh8fufss8/WpZdeKknq27fvIev/0Ucf1Xnnnaerr75akjR48GANHjw4/vnWrVtVWVmp66+//pCr\n3wAAAAAiSFoDdCTZzJYZM2bo5z//uaqrq7V7925NmTJFw4YN03XXXafq6mqtXr1aM2bM0AsvvKAf\n/ehHWr9+vdrb29XQ0KATTjghYbm//OUv9cMf/lDHHHOMJk2apNtvv10XXXSRtm/frvHjx8fHMzON\nGzdOW7dujQ+LJaySVFpaqm3btuVm4ZPJMNnMliFDhmjPnj1qb29PmLiOHTs24fRVVVWaPHly4GfO\nOT333HMqKyvTV7/61azECwAAAPQ03B4cMmeeeaZqamr0i1/8QtOmTZMklZeXa/To0XrggQc0ZswY\njRo1Sp/73Of03e9+V7t27VJ1dbVmz54dv8IX9ETaI444Qo8++qh2796t733ve7ryyivV0NCg0aNH\n68MPP4yP55xTVVWVxowZExhfb3va7VlnnaWSkhI9/fTTgZ+negLw+PHjtXHjxoTT3nTTTbrgggs0\ne/ZsNTQ0ZCVmAAAAoCchaQ2Z0tJSnXrqqbr77rsPeULw9OnT48Oam5vV3Nwcv231hRde0Msvvxwf\nd8SIEdq7d69qa2vjw37zm99o9+7dkqSKigqZmQoLC3XVVVfpueee0x//+Ee1tLTorrvuUt++fXX2\n2WcHxtfbnnZbUVGhf/zHf9TXv/51PfPMM2poaFBLS4teeOEFfe9730s5/TXXXKNXXnlFTzzxhFpb\nW7V371795S9/kfTxuvzZz36mo446SpdccokaGxtzujwAAABAd0PSGkIzZ87U7t27NX369Piwc845\nR3v27NGMGTM0YMAA3Xvvvfr85z+vwYMH67HHHtNll10WH/foo4/WF7/4RU2ePFmDBw/W9u3b9dJL\nL+kTn/iEysrKNGfOHP32t79VSUmJjjrqKP3mN7/RN7/5TQ0bNkzPPfecnn32WRUVBd853ht/W/Tb\n3/627r77bv3zP/+zhg8frvHjx+u+++6LP5zJvz6862j8+PF6/vnnddddd2nIkCE66aST9O677x42\n3gMPPKCxY8fq8ssv71VPZwYAAABSsZ585czMXE9ePgDIh4m3PpfX7/4DAICMdPsrTlxpBQAAAACE\nFkkrAECS9NP56/IdAgAAwGG6RdJqZpvN7F0zW2Fmy6PDBpvZfDNbZ2Yvm9nAfMcJAN3ZPQvW5zsE\nAACAw3SLpFWSk1TpnDvJOXd6dNitkuY756ZKWhB9DwAAAADoQbpL0iod/gXiSyU9FH39kKTLuzYc\nAAAAAECudZek1Ul6xcz+bGY3RYeNcM7tjL7eKWlEfkIDAAAAAORK8I9xhs8059x2Mxsmab6ZrfV+\n6JxzZhb42zZz586Nv66srFRlZWUu4wQAAAAAZFG3SFqdc9uj/3eb2dOSTpe008xGOud2mNkoSbuC\npvUmrQAAAACA7iX0twebWT8zK4u+7i/pfEkrJc2TdF10tOsk/T4/EQIAAAAAciX0Sasi31VdbGbv\nSHpT0h+ccy9LulPSeWa2TtKnou8BAFmQyW+28vuuAAAgl0KftDrnNjnnPhn9+4Rz7o7o8H3OuU87\n56Y65853zu3Pd6wA0FNk8put/L4rAADIpdAnrQAAAACA3ivrSauZTTWzJ83sPTPbFP37INvzAQDk\nD7cEAwCArpKLK62/lvTfklokVUp6SNIjOZgPACBP0rklmMQWAABkQy6S1lLn3CuSzDn3oXNurqSL\ncjAfAEAX6UgCynddAQBANuQiaW00s0JJG8zsG2b2WUn9czAfAEAXIQEFAAD5kouk9VuS+km6WdKp\nkv5KH/+eKgCgB+JWYAAAkCu5SFonOefqnHNVzrnrnXOflTQ+B/MBAIQEV2IBAECu5CJpvS3NYQCA\nHurq+5flOwQAANBDFGWrIDO7UNJsSWPM7F5JFv2oTJEnCQMAQuin89dpznlTs1rmm5v2ZbU8AADQ\ne2XzSus2SW9Jaoz+j/3Nk3RBFucDAHnV076/2RW39va0dQYAALpO1pJW59xfnHMPSjrCOfeQc+7B\n6N9TzrnqbM0HAPKtJ39/M1fJZU9eZwAAILdy8Z3WiWb2pJmtMbNN0b8PcjAfAECWdSa55GoqAPQO\ntPfoarlIWn8t6b8ltUqqlPSQpEdyMB8AQJq6ooPB1VQA6B1o79HVcpG0ljrnXpFkzrkPnXNzJV2U\ng/kA6CHCcMY2WzF4ywnDcsV0pIPx0/nr8roMYVp/AAAgf3KRtDaaWaGkDWb2DTP7rKT+OZgPgB4i\nDGdssxWDtxzv6zAmYKliumfB+pxum9j8/f+98w+zoPUXxu0MAIigje6+cpG03iKpn6SbJZ0q6a8k\nXZeD+QBAtxHGBCxRTMkO6pke8JNdrY3N3///6vuXdYuORdD6y9d27g7rC+gJ2Ne6tzAei5GerCet\nzrnlzrk651yVc+5659xnnXNvZHs+vRkNJoBcSnZQ93/W0au1yaZ7c9O+rHUsekt7SUcM6Brsa72n\nXUW4ZC1pNbNnPX/zfK/nZWs+oMHsLnpyo96Tly1THbnymMvxO1re1fcv61B5mbZHsSuvXdWOdWV7\nGab9IlexhGkZe4KwtgdAkFh96U790O5ax/3Px0jn6yjddVnTlc0rrXdF/z6QdFDSA5J+Iak+Ogw9\nRDZ3ip68g3WnRj1TYVq2fNehTNdFrsfvaHlvbtqX1fkkm3/Yv+vrl26MYdovchVLmJaxO0l1i3y6\nuqo98Mr1PtpV3w3vDm1N2IV1/0920jXdO33CVj9iccdO8gYdN/3LFtbtky1ZS1qdcwudcwslTXfO\nXe2ce9Y5N88590VJ52RrPpnKRiUMS0UOS7KYzZ2io080DaNM4ursMiSavqNn3cKwnwQ9jMd7IEq0\nbF3RSKdzFTLZus9XnU1nvp2JLd16mGy498DckXl1hXsWrE/5Pd/u0AnKVHeP3ysfiZdXOnUoX1K1\nVcm++56Ndj/oKwe5OLEVNJ+eVMdzLd93BSTz5qZ9h2zPjuyP+Uz4ksXbkWcnhKH/kQu5eBBTPzOb\nEntjZpMVeTBT1pnZZ8xsrZmtN7PvBY2TjaQoLGcuMv1eWKZlpSObHdyujj1INpNHbyOYToPZmXkm\nmj7RWbfOdqjSkU79TNax9z+MRzr06l/QsnXkltaOdFS8ccSm9T8syBvf1fcvC3yKsH++qeJPdOBJ\nt/ObTj3rzJWWoGn9y57uvFLFkWmc2T4xlCr2RB2Lrkxm/fWps+vDW2/z3cHvbMLX2WNeou0YdPIs\n0TSdqf+J4kr381SdYu9ypFpm73RBbVuq6VK1Uf51maid+en8dWk/tC1RMp5J5z9duT5ZnIt9MZ22\nItm6yuRkR0diSod3e6bT94nV9XSW3XvcT6Uzba1fR/s4/v5HT0lcc5G0zpH0qpm9ZmavSXpVkScK\nZ1X0Z3V+Jukzko6V9EUzO6YjZXkbaO/GTvfKSaKzO11RSfwHmHQ6SP5Yg6ZLtCNncpuFf2fz7zj+\nA1PQOk3WWUo3QUwnUfKXF7SOgspKlCTm6kRH0AE8neVP56x1onLTXc9B06a6dSVRbKk6IrHPOnJL\na+zAFlS/k3UG/O2D92FB/nWUKC7/ssbODgfFEHTgie1T/mTCu6+l24nM5GCY7skPqfO3GSdLvJIN\nkw7vfAdJ1Lb5h2XrlrJ0ktmOlBvEv+6DTpwk4u+UBSUniepWJglSos9TlZGs3evoCax0BLXp3jqW\n7Ja9ztQh734dtGz++fq3m39bBa2jRMfjWP1MtGypEpSgepJOXQzaN2Pj+pcv1v6memhbUFuaaLyg\n95m0fanmFdQnCtomqRKpoHqXav8J6pP5y0y1jZPxbyevRPPNpO30b/90+iXJ6o93HonqZlD99Z/A\nTrYvTLtzQdL4Ei2TV9DxNNWy+/sH3mHdXS6eHvyipKmSvqXIz94c5Zx7KdvzkXS6pA3Ouc3OuRZJ\nv5V0WUcK8jbQyc5OJKrYQWd3/K+zJdkOkuxsf6LxE02XbEdOVX5sWNDOluggHptfLFnxdpISdZbS\nTRBTJUr+YUHb0/s/0yTO3xnsjHSXJdk06RyQ/OsjqBwp8TKlW/cT1U1/R8S/zrOxb8XWQ6JtHzR+\nss8yiSvR+o1dpUzUGfYmud6YYvtaup3EWMKcqa448CVLvLxJe7onX4I+T9RB99eHVPtSOvOL8XdG\nU3WUEnWe0p1XJtN6lz+2/tNt8xMdP/zzT1Q3vfOPSXa1Pmh8KXnnLlk5HZGqHUg2j3TrkHe/9i9b\nUJlB282/nrzlBK3jZNvIn9QETZfOsiaTrN+RTr30xzTtzgWB9TMo2UhWh5PN17tfJztGeJch2bCg\nPk+i9sj264PsAAAgAElEQVT7eez4kSz+oDuG0mmTMhF0LErnJK6ff1ljxz5/XyzddiqT+pMoeQ86\noZJsH9q6vzGt+hDUv0zG33dI1MdMVR+7o6JcFOqca5T0Ti7K9hgjqcrzfoukM4JG/On8dXrjg706\nc/IQSYq/nnPe1Pg4iSqev1L8dP66+HSpzvB4x/dOFxSXdxxvuW98sFeS4rEHdeD8r2PvvcsYm9fv\nvnpWYJze6fzjTLtzQdJlDConVZmJGtc3N+1L2MAla7x/On+dnnyrSktvPTe+7E++VaUrTxkX/zy2\n/EHbNJ3Ohj/eRJ3KoIZtznlTD1uuq+9fpi3VDVp667mB8/GadueCwPESdXZj9cY/v6B6FDROsoY4\nnYNRrCzvNLG66I0jHf4DVdCyBU0TtE/5p03WEZlz3tSMY01Ull+i9ZvOwT3RPnD1/csCOwze1/4r\ntd1FUNIeW4bY9g2qF/7OtLcN9tbJRCcdYvtuonJTxRvj3Tb+4d5pnnyrSlv3N+rJt6oOGZ4sDv8x\nw78ciab1l++dLtl3yZOVIyXex/xxBCVIQfuBv/5623B/rLHxvds10bLHljt2XPDOx3+MT3QMDIox\nNm6yE2yx9jzouP27r56V8spUuv2ATBOooPETHauDhqc6jibrP6V7ciXRuLGyp925QGMH9UvYliba\nF2OfBa3/oP5fTKrEK6i/GdQniu3//mH+5NW7f/mXJaiP4Z+PP+50jvXe/rN06P7gbXu9dwb4j0X+\nNjhoW3o/87ZFifotidZ9On1WP399DmpDEiX1sfWcqC8ZK9vb1/evM/+8M7k6HasXXfUwxXwy51y+\nY+gQM/ucpM84526Kvv8rSWc4577pGcf9v1njVNKnQFvcMFWeOFknHz1O5TveUHlpH40bVCpNPEd1\nr92j9TZJTWOnaWLV09rXZ5SmtH2gjYWTNaXtA/2q7UJdW7JELxefqzML3tM42626mj3aX36MtlSc\nopItSzXK7dKomX+jtxfN08nldapyw1RR855qKo7RuKYNqnH9VDFqirT/o/gyVLlhKjmwRU0Dxmrc\nSeercfF/qu+4T6pm+0aVtNapqahMW9wwDWvbqXLVa42boLG2R33b6lQ+8WTtqlqv3YUjNLFloyTp\nxlFP6YG916uitI9WNwzUlLYP1LdssLbXHNTmcVdoytZnNLysRNtrDkqSlgy4QJc0/F4bCydrTckJ\nuqpwkVY3DNRx/fbribYZOr95gSr+/n29/aOzIstXUaq3a8tUUlSo4wo+VGNLm5qKytTU2q6Soo8v\n2pe01qmt3Wlznyk6ruBD7Wrpq+FlJdpV16TX+p2nq4Zs1upttRrWtlOv9TtPMxvmS5KetUpd4hZq\nd+EIrSk5QTMb5qtpwFgNO/C+1rgJaho7TSVblqqt3WlkRam2VJyis3b9Trta+qqkqEANza0aNeEo\n7apar6YBY7W7rlHDyvqqqPYjDSo4qI2Fk3XcPyzR6n+ZrmFtO9U0YKzKG7dJUnw9Dx93pFZvq9XE\nlo1qLS5XU2u7hpeVqLFun/r2KVSN66dHmqbr2pIlKmmti5fZ+I+jVd1eKknqV1ykJ9tm6MyC91Re\n2kfljdtUMWqKVm+r1XH99ktzVmn1v0zXmpITNP3ASxpVUSo11kgjj4+swB0rpTO/Jm1eHKkvA8er\n7sO3VTZ3h66+f5murPtfzWyYr+E/XK9lv/yOSrYs1cnldWqs26eW9nYdUH8VFhTE68b7NlFHtG9S\nY2HZIduptu/oyLJXnKIpW59R04Cx8fr4cv0ROnZ0hc4qWKO3P6pW09hpOqHqEfWfcJKqqg+q5MAW\nDR93pHZVrdfwc26U3nlEu+qaNLys5JC6vcUNje8P42y36mv26vkBV+iSht/H6/e45g1qLCxTS1u7\nylSvDQWTdKTbpIMFZerbVidXUqGS1jqtbBuvfsVFGta2U23t7Trf/VxLdb3qrb9GlTRLfSsi67Fv\nRWR+nv0utk892+9yHdv0rt5oP0YvD79RV9b9r45telcvn/4rTV/y15pQuFflqteKMdforNoXVV+z\nV63F5SportEB9deggoNqaW/XepukEe27VGBSf1eveuuvdicNKTyo6vZSDVC9Dqi/+rt6uZIKSVJD\nc6t+O+0FfWXpTLUWl0uSCppr1F5codq+o1V7sEWDW7ar3UkDSopU0FyjgwWR9fJ62QWafeBp/bbw\nYp3ff4PKG7dpzYhLVL7jDU1s2ajNfaYc8v/dcdfquI9+I1cSKXtw7VrVFwxQ//YDapdTe3FFvPzS\n9rp4rGaKv663yH9J8deupELWVHPIMO//AYqM7y8jVu4A1ce3q7/8AaqPxyVJ622SjmjfpJqKY1Te\nuE0Nza0qV4MKC0zV7aUqLChQSVGBKkr7qOZgi5pa29XW3q5+xUWqGDVFVdUHNezA+6puL1Vr+XgN\nO/B+vD2MLUuFNejt5rEaa3tUUlSgguYaFchUXzBAfdvq1FhYpuF9GrW1sVj7i0dpYstG9a8Yosa6\nfWoqKjtkXXiXrbiwQE1FZWpobpUklatBteqnzeOu0AlVj+h9m6ij3GbVFwyQJG0cc5neGP8V/c3S\nGWovrlBDc6u223CdPONS1Sx7ULV9R2tc04ZIG7FjZaSuDxyvmu0bVVHaR411+/SIXaQzC97TcWdf\npJ+2fk7nL79Ra0pOiB+zag62qMIaPt5PJKlvhWoOtqi272gV1X6kzeOu0Hd2X6gH2m5X7cgzteKj\najVN/57K3/g3faHtD6ovGKBy1aupqCxyPJO0elutykv7xNuSWJ3sP+Ekaf9HWlb+GR2781kVNdeq\nf0Wk87mrrkklRQWq7Tta5Y3bdKCpVfuLR6m8tI+GHXhfGwsnq3bkmTqrYE18391YODlS7syb1bj4\nP1Wr/hpeVhLfR2NtdZUbFjm2S6r/cEU8jtixLdZG1Bxsibf9xxV8qKqSI1TeuC2yrm23JGlZ+Wf0\niarfaL1NihwDS5qlkcdHyq0Yoq37D6rApEEFB+Ptf6wel7TWHVL3Voy5RlO2PiNJKm2vU1lJHz3R\n5xJdUPeUGgvL1NbernI1qH/FEO2qa9LuwhGSpONGl0fa2T6NqnH9dKCpVX0KI+348D6NWt0+QeNb\nNsTb/Vibu7phoMZGl6Ni1BS9/VG1JOnk8jpp4Hht//D9eNz9Xb0KLVLvt7ihKikq1OCW7erv6tVY\n+PH+GqvjsWNF7Bizr/zo+LYfa7sjx+KKUi0r/4zG1ryl8sZtKmqu1bvjrtVZu36nt5vHakqfffF1\nVK4GtRaXq6i5VvUFA+L7ondfGGt7VK561ap//P8WN1RHuk3xtrlv2WDV1ezRwYIy7S4coXHNG1RT\ncYwqat5TY2GZvPq3H1Bt9HEroypK9UTbDM0+8HR8/UuK9wdi9bu8cZsqzrpeT7xVpatanpUk1bh+\nampt17NWqS+0/UHv28R4f6nKDdPg2rWR5a59UXU1e1Q2IdJ3ix0/29rbNWrCUWqseifez5my9RmV\nttdpf/kx8T6KJBU110qSNveZorG2+5C+V1Nre3zb65PXqmrFyxpcu1b9Z94szbpNNf96lJ5sm6Ev\nD1gWP0aXN25TU2u7nmyboWtLlsiaalRcWKDq9lL1Ky6K759FzbXx46D3mBE75tWqf7y97N9+QPUF\nA7S7cIQamls1taRaBc01WjXur3TszmfjbVCVG6ai2o/UWj5eWypOkSSdVbAmElv1QW2pOEUTq55W\nuRq0r/xo7a5rjNfLWF/0KLdZrcXlqrAG7Wrpq75tdfFjzb4+ozTWdquguUbOSY2FZfF+YaztLW2v\nix+vYm10uRrU5pzKBw7V9pqD2tdnlI7rt1+76pqi/bo1OnnGpVr9+nPxfmSsPxSL+4SqR+Ltw0Br\n0OY+kbayduSZOmvX79TY0qaNhZPV1NoW79NvKJh0yPLV1+xVrfppgOpV6/qrT2GBWtra1V4xXgNr\n35NzkeNOuRoOOf4PbN4uSepTWKDS9jodLIi0LZI0au5GUzfXnZPWMyXNdc59Jvr+Nkntzrkfe8Zx\n7vby9Audeav02p3ZDXTCNOnDpdktM5G5NdLcivTHT7a8sc8yLbOjKsZJNVWpx/MKij9ofXvLnlsj\n/Xp2ZtskVWzprqNYbLHx/fGnqitzox3NV+/4eNvEXmci2fLEPpt5a+T95sWHxuSNMfY60/0mW/tZ\nZ+umd/35y8pFWxCbZ1fsT+h+slk3Yu3cxHMyr8fe9kmSZt3WdXU2W8fLROV4276OHHO6WkfXR5iW\nzb8MJeVSU23+4kkk3f5EV+ro/L3LMvPWj/fhXB3XMo0p1WcTpnWs7QqDMNajmLk13T5pzfp3Ws3s\nFDM7OdFfFmf1Z0lHmtlEMyuWdLWkeYFjTpgWqUixv0Rm3RY8PDaNt4yKcYd+Fnvvd8Pzh8YRUzHu\n42lj8U2Ydug43vKDlinoc+9wf1n+cbzL611G/2fecpKtP/+4XkHrzDvunFWHjuufjz++WEPsn+8N\nzx++DmJle8fJZFm8sSWbzrv9gpbBWxekSPzecfyfB8Xin85fhn/cIMmWZ86qyPSzbov8xdZnbBxv\njLHXse0Qm2+quploP0tHUL32v/fuW95xYsO92yZRLInqf7Z464p/v0+2D3mXK1n9TVW3u5Nk6yMm\nqP3NxXbLRFBbHtT2JeNt71JN46/bNzwf3D6kmk9MrA3wD/fztg/ptqneabwxJGsDE8UcNNx7HPDy\ntn3+djDVPBId45PpyDReNzyfep9PtZxdsR/426aKcR8vu3ebzrxVuq0Lkmnvek+2/LHxKsYdfhyT\nDj/+ScH7sH+cTNd5om2cbl/Fz3v8SvTaP//YuigpP3S4f/7p1Omg5U923I+1U7F2LtZ2+fuMydrP\nZOvIX04q/mVM1i/3t81B/epk27Ez9SYTPaRPkIunB/9c0puSfhH9e1PSfZLuiv5lhXOuVdI3JL0k\naY2k3znn3gscObYDxP68DWw6GzJWCb1lxA4Ksc/mrEpdpvdAOmfVx7HE4rvh+eDEJqgix8ryNwTe\nRCJ2wPMfUPwHQv8yBiVbsR3T/7l/mf0HqNh//zqLLXdQx8XbWfImOt5ENWi5/THE1oF/3fiX2Tvv\ndJLIRB252PbzJn1B5XqnDSor6CCZLPZEdSCVRNvUP32sfnqnC6rjsW3gT2YTLUNH+LdpULyxfcs/\nTmy4d9vEYkv2PxtxS4d3hmLleutN7L1/v/XuF8lOWMTm05kTA2GRav17l9F/Yso/XSbtfbb4T1h6\n6106dcrf3nnbuKCTHEF1OzbcO12iBNX7P+j44G+T/Mmxf7xExx7/NLGY0q2z6Z5w8nYUMznhE1SW\n9HEdS7cc7wlTbxxB4/lPDAedWIvVIe9JeOnjtiPRybxEdS2dkyDe10EnGmL8x7s5qw5fdv+ypIrD\nfxI02Tj++Xjn7V9+7zLExov9rxh3eILhPfnjPV56x/MfI/1lJOoDeMuMDQtq15PtGx2p1/5xY/2z\nCdMOPakQ1N8KOtnjrxv+fc8/X++ye+uG//ju7zPG6n9QEphsHfn760F1KtFFFP/8vG1V7HVQPP42\nLaiN8w9LtK925uRXNi4WhEguktZtkk52zp3inDtF0kmStjrnZjnnZmVzRs65F5xzRznnjnDO3ZH2\nhN4GNqgSpXqdaJi3zERn5/yJWqqru7FpgiRrGLzlB50x93cYgj7zxxl0ZS3ZevQnmkHz8HdykiU6\nQXElWpepGu9UyXLQGT5/w5Fo2yXrrCbqcPkbrnTOjvrjT/ZZUEIWtE3TEbQ8qWLNpHzvwcyfzHvH\nSbesVPx1OJ22IWhYUELh/SxVouKv64naqVR1wz+ffF9x7Kh01r9/2YI6i96yMq2HnZUq8U5Wp4Ji\n9XeYk5Xtny42rr9dTpbEBpURex2UyHrH89bhRMeooA6/P6ZkHcFUvO160H7jbeeTHe/968bfEQya\n3l8XYzH427HYSStvhzjoxJo/4fcfM5KdzPPHFisvUaLrX8+xY0WqfTLR9vHXlaCTzP5yvMsb1Pb7\n9wNvUpNMsmXwJitBx+ig42Wyfod/X4iN493OQX2coDITHQu9+1cmfYV0jh3plOPdh/3r3l9PvcMS\n1alU8Qatr3Tj9MbrFZQIe/eT2Hv/dkyWlCbq4yXax/zxeHlPmKXqh/hPCGXrpHtI5CJpPdo5tzL2\nxjm3SlKHfj8154I2vr/SpepAJCrHuzOmqsxBOppEJIonUbn+s+TpxhB0UA6aNp0yM51/Ousy1fpL\nlUT6z8zNui29q+l+qa7uJisrk05zsuX1dhw70nlPFk9HyknFezDzd8xSzTeo05DJesxk3/EPCzqo\nxspMd//MtnSS5c6W3xmZJNTpdrJS1XPvgT/ZbWYdrdv+qweJJEocM2m7Orr+g+ptJh3AZOUkml/Q\n8TJV+50o2exIfEG87Xw6Hc5EiVay6YOOuYnG6+jxLJVE80mU6Cbr2ySLK1Ud6Oi4/nXmv5vEu98k\nahMSvc/mMSzdvl1HkkvvNkl0QsQ7rDMxpiOo3Uh0oiQb80lHOn1Rf3n+Y2S6bU8m9dkrdsIm2fjJ\n7i6K1f/YyX3/vDM9odnNpExazexvzOzIDMp818z+x8wqzWyWmf1C0l86HmIOJdrJM23Q0u1kpCvR\nFYV0Oym5SCSSzaMr5tdZidZbJkmkd/yghq+jknVUMk24gs4qpppPulJ1wJO9T2e8jqzDdDqpmZ4A\nCio/VZzJvneZ6cmgjkjUNuR63wwqP5NENJNb2WP/E62jRLdBBdWR2IE/0QmGdJYhVq7/Dgz/1YNE\ntzCmmzgma7vS7agmGifT+pZum5TpyZ90JIo/m21c0H6eqvzOro/O8Jfb0e9WdqT9yPZyp6qf3tfp\nnAxO9nmqepxu3MlizvQEd7onXLz7fCbHu0zrYGfblI7uK+lKVF9jdTndeeXiGJmqv9DZdeP9SmE6\n8+3KE+U5ls6V1vGS7jezTWb2hJl908w+mWT8GxT5jum3JN0cfX1D50PtoHSTvFydeeuIRFcU0j1D\nl0iuK26+doxsJ/IdWcfZqjOZXinwj5vqrGIm885EuolZsisYHTnYeqfPRf0LWo+J9k+vdK/WdWZ7\n+6fLZF657Gh35Oxuugf52HIGjZPOd19Tje+/WpPOCc1UD/TJtIOdKKZcjJOrti4bx6l0T0h5O6qZ\nlB/0Pt0TCVJm3xXLVQc+6IpkoqsuqcrJR71M1e/K5cnxZOWlO69kMQfVn86ezOlMPzXRCcZMTuin\nM0421ms6kvUxvCcmE8llf7Uj9TbVydZU8fr7UN3twlKaUiatzrkfOuc+JelYSUskfVfSW0nGPyjp\nvyXd5py7wjn3U+dcY7YCzli2Kky6cn0mqTPycdUlG3J9u0uYzkLls3Hp6u2X7gE43YNnNq9+p5Kt\nOpmNdd6RM8q5TjwylSi2znSoMpHOfJKdWEH2pNPZT3T1PJPyE71PV2dvvevqupTu3S/plJOttjXo\nToEwHY+zrbPbPNt1Jp3vlGZDvi6YJNtHw96WZ9pOpXtypJtL5/bgH5jZC5JelnSEpL+VlPBRVmZ2\nqaQVkl6Mvj/JzIJ/iibMOnPFI9cxhP3BKtmOr7sm2/kWloYr1VXXXMWZy+2a7zqTTsLfmdtB8113\nMrmK1dlY001Gc3W1LEi+13/YZCvR7Ar5vF04mUR3KGR6ss9/giCbV4w5MZQ9yU4udHX9ow+XXLa3\nU3dfH0mkc3vwZyUNkfSKpKckPeOc25Zk/LmSzpBULUnOuRWSJncuTBwi7F+uDnt82RTmzmWYG65E\nSVeY12ci+eqAdmScjlyN6sjydfb7Ypm0Idm6etGR5czGiZdMv0uIcAvbXQyZzjcXtwnnoywp81ss\ne5Jkdx/QvkQk+/3VrsR2Sls6twefJOnTkpZLOk/SKjNbkmSSFufcft+w9o6HCIQYjUpymd7emclV\nw3zIJMHIR8y5uMqT7vJl83bvXOjMLd3pTtuRu0xoQ3qOsLRT2RT2ZUp2lao7XaEPK+93zMNYFzoT\nU2efN9AV0vkuay9SlGoEMzte0jmSZkg6VdIWSYuSTLLazK6VVBR96vDNkl7PQqwAuptsHQTCcjDJ\n5ApktmLO5KDUlVd5gjqEr92ZnbJzoTPLne60vekuExwuLO1UNoVpmTI5adiVzzjoyYK+Yx4mYY0r\nWzL5LmsvkM7twXdIKpN0r6RjnXOVzrkfJhn/m5KOk9Qk6TFJtZJu6WygABAqXXWw6GUHpW6LTnHP\nwHYMr6448QT2AYRWOrcHX+yc+7Fz7nXnXHMa49c75/7eOXeqIt9t/Ulenx4MAMiObH2/tTt1ioJu\ng+Z7qD0X2xG9HftA/nSnY2MepPP04Klm9qSZvRf9rdZNZvZBkvEfM7NyM+svaaWkNWb23WwGDQDo\npM48eKiz04Tpe8CpBN0GTacOQG8Vxna6p+DYklQ6twf/WpHfXW2RVCnpIUmPJBn/WOdcraTLJb0g\naaKkL3UqSgBAdoXx4BjGmAAAH6OdRp6kk7SWOudekWTOuQ+dc3MlXZRk/CIz66NI0vqsc65Fkut8\nqACAnOiqM+ecoQcAAB2QTtLaaGaFkjaY2TfM7LOS+icZ/35JmyUNkLTIzCZKqulknAAQft01Kcvn\nQ6W66zoDAABdJuVP3ijy5N9+ivx0zT9JKpd0XaKRnXP3KvKkYUmSmX0oaVbnwgSAbqA73jaV76Sx\nO64zAADQpdJ5evBy51ydc67KOXe9pM9JmpBO4Wb2BxfR2sk4AQC5kGnSmCzJzXcCDAAAeqSESauZ\nDTCzvzWz+8zsa2ZWYGZXSFot6do0yx+TlSgBAB2XzWQyWZKb7DMSWgAA0EHJbg9+WFKtpGWSzpd0\nvaRGSdc4595Js/wVnYoOANB5YfiJGW4DBgAAHZQsaT3COXeCJJnZ/0jaLmmCc+5gqkLNrJ+kcc65\nG7MTJgAg67yJ5Mxbpdfu7Fg52Uh+uRILAAASSPad1rbYC+dcm6StaSaslypyhfWl6PuTzGxeZwMF\nAORQZ66EBk07YVryafxJKldiAQBAAsmS1hPMrC72J+l4z/vaJNPNlXSGpGpJcs6tkDS5M0Ga2WYz\ne9fMVpjZ8uiwwWY238zWmdnLZjawM/MAACSR6ZXQG55P/jlJKgAASFPCpNU5V+icK/P8FXlelycp\ns8U5t983rL2TcTpJlc65k5xzp0eH3SppvnNuqqQF0fcAgFwgyQQAAHmS8idvOmC1mV0rqcjMjjSz\n/5T0ehbKNd/7SyU9FH39kKTLszAPAAAAAECI5CJp/aak4yQ1SXpMkScQ39LJMp2kV8zsz2Z2U3TY\nCOfczujrnZJGdHIeAAAAAICQSfb04A5xztVL+ntJf29mhZIGOOcaO1nsNOfcdjMbJmm+ma31zdOZ\nmQuacO7cufHXlZWVqqys7GQoAIA4nvoLAAByLOtJq5k9Jumrijx9+E+SKszsHufcTzpapnNue/T/\nbjN7WtLpknaa2Ujn3A4zGyVpV9C03qQVAJBlfNcVAADkWC5uDz7WOVeryHdMX5A0UdKXOlqYmfUz\ns7Lo6/6Szpe0UtI8SddFR7tO0u87ETMAAAAAIISyfqVVkQcw9VEkaf25c64l0a27aRoh6WkzkyLx\nPuKce9nM/izpcTP7sqTNkj7fybgBAAAAACGTi6T1fkWSyHclLTKziZJqOlqYc26TpE8GDN8n6dMd\nLRcAAAAAEH5Zvz3YOXevc26Mc+5C51y7pA8lzcr2fAAAAAAAPV8urrTKzC6WdKykUkV+rkaS/jEX\n8wIAAAAA9FxZv9JqZvcr8v3Sm6ODPi9pQrbnAwDIMn6+BgAAhFAunh58tnPuryXtc879SNKZko7K\nwXwAANnEz9cAAIAQykXSejD6v8HMxkhqlTQyB/MBAAAAAPRwufhO6x/MbJCkf5P0VnTYL3IwHwBA\nLnG7MAAACIGsJ63OudgDl/7PzJ6T1Nc5tz/b8wEA5Fhnbxcm6QUAAFmQtaTVzGbq4ycF+z+Tc25R\ntuYFAOgG+I4sAADIgmxeaf07BSetJ0gaK6kwi/MCAAAAAPQCWUtanXMXe9+b2TRJP5C0XdI3sjUf\nAAAAAEDvkfXvtJrZpyV9P/r2X5xz87M9DwAAAABA75DN77ReLOkfJO2X9APn3OJslQ0AAAAA6J2y\neaV1nqQtkvZI+q6ZfdfzmXPOXZrFeQEAAAAAeoFsJq2fSvJZ4FOFAQAAAABIJpsPYloYe21mw6LD\ndmerfAAAAABA71OQrYIsYq6Z7ZG0TtI6M9tjZrdnax4AAAAAgN4la0mrpDmSpkk6zTk3yDk3SNLp\nkqaZ2bezOB8AQHcy89Z8RwAAALqxbCatfy3pGufcptgA59wHkq6NfgYA6I1m3ZbvCAAAQDeWzaS1\nKOg7rNFhWf89WAAAAABAz5fNpLWlg58BAAAAABAom0nrCWZWF/Qn6fhUE5vZr8xsp5mt9AwbbGbz\nzWydmb1sZgM9n91mZuvNbK2ZnZ/F5QAAAAAAhETWklbnXKFzrizBXzq3B/9a0md8w26VNN85N1XS\nguh7mdmxkq6WdGx0mvvMLJsJOAAAAAAgBEKT6DnnFkuq9g2+VNJD0dcPSbo8+voySY8551qcc5sl\nbVDkScUAAAAAgB4kNElrAiOcczujr3dKGhF9PVrSFs94WySN6crAAAAAAAC5122e6uucc2bmko0S\nNHDu3Lnx15WVlaqsrMxuYADQ2/C7qwAAoAuFPWndaWYjnXM7zGyUpF3R4VsljfOMNzY67DDepBUA\nkAX87ioAAOhCYb89eJ6k66Kvr5P0e8/wL5hZsZlNknSkpOV5iA8AAAAAkEOhudJqZo9JmilpqJlV\nSfqhpDslPW5mX5a0WdLnJck5t8bMHpe0RlKrpK8555LdOgwAAAAA6IZCk7Q6576Y4KNPJxj/XyX9\na+4iAgAAAADkW9hvDwYAAAAA9GIkrQAAAACA0CJpBQAAAACEFkkrAAAAACC0SFoBAAAAAKFF0goA\nAG87hNsAACAASURBVAAACC2SVgAAAABAaJG0AgAAAABCi6QVAPCxmbfmOwIAAIBDkLQCAD4267bD\nh5HIAgCAPDLnXL5jyBkzcz15+QAAAAAgBct3AJ3FlVYAAAAAQGiRtAIAAAAAQoukFQAAAAAQWiSt\nAAAAAIDQImkFAAAAAIQWSSsAAAAAILRIWgEAAAAAoUXSCgAAAAAILZJWAAAAAEBohSZpNbNfmdlO\nM1vpGTbXzLaY2Yro34Wez24zs/VmttbMzs9P1AAAAACAXDLnXL5jkCSZ2TmSDkh62Dl3fHTY7ZLq\nnHN3+8Y9VtKjkk6TNEbSK5KmOufafeO5sCwfAAAAAOSB5TuAzgrNlVbn3GJJ1QEfBa3kyyQ95pxr\ncc5tlrRB0uk5DA8AAAAAkAehSVqT+KaZ/cXMfmlmA6PDRkva4hlniyJXXAEAAAAAPUjYk9b/kjRJ\n0iclbZd0V5JxuQ8YAAAAAHqYonwHkIxzblfstZn9j6Rno2+3ShrnGXVsdNhhzOxHnrcLnXMLsxwm\nAAAAACBHQp20mtko59z26NsrJMWeLDxP0qNmdrcitwUfKWm5f3rnXLf/0jEAAAAA9GahSVrN7DFJ\nMyUNNbMqSbdLqjSzTypy6+8mSV+VJOfcGjN7XNIaSa2SvsZjggEAAACg5wnNT94AAAAAAOAX9gcx\nAQAAAAB6MZJWAAAAAEBokbQCAAAAAEKLpBUAAAAAEFokrQAAAACA0CJpBQAAAACEFkkrAAAAACC0\nSFoBAAAAAKFF0goAAAAACC2SVgAAAABAaJG0AgAAAABCi6QVAAAAABBaJK0AAAAAgNAiaQUAAAAA\nhBZJKwAAAAAgtEhaAQAAAAChRdIKAAAAAAgtklYAAAAAQGiRtAIAAAAAQoukFQAAAAAQWiStAAAA\nAIDQImkFAAAAAIQWSSsAAAAAILRIWgEAAAAAoUXSCgAAAAAILZJWAAAAAEBokbQCAAAAAEKLpBUA\nAAAAEFokrQAAAACA0CJpBQAAAACEFkkrAAAAACC0SFoDmFl7wF+jmW0yswfN7Oh8xwgAAAAAvYE5\n5/IdQ+iYWbskJ+lHnsEVks6QdLakeknTnXN/yUN4AAAAANBrkLQGiCWtzrnCgM/ulfQNSQ85527o\n8uAAAAAAoBfh9uDMzY/+H5rXKAAAAACgFyBpzdyno///nNcoAAAAAKAX4PbgANHbg6XId1ot+rpc\n0mmKfKf1D5Kucc7V5yE8AAAAAOg1SFoDeJLWIGsk/Ytz7rGuigcAAAAAeituD07MOecKYn+S+ivy\n9OCdkh4xs3/Ob3gAAAAA0PNxpTVAiqcHV0jaIqlE0mTn3Jaujg8AAAAAeotufaXVzAaa2ZNm9p6Z\nrTGzM3M9T+dcjaR1kooknZzr+QEAAABAb1aU7wA66R5JzzvnrjSzIkVu4e0Kg6L/LelYwP9n787j\n5Krq/P+/Pl2ddLbuTgLZF7KRECIwQBCEkHREUYJBXBAVleC4PObngjjOCI5Kg+PXZR7g7iiKRAdk\nRlEUZBcNiEFACAbC0iQkISH71kvWXs7vj65qKpWq6ntv3Vv3Vvf7+XjUo7uq7j33c89dT92ziIiI\niIhISSq2enC6mu4K59y0CNIuVj34QuC3wCFgknNue9jLFxERERERkW6V/KR1KrDdzG4CTgKeBC53\nzu0LKX0zs6t57WnqUOB44DzAAV9QgVVERERERCRalfykdS7wKHCmc+4JM/s20OKc+3LWNO7qq6/u\nmaehoYGGhoZe066qqsLMyM6bVCrF6NGjef3rX88nP/lJzjnnnBDXRkREREREJBIV36SxkgutY4FH\nnXNT0+/nAVc6596WNY2r1PUTEREREREJQcUXWiu292Dn3BZgg5nNTH/0JmBVjCGJiIiIiIhIyCr2\nSSuAmZ0E/BQYCKwBLksPSZP5Xk9aRURERESkP6v4J60VXWjtjQqtIiIiIiLSz1V8obViqweLiIiI\niIhI36dCq4iIiIiIiCSWCq0iIiIiIiKSWCq0ioiIiIiISGKp0CoiIiIiIiKJpUKriIiIiIiIJJYK\nrSIh+9rXvsZHP/rRXqdbsmQJX/rSl8oQkYiIiIhI5VKhNUG+9rWvsWjRosM+O/bYY/N+9qtf/apg\nOsuWLWPSpEmRxNhf/fKXv2Tu3LnU1tYyfvx4Fi1axF//+te801511VX85Cc/6TVNM8Os4ofNkn7o\nWw80xR2CiIiI9CMqtCbIggULWL58Oc45ADZv3kxHRwdPP/00XV1dPZ+tWbOG+fPnxxlqv3L99ddz\nxRVX8MUvfpFt27axYcMGPvGJT3DHHXccMW1nZ6evtDPbWqSSfOfBl+IOQURERPoRFVoTZO7cubS3\nt/P0008D8Je//IWFCxcyc+bMwz6bPn069957L7Nnz6auro7p06dzww03ALB3717OO+88Nm3aRG1t\nLXV1dWzZsoXHH3+cuXPnUl9fz9ixY/nXf/3XnuXecccdzJkzhxEjRrBw4UJeeOGFnu+mTJnCdddd\nx0knncTw4cN573vfy8GDB8uYK/Fqbm7m6quv5oc//CEXXnghgwcPJpVKcf755/ONb3yDxsZG3v3u\nd/PBD36Q+vp6li5dSmNjIx/84Ad70njkkUc488wzGTFiBJMnT+YXv/jFEctpbW1l4cKFfOYznynn\n6omIiIiIJJ4KrQkycOBATj/9dB566CEAHn74Yc4++2zmzZvHww8/3PPZ/PnzGTNmDHfffTctLS3c\ndNNNXHHFFaxYsYKhQ4dy7733Mn78eFpbW2lpaWHs2LFcfvnlXHHFFTQ3N/Pyyy/znve8B4Cmpibe\n//73893vfpcdO3awaNEiFi9eTEdHB9BdhfXXv/419913H2vXrmXlypUsXbo0lvyJw6OPPsqBAwd4\nxzveUXCaO+64g4suuojm5mYuueSSw6r8rl+/nkWLFnH55ZezY8cOnn76aU466aSe782MnTt3cs45\n53D22Wfz7W9/O9L1ESlG1X5FREQkiVRoTZgFCxb0FFAfeeQR5s+fz9lnn93z2V/+8hcaGho477zz\nmDp1KgDz58/n3HPP5S9/+QuQv8rpwIEDeemll9ixYwdDhgzh9NNPB+D//u//eNvb3sY555xDKpXi\nc5/7HPv372f58uU98376059m7NixjBgxgsWLF/c89e0Pdu7cydFHH01VVeFD5cwzz+SCCy4AYNCg\nQYfl/y9/+Uve/OY3c/HFF5NKpRg5cuRhhdZXX32VhoYGLr74Yq699troVkTEA1X7FRERkSSqjjuA\nJJpy5V2hpLPu6+f7nmf+/Pn84Ac/YPfu3Wzfvp3p06czatQoLr30Unbv3s2qVauYP38+99xzD9dc\ncw0vvfQSXV1d7Nu3jxNPPLFgujfeeCNf/vKXmT17NlOnTuXqq6/m/PPPZ/PmzUyePLlnOjNj0qRJ\nvPrqqz2fjR07tuf/wYMHs2nTJt/rVbLG+pDSafY1+VFHHcWOHTvo6uoqWHCdOHFiwfk3bNjAtGnT\n8n7nnOOuu+6itraWj3/8477iEhERERHpL1RozSNIYTMsZ5xxBs3NzfzkJz/hrLPOAqCuro7x48dz\nww03MGHCBMaNG8fs2bO5+eabefvb304qleId73hHzxO+fD3Szpgxg1/+8pcA/OY3v+Hd7343O3fu\nZPz48TzzzDM90znn2LBhAxMmTMgbX2y93fosbIblDW94AzU1Ndx+++28613vOuL73noAnjx5Mo8/\n/nje78yMj370o+zevZtFixZx7733MmTIkNBiFynFtx5o4oo3zwx9WhERERG/VD04YQYPHszcuXO5\n/vrrD+sheN68eT2fHTp0iEOHDvVUW73nnnu4//77e6YdM2YMO3fupKWlpeezm2++me3btwNQX1+P\nmZFKpbjooou46667+NOf/kR7ezvXXXcdgwYN4swzz8wbX3/r7ba+vp5rr72WT3ziE/z+979n3759\ntLe3c8899/D5z3++1/nf//7388c//pFf//rXdHR0sHPnTv7xj38Ar+Xl97//fWbNmsXixYs5cOBA\npOsj4lVvVYWz27+qWrGIiIhEqeILrWaWMrMVZnZn3LGEZcGCBWzfvp158+b1fHb22WezY8cO5s+f\nz7Bhw/jud7/Le97zHkaOHMmtt97K29/+9p5pjzvuON73vvcxbdo0Ro4cyebNm7nvvvt43eteR21t\nLVdccQX/+7//S01NDbNmzeLmm2/mU5/6FKNGjeKuu+7izjvvpLo6/0P4/ji26Gc/+1muv/56/vM/\n/5PRo0czefJkfvjDH/Z0zpSbH9l5NHnyZO6++26uu+46jjrqKE4++WRWrlx5xHQ33HADEydO5MIL\nL+xXvTNL5cjtpMlLQVUdO4mIiEgYrNKfnJnZZ4FTgVrn3AU537lKXz8RkXKZcuVdPc0jsv/P9x1w\n2PvLzzn2iCrCuWmIiIhILCr+iVNFP2k1s4nAIuCn9IGNISJSqVRFWERERKJS0YVW4FvAvwFdcQci\nIiKvufjHj8YdgoiIiPQRFdt7sJm9DdjmnFthZg2FpmtsbOz5v6GhgYaGgpOKiPRLUfT++9jaXaGm\nJyIiIv1XxRZagTOBC8xsETAIqDOzXzjnPpQ9UXahVUQkDH1tiJfvPPhS5OvT1/JMREREyqdiqwc7\n577gnJvknJsKvBf4U26BVUQkCn25/WYpPf4Wm7cv55mISH+j3uGl3Cq20JqHugkWESnA6w1GKYVL\nFUxFRPoHne+l3PpEodU591DucDciUjmS8IttEmKIUpAbjG890NTn80VERESSr08UWkWksiXhF9uw\nYsgu5BX6Pyl6i+k7D74U6bbJLD/3b+73SZUvvqTHLCLSn+kcXblUaBURCVF2Ia/Q/0lRKKawL+qF\n0sssP/dv7vdJlS++pMcsIqVRoaey6RxduVRoFRGRwxS7qPt9GvqtB5rypldsvot//GhoN4b95Qaz\nv6ynSNxU6BGJhwqtFUg3JyISF79PQwt9X2y+x9buCu3GsL/cYPaX9RSR+Ok+VOKgQmsF0s1JZejL\nJ/W+vG5Rizvv4l5+UmKQYLTtwuU3P8tVdV+kmEq6D63UfTzpfWLEQYVWkYhU0kndr768bn75vZj4\nzbuwL1aFln/xjx8NdTmFFKou3Bck6cYiqlj66raLi9/8DDv/tT3FjySd47yq1H08t08MLx3/VeL2\n8SP2QquZzTSz28zseTNbm369HHdcUliYB0VfP8AkenHvQ1FfEMt1wX1s7a6yLCd3feLefl6UY4zb\nsCUpFqmM/byQqGMvVy/clbwNkiKp5xW/P7pWUs/vmbiy8z7fZ/ne9zWxF1qBm4AfAe1AA/Bz4JY4\nA0qqpBxQYR4Uff0AK7eg+0hS9q1cXqrHJGUfSmIexhVToeXm+9zr9oszfwv9yp3RV8ez7YvrFBUv\nw0clVdDYw9rv8/2QFUV+JXkbVIIknw/8/uhaST2/B4m1r1YtTkKhdbBz7o+AOefWO+cagfNjjimR\nknpASXIE3UeSum8lfciYbEmML66YgnS+FDTNcim2/KjHs41LX1ynqFRyXpVy3VDhsv/QdqkclXTv\n5EcSCq0HzCwFrDazT5rZO4GhYSUexi8MfelXioxKXqekxu4nrlLXwev85cyrsNYpiesWpL1npfzS\nWUpsaipQXF9cp0qVhG3R29P6JCh3HF6WF1VMfbWGRFLEsS/5uY9I0rZPUixJloRC6+XAEODTwFzg\nA8ClYSUe5BeG3J2nL/1KkVHJ65TU2LOrEEZdVczr/OXMKy/LKtaOJDN/OdbN7wUiX9WjYgXZ3Opt\nYWyHqArBQbeb13nDjKOcoqj2GLXcfbK/3Ah5Wc+otoWfgmhvT+vDWm6+78Nqlx1GYSD7ey/rXax6\nsleFmiaEsb5xSFov0qU0/QhL9vbM/C22Xvmaffg9roJOky+WsNJK6j4bhiQUWqc651qdcxucc0uc\nc+8EJscZUNJunqRy+C149TdJaUcSxjKLtaGJuspcHDcD/U0lrnPuPlmJ6xBEnOsZZkE0rOXm+76c\n4x4HHbs5ilhKXWZSj6Gk9SJdqfkU1rjjfqfxKkhaSd0WYUhCofUqj59JHkmsyuN13iT8GlSuarph\niuqXt0rsrbHUartBlPLEM3f63uKvxF9ZyzV0Tj5JrJKdlF4qSz13x12VMu5Oxfxsx6Tse37kO3bC\nbPISdieBmfPMxT9+NHH5HXUTl6jXNyn5Wa44Kq0qcRCVHn9GbIVWMzvPzL4HTDCz75rZ99KvpXT3\nJFx2YVyUy33TFMbwEX4O2Hy/4BS6mOerGlWoWpDXNMJSbH2KTZ+EquN+t3luVdWg6YZZ5aW3NL0u\nK8gwLfmqDXm9Seut2q/fauHZ8XupXuXlxtlLtSiIrsBf6tA5pex3Xp5Gl7taXaHaBb1dK8KO0+ux\nmO9YyFS7K3T+L/XHm0KfZevtWIjqx5JitWeCdDjmp0ATpNAYdL/JPXa8XjfyzR/ke8h/7Gfmy2zf\nzDSZ88xja3eFlt9B5sudp1i+ebl/8HOOz11uWMJuehPGPllqmr1VEy4llqDK+eNDX3n6Glqh1cxO\nNbNTsv4e9sozyybgSeBA+m/mdQfwlrDi8iOMnvDi7rErqqoEfqtAFcpLPxf5qHomLBZHb9Mn8cCP\nqipWVNXLvKRZjnzOd6yWmpelxB30OAyah6UU+KMU9X6XlPR6u1bEVQXc77kuyHk6jPUt9gNQkkWV\nr2Ffo5Jw/5L9PrN9w9jX/C7bz7JKrS4e5NiI8l7Jr3Kdy6LaD8op6piSuM6lqg4xresABwwGTgVW\npj8/Efg78IbsiZ1z/wD+YWa/dM4d8rswM5sE/AIYnV7uDc657wYPX0RERERERJImtCetzrkG59xC\nup+gnuKcO9U5dypwcvqzQqaY2W1m9pyZrU2/XvawyHbgCufcHOAM4BNmNjtI7F6rKBaqzpWUtj5+\n16NY9bQ41slv/vqp0uln+dnLS1o7gDDiCbNaTZjz5M5XLI0ot0uQKsul5FGhY89Ptf0o2sYmWanb\noreq4aVWW+/rwjrnRp1GVMLeP0qtyu/1eCild2mv5+ag6ZcyTznSjGp/zLdtw7j/yndd8bMfleP4\n87OM3OrhXtIotaqyl/NcsWnO+vqDvq5HQe5VvU7bV0TRpvU459wzmTfOuWeBYoXJm4AfAR1AA/Bz\n4JbeFuKc2+Kcezr9fxvwPDA+SMBeq9cVqs4Vd9WM3qoFFVqPYtXT4lgnv/kbVpXOfOkltTpwGPGU\no1pNVFUmS03fbwxel1lKHhU69vxUJeutamTS9uNShVkFz8v50E/a/UGU1eTDTCMqYe8fpVbl93o8\nlNK7tNdzc9D0S5mnHGlGtT/m27Zh3H/lu6742Y/iaApSTKHq4X6vBUH3+ULfF5vm1T0HfF2Pgtyr\nep22r4ii0LrSzH5qZg1mttDMfgL8o8j0g51zfwTMObfeOdcInO9ngWY2he4nuo8FjLlifllPWjxh\nyP0lOOonbGH9+ub3V7EoOgoJui5hPSkpV0+xUT35jquWRKFlFsrPsJ9AV+p5JDt/wlyHfLUsoliG\nl/0tjI5M/K5DlDVLvKSd+11YNQfK8US41BiiTLPYdIWe8AVJL4k1k771QBNnff3Bgt+FFaufmjFB\n08/3f77P/FyPC53zwhL2k+J8n5U7z8tRG6eU2glx9txfLlEUWi8DngMuBz6d/v+yItMfMLMUsNrM\nPmlm7wSGel2YmQ0DbgMuTz9xPcyeR26hsbGRxsZGli1bVjCdSvllPWnxhCH3l+Con7CF9eub31/F\nougoJOi6hPWkpFydn0T15DuuWhKFllkoP8N+Al2p55Hs/AlzHfLVsohiGV72tzA6MvG7DlHWLPGS\ndu53YdUcKMcT4VJjiDLNYtMVesIXJL0k1kz6zoMv8eqeAwW/CytWPzVjgqaf7/98n/m5Hhc654Ul\n7CfF+T4rd56XozZOKbUTKqUzulKE2RETAM65/Wb2I+Bu59wLHmb5DDCE7gLuV4A64FIvyzKzAcBv\ngJudc7/LN83weZfQ2Ojrwa2IiIiIiIgkROiFVjO7APgvoIbuTpZOBq5xzl2Qb3rn3OPpf1uBJT6W\nY8CNwHPOuW+XFLSIiIiIiIgkUhTVgxuB04HdAM65FcC03InM7M6s1x05/9/hYTlnAR8AFprZivTr\nrYUmzq63X0od/rDblnmZv9R2bsXSKbX9Y5D2SlHIlxe9tU8rJa6w2lR5bYPgt61CvuV6TSOMNnXF\nlldq+6cg7TaCtjsqV6+TpbRj8aMvtHnxcqznmzbKOEqZNt/6+D1Wo2jrXQ75ztFht8Mstuzcv2G0\nUwvjePdyzQ+6bL/8tr8vNn9Y7cXDbNuZL42g+V/qPH73nXK0n8x3XBTqhTqK81GY1+2o7lOD3A8G\nzauo2tJWiigKre3OuT05n3Xlme669OtlYD9wA/ATYG/6s6Kcc48456qcc//knDs5/bq30PTZ9fZL\nqcMfdtsyL/OX2s6tWDqltn8M0l4pCvnyorf2aaXEFVabKq9tEPy2Vci3XK9phNGmrtjySm3/FKTd\nRtB2R+XqdbKUdix+9IU2L16O9XzTRhlHKdPmWx+/x2oUbb3LId85Oux2mMWWnfs3jHZqYRzvXq75\nQZftl9/298XmD6u9eJhtO/OlETT/S53H775TjvaT+Y6LQr1QR3E+CvO6HdV9apD7waB5FVVb2koR\nevVgYJWZXQJUm9mxdLdVXZ47kXNuGYCZXZcezzXjDjN7MoK4REREREREpMJE8aT1U8Ac4CBwK9BC\nd2dLhQwxs+mZN2Y2je6OmURERERERKSfC73Q6pzb65z7gnNubvr1H865/P2Od7sC+LOZPWRmDwF/\npngh17cgbQC8tn/02sakUBuM7HFJ8/3NtB3wW189d7xTr/MHGecr+73X9gdB2yUWWjZw2Jhsftqv\nht2OKYq89htDofTztR/z2xYojHY9YbfzKTRP1G3Xk6TQGKaVEn8xYbTdKmeb9iDnwbjaKoXVTjKz\nzl7bnfpN16sw2/kFvV/wmk5uXgW5JiStnbqfbe03r71MU2hs1oxS7z2CzOf32pzvsyAxhHmfFcY9\ncKE2nYW+qzTFjnO/Y4wn7bhOitALrWZ2mpndnu4Y6Zn0a2Wh6dPtUGfy2rius5xz94UZU5A2AF7b\nP3ptY1KoDUb2uKT5/mbaDvitr5473qnX+YOM85X93mv7g6DtEgstGzhsTDY/7VfDbscURV77jaFQ\n+vnaj/ltCxRGu56w2/kUmifqtutJUmgM00qJv5gw2m6Vs017kPNgXG2VwmonmVlnr+1O/abrVZjt\n/ILeL3hNJzevglwTktZO3c+29pvXXqYpNDZrRqn3HkHm83ttzvdZkBjCvM8K4x64UJvOQt9VmmLH\nud8xxpN2XCdFFG1abwE+BzxL/g6YjpB+Evt0BLGIiIiIiIhIBYui0LrdOedlyBoRERERERGRoqIo\ntF5jZjcCfwQOpT9zzrnfRrAsERERERER6cOiKLReCsxKp51dPThvodXMTgVcocScc0+FGp2IiIiI\niIhUjCgKrXOB45xzBQuiOX4AnApkOms6EXgS2J9+vzDc8ERERERERKRSRDFO63LgeB/TbwJOcc6d\n6pw7FTgZeNU5t9A5F2mB1W9X+hm9dame+32hbr7zTRPGcClBhncp9F2pwzBE3XV5GEMGZCsWb6G0\nT7j63pKWUWzIo2LxZC83qu7Rg+5LYUzvR2aIp3zD9wRdbm/HuSSD1+EjgspNq5z7RZChYorlR6G/\nYcXmJY5Sh6/xeu3L93/u0BOF5A4Z11v6QRSaP3f/KnYeK7QuuZ/HuQ/nSuJwJn62q9frs597vLDz\nJPveIN9wMnFug2LL93ofU47hYEq99ynl3jmJx0hSRFFofQPwtJk1eRnyhu6nss9k3jjnngVmRxDX\nEfx2pZ/RW5fqud8X6uY73zRhDJcSZHiXQt+VOgxD1F2XhzFkQLZi8RZKu/VgZ0nLKDbkUbF4spcb\nVffoQfelMKb3IzPEU77he4Iut7fjXJLB6/ARQeWmVc79IshQMcXyo9DfsGLzEkepw9d4vfbl+z93\n6IlCcoeM6y39IArNn7t/FTuPFVqX3M/j3IdzJXE4Ez/b1ev12c89Xth5kn1vkG84mTi3QbHle72P\nKcdwMKXe+5Ry75zEYyQpQq0ebGYGfAx4xcdsK83sp8DNgAHvB/4RZlwiIiIiIiJSmaJo0/pD59zr\nfEx/GfAvwOXp9w8D/x16VCIiIiIiIlJxQi20OuecmT1pZq93zj3ucZ79ZvYj4G7n3AthxiMiIiIi\nIiKVLYo2rWcAj5rZy17atJrZBcAK4N70+5PN7I4I4hIREREREZEKE0X14Lek/2aGvLFepm8ETgf+\nDOCcW2Fm07wsyMzeCnwbSAE/dc59w3e0IiIiIiIiklihP2l1zq0DhgMXAIuB+vRnhbQ75/bkfNbV\n23LMLAV8H3gr3UPsvM/MytLrsIiIiIiIiJRH6IVWM7uc7p6ARwFjgJvN7NNFZlllZpcA1WZ2rJl9\nj+6xXnvzemC1c26dc64d+F/g7SWGLyIiIiIiIgkSRZvWjwCnO+e+7Jz7Et1tXD9aZPpPAXOAg8Ct\nQAvwGQ/LmQBsyHq/Mf2ZiIiIiIiI9BFRtGmFw6v3Fq3q65zbC3wB+EK6yu8w55yXka9d75OIiIiI\niIhIJTPnwi37mdlngSXAb+nuhOlCYKlz7lsFpr8V+DjQCTwB1APfcc59s5flnAE0Oufemn5/FdCV\n3RmTmbmPLZjAkJpqNrpRzJk+nknjR3Ny17PUVKeoGzyAjfWnMueVm1ldNZU1Q09mXtt9bLbRzHLr\neNGmMMut4+duEe9OPcyd1sAZVc8zsn0zw9jLnrrZ3L93Bid3Pcs4t41xCz7CE8t+z0TbTkfdZOqb\nn6e5fjaj2l7kYHUt9eOm07x5DfWDB9C8v52NbhQj2zez2UZzcOJZnLjhFnbVHUdV8yvUshdXIj6I\nUAAAIABJREFUU8+a9pGMc9uoYx8v2hQm2g4GdbayYeAMRrZvZteAcUxpX0MXjo+Mu50bdi4BoOng\nCI639QytP4pX9+xnee1bmNd2H0MGVrPvUAcAd6feyHs67+Qlm8qKqtfx7tTD3fk0ZA+/7pzPgn0P\ncMsb7mLB8ku7169+ME+11AJwvK2nvauLNoaSqqqiprqKgx1d1FRXUdPRSmeX40WbwvG2nt1dgxlX\nP5htrQd5aMibueiodaza1MLwQ5u5t/qNLHbLALjTGnhrx5/YM3Acz9WcyLy2+3rW70WbwsGJZ1Gz\n8a90dnXvsx2T53HihltoYQipqiraO7vYM3Acozq3sj01hn2HOhhbP5iq5lc4KrWf59wxnHL1ozx1\nzRsY57axa0D3tADbU2MY2b6ZjrrJbG89wCy3jo6Bdew71MG4+sHsbd7ZvcyBddxycB6X1DxC9aEW\n1g2YznsPfZEnUh9md9dgAFJVVdxpDT372UTbTv246aza1MKcIXv41ut+y7xHPsS62lN6tkm97WND\nzQwmjRjMgQ1PM+jsT7Fhxf3UHdhE/bjptK5/itrGLZz19Qf5TPVvmNd2H+e6H3DD5D9S/cojHJPa\nSR17OdTZxV7r3ibbU2OYdGg1q6umMqNrLQdStdRUV9F2sIMBqSoODptIy/72w/J6VOdWDg6byJ3N\n06ipruLcoavZ3nqAgxPP4nUbbqb2mFNYtamlJ69q2jYy+uwPw9O3sLl5P+Pqu/Ng1b7hjOrcyvrO\nozhteBsb3CjqDmyi6lAz9w57J4vabmePG8KegeOYdGg1B1K1tHd2UcteVldN5Vi3lv1VtQzqbOVA\nqpbBXa284KYwZGA1ozq30tnVxbnuB/yVJey1odSxj46BddR0tDKodiQb3ChGtrzA3qphHBw2kboD\nm6g+1MLdw97B8QdX8tChWTw0/iOcu+1nnNz1LA+d+XPmPfIhJtp2RlTt584hFzKv7T6GsZeugfXY\nweae5XQ6x+qqqYzp2kaVwVC3l702lC4HdbaXNob2fJb5m9k/Pzv+Zn62+Z09+1Ym/ZZB49neeoAx\nXdsAetLN5Mvy2rfw1rbf8qvUYs6oep5RnVt79rEZXWtZXTW155x1rFvLs5M+wJxXbmavDaWjbjIj\nW16ghSEMYy8A+6u68zTzNxMzcFjcuZ8dSHVvk3zT7bWhDGMvznlLI/e7TF5UHWoG4CXr3m8z5zqA\nYexlQFVVz7GWOd4y2ju7GFZTTcug8bTsb2d658vs7hpMR91khrc8T2390by6Z3/P+bXe9vHUoYmM\nc9tIVVUxuKt73TL5cSBVSx172dk5mD0DxzG5fTVtdMea2T/zrdvAVBUHq2tpO9hBlXXH3cZQ7k69\nkfd2/qFnO+2v6j6frpnwdv42+WN85K/z6RpYz75DHT3XheO33knLoPFMOrgaxp7QfX6oHQnDJ/dc\nT1qbd/TsG8/VnMjGkz7DguWXsqLqdZzc9SzTB+wC6Dk+DrTuYtCAFM1uCAAtg8ZT3fIKjwx7C9e2\nXsD/DvxPWsaewYpXdnNw3uepeeQbfNDuOmx/6aibzKQRg1m1qYW6wQMA+FvXbI4/uJIp7WtYN2A6\nc4bs4ca2N7DYLWNwVytdA+sBeq5BG90oZtbspu1gB1urRlNTnWJ658usSU3juZoTOaPqeWraNlLH\nXtakpjG5fTX3Dnsnb2n9LQdStYyuraFlzw5cTT1tBzt6tv2kEYPZsHs/I1teYOgxJ9O8eQ1r2kcy\n0XYwtKuNofVHsa31YDqGozll4EY21Mygpm0jB4dNpKZtIzXVVdw/8Bze0vpbVldNZZzbxoiq/Qya\n9E/sXb+CjoF1Pdu3jn200J2Xmf1gcFcrLW4oXfWTGdX2IncOuZAF+x4AYHBXKwOqqrjFzueijjs5\nkKqls6urZz8B2Gyju7dZdYqR7ZsZUbWfFobS3tlFlXXv90O72lg3YDqTDq1mr70230TbwfbUGCba\ndvYd6ui5rnV2OU4b3sZTLbU99xUtDGGo24tZ93lhfedRpKqMcW7bEcdrZr8/OGwi1S2vsNlGM6Nr\nLc31s3u2/UTbTtvBDiYMH8yNbW/g3KGre86/Kyddwsmv/pLn3DE926KFIdSxj71Vw3rOSZm8yPy/\n2UYzzm3r+Swz32YbzbFubc8xWVt/NK3NO2hj6GGx1Tc/35M/mXNGJo0uB8Nqqrmtcz7v6byTroH1\nPdfI0ZOO5Yl1u0hVWc+1/Lkxi9m4ex+L9/0OgN1dg3uu+e/t/EN63bYzZGD3fefk9tU8O+kDHL/1\nTqoONbOnbnb3dXPSsby67kUAuuq7z9Ev2hRWVL2u53h5ZcAMRnVupaa6+xxXfaiFTufYMHBGz7bN\nrE8mn06pa+WHe05ncf3LjGx5gZWTLuFvkz/Gh59YzG2d83l36uHuc076eAB6Ps+cuzLn18w9QeY6\nnP03c807KtW9X2af0/dad/53djmOSe1kcFcrv0otZlHnnxhRtZ+D1bU9978ddZP5W9dsJo4YQt2W\nvzFnfB1PrNvFutpTOLP1PobbPtYNmM7Bjs6eYyFVVcVGdzQzutb2nMe3tQ867HycHTvAgVQtG93R\nAMxy69hbNeyw6TPHQuYaljmn7Bk4jjlD9rCt9SC3dc7njKrneu5FM8fZyPbNjDtmFht27+8pU2Tm\nH27d9+411SmeqzmRxft+13N/3NnlmGjbGeq673sy6zdkYDXVh1p64mlxQ6ky6HL03DNlX3c2DJzR\nc6+X7x6is6v72eG4xjW9dYybeKEVWs1smnPu5fT/pwLz6H4a+hfn3Ioi8/3DOXdSul3rKcCVwFPO\nuRN6WV418CJwDrAJeBx4n3Pu+axpnLu6rsQ1qyCNzdBYn/w045SEPAoaQ2Nz+m99aen0FaWuf/b8\n5crL/r7NpLAw941S0sqdV/usSGXTMSwAjc0VX2gNs3rwr4FTzexB59w5wJNeYzCzAXQ/kf2Bc67d\nzHotSTvnOszsk8B9dA95c2N2gVVEREREREQqX5iF1pSZ/QcwK11FOLtE75xz1xeY78fAOmAl8LCZ\nTQGavSzQOXcPcE/QgEVERERERCTZwuw9+L10t0tNAbXAsPSrNv3Kyzn3XefcBOfcec65LmA9sDDE\nuERERERERKRChfak1Tn3AvD1dBvVQE8/zewPzrm3AR1hxSUiIiIiIiKVK4pxWmeZWZ11u9HMVpjZ\nWzzOq3FWRUREREREpEcUhdYPO+dagHOBkcAHga97nLdgL8MiIiIiIiLS/4TZEVNGpgOm84H/cc49\na1a8l2UzGwJMcs59OIJ4REREREREpEJF8aT1STO7H1gE3GdmdUBXoYnN7AK6n7Del35/spndEUFc\nIiIiIiIiUmGiKLT+M3AVMNc5txcYAFxWZPpG4HRgN4BzbgUwLYK4erfgyvDTPOas8NMMS7H1jSIv\niqmf5H+efDHmy+/ctP1ukyCx5ZO73Nz4vcaVPV+Q7VRsfTLfLbiy+5UbU/b7zP9+Yyj3vlVMoViS\nFKNIEMecVdp+nDkHlFNY18tC6WSf+8I6r0cpaH4kad1y16GmLp44euP1fqKcgi6/0D1CnNc1P/eb\npZ674pTE/agPCb3Q6pzrBLYCx5vZfOB1wPAis7Q75/bkfFbwyWykFl4VfpqX3R1+mmEptr5R5EUx\nVzzrf558MebL79y0/W6TILHlk7vc3Pi9xpU9X5DtVGx9Mt8tvKr7lRtT9vvM/35jKPe+VUyhWJIU\no0gQl91d2n6cOQeUU1jXy0LpZJ/7wjqvRylofiRp3XLX4aoN8cTRG6/3E+UUdPmF7hHivK75ud8s\n9dwVpyTuR31I6G1azewbwMXAc3SP25rxcIFZVpnZJUC1mR0LfBpYHnZcIiIiIiIiUnmi6IjpHcAs\n59xBj9N/CvgP4CBwK91tW78SQVwiIiIiIiJSYaIotK4BBtJdCO1Vut3rF4AvmFkKGOacOxBBXCIi\nIiIiIlJhoii07geeNrMHea3g6pxzn843sZndCnyc7qrETwD1ZvYd59w3I4hNREREREREKkgUhdY7\n0q9srsj0xzvnWtLtWu8BrgSeAlRoFRERERER6eei6D14aZ7Xz4vMUm1mA4ALgTudc+0UL+QGF7QL\n/8w8mfkXXHn40CBhxebn80KCDkPiVdB0w+p2PXtb+FlmmAqle8xZh3dtHmaMxbpMT0rX8L0N6RPV\ncvLJ14V+7nA+YS4vTGEsLyn7RBiC5kdfGGYgjOGkwtgXyrE/hTV0VubzvrD9ofd8ScJ6xjE8kldh\n508UQ5r0lndx5225jn+v+RD1Pu9nyKh8QwNmf1fsvfgWeqHVzGaa2W1m9pyZrU2/Xi4yy4+BdcAw\n4GEzmwI0hx0XELwL/8w8mfkXXnX40CBhxebn80KCDkPiVdB0w+p2PXtb+FlmmAqle9ndh3dtHmaM\nxbpMT0rX8L0N6RPVcvLJ14V+7nA+YS4vTGEsLyn7RBiC5kdfGGYgjOGkwtgXyrE/hTV0VubzvrD9\nofd8ScJ6xjE8kldh508UQ5r0lndx5225jn+v+RD1Pu9nyKh8QwNmf1fsvfgWeqEVuAn4EdABNAA/\nB24pNLFz7rvOuQnOufOcc13AemBhbwsxs0lm9mczW2Vmz5pZ3jazIiIiIiIiUrmiaNM62Dn3RzMz\n59x6oNHMngK+VGgGM3sbcDwwmNeqBl/by3LagSucc0+b2TDgSTN7wDn3fAjrICIiIiIiIgkQRaH1\nQHromtVm9klgEzC00MRm9mO6C6tvBH4CvAd4rLeFOOe2AFvS/7eZ2fPAeECFVhERERERkT4iiurB\nlwNDgE8Dc4EPAJcWmf5M59yHgF3OuWuAM4BZfhaYbgd7MoUKu+XoJMBvpzv1k47sVMhPnF46JCrW\nYZCf9PzknZ94ijVe99uAvVBHT9nL8NtRUBgdRkUlyHb3On2+92F0XBRVhzBe96uwYghDdp56zd/c\n6ZKyLnFJel4UO46CHKNez1eldjYYZF6v82d3pJLEbZYr95pdyvxhKGXbllNup4TljsXvfVT2tvV6\n/St23UzyvUOhZWbyoLfOJKPuBDPf/Vupyyy1g9IoO1Qq13WsEs63HoRaaE0/Yb3YOdfqnNvgnFvi\nnHunc+5vRWbbn/67z8wm0N0WdqyPZQ4DbgMud8615Z2oHJ0E+O1054pnj+xUyE+cXjokKtZhkJ/0\n/OSdn3iKNV7324C9UEdP2cvw21FQGB1GRSXIdvc6fb73YXRcFFWHMF73q7BiCEN2nnrN39zpkrIu\ncUl6XhQ7joIco17PV6V2NhhkXq/zZ3ekksRtliv3ml3K/GEoZduWU26nhOWOxe99VPa29Xr9K3bd\nTPK9Q6FlZvKgt84ko+4EM9/9W6nLLLWD0ig7VCrXdawSzrcehFY92MyqnXMdZjYv3Z7V67A1fzCz\nEcB/AU+mP/uJx2UOAH4D3Oyc+12+aRqXHYDGRgAaGhpoaGjwGJaIiIiIiIjELcwnrY+n/z4N/N7M\nPmhm70q/3lloJufctc653c653wBTgOOccwU7bcowMwNuBJ5zzn270HSNDYNobGyksbHx8AJrKdWh\nwlSuaqRRVWcIOn2huEqp9lrqOoY1TmC+6bxUwS23KKql9DZ2YpIl5ZyQL4ZC2yqKMQOTIs5zVhKU\n2lTDT7p+pwmzurLfqsJRVK32m54X+ZqjBGkGEFSY54EFV3pPz+9+21u6xb4PMja436rDvcXi5Z6l\n2HUxX3XcKI+HUufLp9gxXOxaVgnXqmL7mJ8q4qXkd5CmCRmVkMc+hFlotfTfQcBOujtWelv6tfiI\nic0WmNn87BfweuDE9P+9OYvu9rILzWxF+vVWz9GWUh0qTOWqRhpVdYag0xeKq5Rqr6WuY1jjBOab\nzksV3HKLolpKb2MnJllSzgn5Yii0raIYMzAp4jxnJUGpTTX8pOt3mjCrK/utKhxF1Wq/6XmRrzlK\nkGYAQYV5Hlh4lff0/O63vaVb7PsgY4P7rTrcWyxe7lmKXRfzVceN8ngodb58ih3Dxa5llXCtKraP\n+akiXkp+B2makFEJeexDmL0HjzKzzwLPeJz+33hteJtsJwITgVSxmZ1zjxBNR1IiIiIiIiKSEGEW\n+lJALTCswOswzrm3OecWZ17A14EBwGbgwhDjOlJUVcW8VO0IsuxCj/ejqq5TaHo/1Xx7W4ZX5a7W\nl4SYc6vaJK1HubCr28WtXFWa/VZv72v5XA5RNyEIKsp9yU+VyFLOK0GqVSZp/y1ncwg/ClWtLFS9\nMHNeyF0fv7H0dv8Q1TXdazpxN5kp9l3Q66bXZQUVxr1HmIpdW/1Whc5M11vvxl7kW08v617uewI5\nQpiF1i3OuWsKvQrNZGZvMrNlwFeB65xzZzjn7gwxriNFVVXMS9WOIMsu9Hg/quo6hab3U823t2V4\nVe5qfUmIObeqTdJ6lAu7ul3cylWl2W/19r6Wz+UQdROCoKLcl/xUiSzlvBKkWmWS9t9yNofwo1DV\nykLVCzPnhdz18RtLb/cPUV3TvaYTd5OZYt8FvW56XVZQYdx7hKnYtdVvVejMdL31buxFvvX0su7l\nvieQI8RWvdbM3mZmjwL/CnzJOdfgnHsgrnh6+Pk1zc/3QX8Zj1MUTx3DeArtJS+DPNXKlmn4HqRj\nhGxBOoqIQu56JGH/8iJJcfb25CHsGhZh6SsdMSRpX6h05X7qGNVT3VLTKTQ+Z5CnYqU+fSvX+SPK\nzor8rIOfaUvtrChJwug4qZT7ikrNt6C87Hdh7F9hTl8JY83HJMxC65t8Tn8HkBmX9d/N7M6s1x0h\nxuWPn1/T/Hwf9JfxOEXx1DGMp9Be8jLIU61smYbvQTpGyBako4go5K5HEvYvL5IUZ29PHsKuYRGW\nvtIRQ5L2hUpX7qeOUT3VLTWdQuNzBnkqVurTt3KdP6LsrMjPOviZttTOipIkjI6TSrmvqNR8C8rL\nfhfG/hXm9JUw1nxMQiu0Oud2+pzljcCHgOsKvJIl7PYiYfLTnqVYu7kw1zGMX/6S9otS0uLJFtdT\nvqja5eTbp4O0ZUlauygJV2/njlK2RRQ1Tbx8H1e73DDa6fmd1su6lqONbKlPSYq9j6K2kV/F2seW\nY/nlUK4nZGGkFcWT0XJvu3z5HcV9b7lqXfQ2T1jHShTXpFJqdVaY2KoHO+eWZV7AKmBV1mcPlSUI\nP9Vkiv26kS+d7F9Kot5xctuzFFtesXZzfn7BWXDla+uYb3lh/PJXjl+U/GybhVdFUzUpjEK7l1+t\nS4251O3sVb42W+CtLUtujNnbzIswtmtubHHeGEa9rFLTL/UmJ99+sODK4ue07IJQsXEXg+7b2R3r\n9HbdyD02sz8rJHueMLevl/XNd3z5TT87DS/r6uepcND88LoehbZrsfdR1Dbyq1j72GLTJfWmN1/1\n2N6O+ULvy/0U2+t0hfa1QoWSsK7zXuXL7yjue/3el/pNx+s8QWpfFEqz1PNU5hqTOQ5KqdVZYeJs\n02pm1mhmO4AmoMnMdpjZ1WULIqxqMqVWIw5bOZbXVw6MoFU6ynGhCztfS02vErZzb1V4g8xfqrAu\ndmEsO2npR1F12U9ByO+4i154HXc03znU775aideWKGNO+v5eaZK6vn6rx8Z5Dg7Ky31Bqde7KMUR\nR5BlVkqc2TLXmL7S9MeHOMc5vQI4CzjNOTfCOTcCeD1wVnq81/gk8dfFQt3iS/gqOZ+jeBLsZ7mF\n3vudLsmifHIbd3XWpCplvw6yvSqt86o4qqqVO9249u9KOq6Stt+GWbunUmqolOsal/RaNFGnGUYN\ntSQJuzlKpeZDL+IstH4IeL9zbm3mA+fcy8Al6e/Kp5QqT1EoVN24lGoF/V1YVW3DSD+qdPNVkSp3\nVaFC771MF3WBJIh8hSUv1c+KTVtM0HOPl2ql5RLFNsnerwulX+iGvVC+5Ju+2BPYXJk4snugLTZd\nofdel1NMkKq9XueLKh6/eqvqHYZ8N31hVEku1/XhsruD3bgGycew94Pe9s+w96kgVUm9pJF77S0l\nrWL85kcU6edLM4x89aLYPUbY5wW/ghyDYddiKfXeKqHiLLRWO+e2536Y/qw6tKXEdYEtRVRtXirx\nl7mwllsp1cbCaDMWdP64T2yltDmJKnav1TaDtgUrZ7ufuH7A8MLvj0qFftjzI0jVqnw/XmT3QJtP\nqVUTwzq3JC2dQvzuC2HevAcpJAVtQhTG8djbOd/POsSxX0bVttSLqKu6R5GfpewzQa6vQdJMwv10\nZn+Oa+iYOJrPlevHgpjFWWhtD/idP1H9ylWJKqXgVinLjUKc6xLnsks94SatFkKYN7xh8fvLaznz\n029scd0I9KVzTVIF+SHKz5OVoD8w5VtmKbQv9b88SNo+k6QaOlGo5KFj/NbQSfr6hCTOQuuJZtaa\n7wWcUPZoknIhiyqtStZXnxD3F17ankTxq3eU2zVJ+0yQWII+HSqHOKo1eanenaRt3h8Uy/t8PyYE\n3V/LPV9cwmoDGEXVy37QFg9I3j6ThKeAlZB+HEqpodMX8yMtziFvUs652gKv8KoHB5WEC1nSTnBx\n6atPiKOWlBOX1/at5Vpu0tP2y0+1r3JXWy5VOao9e33aUM5tnpT8T4pSq1gnTRzbt1BtFL8/9pXy\nA0GxNAvFI8EU+3Gh3PtfJV/ryyHs7VTp+VFEnE9aJaik39AkrQfD/qpSTlxJ35+TKGgV2iRWW84n\n6o7Twpo/6rbUUnmSVL09yHKj7uCnXGn1d8V+XND5JVm0nTxTobUSJX1H7k9jR+kiG0yhqsGVmJ9x\nPTUpl7B7dU7qTX0p1axL2QcqcZ+XwpJ+fQ5bkmuXldpzt/RtuQ9YtH8kngqtIqXobzcoYfH7y2JS\nLiZhDRsSp7CGPih2Qxhmr5rlUiyuKDvBSGp+iH9JOU+FqZLXqa9VK49T3MPIFFJKTLkPWCpx/0ji\nNolQxRdazSxlZivM7M64YxGRHOUc0qUc/DwVDmvd/fai2puohj5JyjYqJIrhIsJchlS+pB8DQSRp\nnfy009dT1nBk8i2KtsxhSGJMYVKvwYep+EIrcDnwHODiDkREcvTlE2pv6xZV4bAcy+yLos6bvj58\nRH+hwk1y+WmnX2k/qiVJnOPnyuGU/4ep6EKrmU0EFgE/BSzmcERE+raw2rdWUsEg3xObvlBNXPLT\ndpT+TsdAfCrp2hiDii60At8C/g3oijsQEZGKEtX4rl7mSXrb5Wz5ntjopk5E+qsknqf7Cl1biop/\nPNSAzOxtwDbn3Aozayg0XWNjY8//DQ0NNDQUnFREpP9YeBU89PXu/xdc+dr/UVL7HBGRyqbztMSk\nYgutwJnABWa2CBgE1JnZL5xzH8qeKLvQKiISqUr9BTq7ABv1cnJVap6JiIhI2VRs9WDn3Becc5Oc\nc1OB9wJ/yi2wioiUVSX+Ah13obES80xERETKqmILrXmo92ARkXyKFUz9FhqLpRX0OxEREZEi+kSh\n1Tn3kHPugrjjEBFJJC8dH3ktVOZL65izii+nt+/8LF9ERET6nT5RaBURkQCyC5KlFCovu/vIzzIF\nWa/pqZqwiIiIFKBCq4iI9M5voTJfQbaU9ERERKTfUqFVRESCU7VeERERiZgKrSIiEpyemIqIiEjE\nVGgVERERERGRxFKhVUREuqmqr4iIiCSQCq0iItItt6pvqYVYFYJFREQkBCq0iohIfqW2V1V7VxER\nEQmBCq0iIiIiIiKSWCq0iohItI45K+4IREREpIKp0CoiItG67O64IxAREZEKpkKriIj4ow6WRERE\npIxUaBUREX/UwZKIiIiUkQqtIiLymnxPUfVkVURERGJkzrm4Y4iMmbm+vH4iIiIiIiK9sLgDKFVF\nP2k1s+FmdpuZPW9mz5nZGXHHJCIiIiIiIuGpjjuAEn0HuNs5924zqwaGxh2QiIiIiIiIhKdiqweb\nWT2wwjk3rcg0qh4sIiIiIiL9maoHx2gqsN3MbjKzp8zsJ2Y2JO6gREREREREJDyV/KR1LvAocKZz\n7gkz+zbQ4pz7ctY0Drgma7Zlzrll5Y1UREREREREgqrkNq0bgY3OuSfS728DDhuXwTlX8Y/CRURE\nRERE+rOKrR7snNsCbDCzmemP3gSsijEkERERERERCVnFVg8GMLOTgJ8CA4E1wGXOueZ4oxIRERER\nEZGwVHShVURERERERPq2iq0eLCIiIiIiIn2fCq0iIiIiIiKSWCq0ioiIiIiISGKp0CoiIiIiIiKJ\npUKriIiIiIiIJJYKrSIiIiIiIpJYKrSKiIiIiIhIYqnQKiIiIiIiIomlQquIiIiIiIgklgqtIiIi\nIiIiklgqtIqIiIiIiEhiqdAqIiIiIiIiiaVCq4iIiIiIiCSWCq0iIiIiIiKSWCq0ioiIiIiISGKp\n0CoiIiIiIiKJpUKriIiIiIiIJJYKrSIiIiIiIpJYKrSKiIiIiIhIYqnQKiIiIiIiIomlQquIiIiI\niIgklgqtIiIiIiIiklgqtIqIiIiIiEhiqdAqIiIiIiIiiaVCq4iIiIiIiCSWCq0iIiIiIiKSWCq0\nioiIiIiISGKp0CoiIiIiIiKJpUKriIiIiIiIJJYKrSIiIiIiIpJYKrT2wsyOM7PvmdmzZtZsZgfN\n7FUz+4OZfdjMBsYdo4iIiIiISF9lzrm4Y0gsM/sycDVgwHLg70ArMBaYDxwLPOmcOy22IEVERERE\nRPqw6rgDSCoz+wLQCLwCXOSceyLPNG8B/q3MoYmIiIiIiPQbetKah5lNAZqALuAU59xzRaYd6Jw7\nVKbQRERERERE+hW1ac3vMrqfQv+mWIEVQAVWERERERGR6KjQmt+89N8HY41CRERERESkn1OhNb9x\n6b8bY41CRERERESkn1OhVURERERERBJLhdb8Nqf/Tow1ChERERERkX4u8YVWM5tkZn82s1Vm9qyZ\nfTr9+Ugze8DMmszsfjMbHuJi/5L+e06IaYqIiIiIiMQqpvJVSRI/5I2ZjQXGOueeNrORhECOAAAg\nAElEQVRhwJPAhXT38LvDOfdNM/s8MMI5d2VIyzyG7iFvHHCyc+75ItNqyBsREREREakIcZSvSpX4\nJ63OuS3OuafT/7cBzwMTgAuAn6cn+zndGR3WMtcDjcBA4C4zOzXfdGZ2HnBvWMsVERERERGJUhzl\nq1JVxx2AH2Y2BTgZeAwY45zbmv5qKzAmzGU5575mZtXA1cATZrac7l8h2tLLmg/MAJ4Ic7kiIiIi\nIiLlUM7yVSkS/6Q1I/3o+jfA5c651uzvXHcd59DrOTvnvgK8Dvg+UA8sAT4HnAe8BPwzr43pKiIi\nIiIiUhHiKF8FVRFPWs1sAN0Z+j/Oud+lP95qZmOdc1vMbBywLc987uqrr+5539DQQENDg69lF2jz\nOz79WgT8zFeCIiIiIiIiEVm2bBnLli3reX/NNdfgnLPsaYKWr+JSCR0xGd11qnc6567I+vyb6c++\nYWZXAsNzGwqbmUv6+omIiIiIiETFzA4rtJZSvopLJRRa5wEPAyt57RH1VcDjwK+AycA64D3OuT05\n86rQKiIiIiIi/VaeQmvg8lVcEl9oLYUKrSIiIiIi0p/lFlorUcV0xCQiIiIiIiL9jwqtIiIiIiIi\nklgqtIqIiIiIiEhiqdAqIpJQ7Ts3sOP2a2jfuSHuUERERERio0KriEhCdezawK7fX0vHLhVaRURE\npP9SoVVEREREREQSS4VWERERERERSSwVWkVERERERCSxVGgVERERERGRxFKhVURERERERBKrOu4A\nREREREREpO9qWpIaCPwLMD/90TLgRzOXdrZ7mV+FVhEREREREYnSf9Nd9vwBYMAH0599xMvMKrSK\niIiIiIhIlE6bubTzxKz3DzYtSa30OrPatIqIiIiIiEiUOpqWpGZk3jQtSU0HOrzOrCetIiIiIiIi\nEqV/A/7UtCS1Nv1+CnCZ15lVaBUREREREZHIzFza+WDTktRMYBbggBdnLu086HV+VQ8WERERERGR\n0DUtSZ2T/vsuYBEwAzgWOL9pSeqdXtPRk1YRERERERGJwnzgQWAx3U9Yc/3WSyIqtIqIiIiIiEjo\nZi7tvDr977Uzl3a+nP1d05LUNK/pqHqwiIiIiIiU1b3rV/GHtZ5HPJHKd1uez37tdWY9aRURERER\nkbJpOXSAj/zpfwC4v34Ux48cF3NEEpWmJanZwPHA8HQbVqO7mnAdMMhrOnrSKiIiIiIiZfPC7i09\n/3/zqftijETKYCbd7Vnr03/flv57CvBRr4noSauIiIiIiJRN056tAHzouDP4xQt/49amJ3jfzNNi\njkqiMHNp5++B3zctSZ05c2nn8qDpqNAqIiIiIiJl89KebQypHsg1py/m5eYdfPmxOzh/ygnUDfRc\nW1Qqz4qmJalP0l1VeDDpnoRnLu38sJeZE1892Mx+ZmZbzeyZrM9GmtkDZtZkZveb2fA4YxSRytDR\n1UnTnq04l6/HdRERESmHl/Zs49jhoxlQleKzJ7+J/R3tLN+8Ju6wJFr/A4wB3gosAyYBbV5nTnyh\nFbiJ7pXLdiXwgHNuJt3j/lxZ9qhEpOJ8fvntvPH2b/HNp+6POxQREZF+q2nPVo6tHw3APx09kZpU\nNY9tXRtzVBKxGTOXdn4JaJu5tPPnwCLgdK8zJ77Q6pz7C7A75+MLgJ+n//85cGFZgxKRirN9fyu/\nWf0UAN9b+Wce3PBCzBGJiIj0Py2HDrBlXwvHDu8utA5MVfNPR0/i79vWxxyZROxQ+m9z05LUCcBw\nYJTXmRNfaC1gjHNua/r/rXQ/ahYRKejWpifocF3c//ZPM2fkOP5l2S8P671QREREovfSnm0AzEwX\nWgFOPHoCz+/aQmdXV1xhSfRuaFqSGgl8EbgDeA74pteZK74jJuecM7OCDdQaGxt7/m9oaKChoaEM\nUYlIkuxrP8RPV/2VhgkzOX7keH7x5st40+++zX88+jtuO+/jmFncIYqIiPQLL6V7Dj52+GvPnOaM\nHMeBznZebtnR8wRWomNmPwPOB7Y5505If9YIfATYnp7sKufcvWEsr2lJqgponbm0cxfwEDDVbxqV\nWmjdamZjnXNbzGwcsK3QhNmFVpGke7VtD6ubt7Fgwsy4Q+lTbn7xMXYd3MtnTjoHgDFD6vj8KW/h\nykdv5+71z3L+lBNijlBERKR/eGbnJoZUD2TSsBE9n80ZOQGAVbs2qdBaHjcB3wN+kfWZA653zl0f\n9sJmLu3salqS+nfg/4KmUanVg+8ALk3/fynwuxhjEQnNv//1N1xy/8/425aX4w6lz3DOcUvT47x+\nzBTmjjmm5/P3zpzLcSPGcuXy23m5eUeMEYqIiPQff9+2jlNGTSZV9VoxZMbwUdSkqnl256YYIyvN\nU9tf4WBnR9xheFKgzyCAKKuePdC0JPW5piWpSU1LUiMzL68zJ77Qama3AsuBWWa2wcwuA74OvNnM\nmoA3pt+LVLS29oM8tOklAP6oToJC88Luraxp3s47p5982OfVVSl+8sYPYBiffjjwD38iIiLiUcuh\nAzy/ewunZf2IDDCgKsWs4WN4btfmmCIrzQOvPMcFf/ghH/vTzXGHUqpPmdk/zOzGCIYUfS/wCeBh\n4Mn06+9eZ0589WDn3PsKfPWmsgYiErFlrzb1/P/0jg0xRtK3ZPJy3rgZR3w3te5oPnHiAr7yxN1s\n2tvM+KH15Q5PRESk31ix/RW6nOO00VOO+O74keN4YMPzOOcqpq+Jv25azS1Nj/fcwz248QVaDx2g\nduCgWONatmwZy5Yt8zvbfwPXpv//CnAd8M9+Emhakho7c2ln3l4uZy7tnOI3oGyJf9Iq0h9s39/K\nTc/9lZE1Q/ngrNNZueNV9aAXklW7NjFsQA2Ta0fk/f60MVMAeHq7figQERGJUlO6E6bXHTX+iO/m\njBzPzgN72bKvpdxhBeKc46pHf8cda1fScugA75t5GgDLN6+JObLuzmcbGxt7Xl4457a5NOCnwOsD\nLPrGAPN4okKrSMwOdXaw+A8/4LGt63j/rNM4dfQx7Os4RNOegv2LiQ+rdm7i+JHjqLL8p7vjR4xj\nQFVKT7dFREQitqZ5B8NrhjBy0NAjvssUZCulivC2/a283LKDj82Zx61v+We+esbbGVI9kIc3rY47\ntEDSndtmvAN4xm8aM5d2nh9eRIdLfPVgkb7u6R0b2di2h38/5Vw+cUIDa1u6OwVauXMjs0eOjTm6\nytblunhu12YuOvbUgtMMqh7AscNHa8zWCuec40BnB4OrB8QdioiIFLCmeTvT6o7O+93skeMwjJU7\nN3LOpOPKHJl/q9KF63MnH88ZY6cBcPqYqTy86aXEV3FO9xm0ADjazDYAVwMNZvZPdPcivBb4eL55\ne+s8KT2sTehUaBWJ2codGwF438zTSFVVMa3+aIYNqGHljo1cfOzcmKPL71cv/R0HiY0vY33rLvZ2\nHGLOyCOrIWWbXjeKlTs3likqCdvftrzMtY/fxbO7NnHN6xdz2fFnxh2SiIjksa5lJ2eOm5b3u2ED\naphRP4pndrxa5qiCeW5Xd0/Hx2fdY7z1mDl8fvlveWTzas4ef2xcofWqQJ9BP/M4+1N0F2wLyTsG\na3qs1kuAqTOXdl7btCQ1GRg7c2nn414WqkKrSMzWt+5i2IAajh40DIAqq+KEoybwj4SetPcc3Mdn\nH7kNgLdOnkN9zeCYIyos03X+nJHjik43rf5o7lr/DAc7O6hJ6bRYSf77mYf46t/vYfzQek46eiKN\nj/+BN006jkm1nnvRFxGRMnDOseNAG2OG1BWc5oSjJ/DXCqle+/yuLUwcNpy6rE6X3jX9ZL799IN8\n9Yl7uPuC6QWbJlWyEjpU+iHQRffIL9cCbenPPD0B6Xs5KVJhXmndxeTakYdVIznx6Ik8v3szhxI4\n3teT217p+f8fO5L9dPKxrWsZUj2Q2b0UWqfXj6LLOda17CxTZOHq6OqMO4RYbN7bzDefup+3TD6e\nh975r/x44Qcw4Kbnl8cdmoiI5Gg+tJ/2rk5GDR5WcJrZI8aydX8rzQf3lzGyYJr2bGXm8DGHfTao\negCfO+XNPLtrE09t6/t9ZTQtSY1oWpJ6fdOS1PzMq8jkp89c2vn/Afuhpxqx5zY9KrSKxGx9606O\nyXkqdNJREzjY2dHTy16SPL51Xc//K7a/UnjCmDnnWL55DXNHH8OAqlTRaafXjwK629pUim8+eR8f\n+9PNPLJpNcffcg2/esnzUGd9xm/WrKC9q5MvnraIwdUDGT+0nnMnH9/zuYiIJMeO/W0AHDWocKF1\narq9a6Z/j6Tq6OpkTfP2IwqtAG+eNBuAv29bX+6wyqppSeqjdI+5ej9wDXAf0FhklkNNS1I9N2RN\nS1Kj6H7y6okKrSIx6nJdbGjbzeTaow77/ISjJwCwcmdyqgjvPrCXq5bfzs9feJRTRk3m2PrRPJng\nQuvyLS/TtGcb5x0zp9dpM51CvNxSGYXWtvaDfHfln7l7/bO8976fsq/jEEuffzTusMqqy3Xx69VP\nctroY3pucgAumnEKOw/sZdnGF2OMTkREcu040F1oLfak9bVCa7JrPq1v3cWhrk5m5Sm0jhw0lDGD\na/tDB4+X0z0szrqZSzsXAicDzUWm/x5wOzC6aUnq/wF/Bb7mdWEqtIrEaMu+Vg52djAl50nr5GEj\nGVCVSlR11V+88Df+58XHaGs/yNnjZzB3zDE8uW19YsdT+1l63Nt3zyjcc3BG7cBBjBlcWzFPWvM9\n4V61azP7Ow7FEE35Oef4wcqHWNO8nUtnv+Gw7xomzuKoQUP51eonY4oumFfb9rDwt9fz42cfjjsU\nEZFIZJ60Hj2otuA0k2tHYljin7S+uLu7JtzMEUcWWgGOGzG2PxRaD8xc2rkfoGlJatDMpZ0vALMK\nTTxzaefNwOfpLqhuAt4+c2nnr7wuTIXWiO0+sDfuECTBMiflY3KetKaqqpg0bATrWyPpNTyQTPvV\nS487g4/OmccZY6fRfOgAc//v//Hghhdiju5wbe0H+eOGF7jo2FM9D4EyrX4ULzcn+yKZ8fdt6zGM\n78y/mLdOnsM3z3onnenhffqDnz2/nG88dR/nTprNBVNPPOy7AVUp3jHtn/jjhhcq6vx7y4uP8VLz\nNr7693v6zY8PItK/7Eifk48efOQYrRmDqwcwZkgtG9qSc/+TzxPb1lGTqs5bPRi6C7Orm7fjXLFO\ndivehqYlqRHA74AHmpak7gDWFZq4aUlqOrB25tLO7wOrgDc3LUkN97qw0AqtE2+6ctbEm658cOJN\nV65Kvz9x4k1XfjGs9CvRA688xwm3foVfvPC3uEORhHo+Xcg4bsSR47FOrh3J+gQ9aX1xz1YWTzmR\nr77hQobXDGHxlBP46Jx5ANz+8tMxR3e4Z3a+Sqfr4qxx0z3PM7l2BBvbdkcYlT/5LnQbWndx97pn\nWbnjVabXH827pp/MT8/5IAsndP+wmfSOscKwZV8L//XU/TRMmMmN53wob8+MF804lfauTn6/dmUM\nEfrnnOOOdKxdzvHwqy/FHJGISPh2HGjDMEbUDCk63eTakbzSmpzrcT4Pv/oSrx8z5f9n77zD26rP\n9v85krcleW95xEOxsydJSMhgb1ooFOjApov21/K+HW+brrd0h7a83YNCa5cCLRvKSkJCEkISErIT\nLzmO97a8l6xxfn9IRziOh8Y5khLyuS5dsWXp6DiWzjnP97mf+552YTxbm8CYzULH6KCf98x/GMps\nHzWU2XoNZbaHgO8DjwMfmeEpLwJWY7E6H3gUyASedvf15Oy0PgZ8B5CWiE8BU2UAfWh4tf4UAN85\n8DLXvvLbc1xXL3EJgMredhIioqec78jWJtAYBCuNdtHOiGWchsEeCifIYMLUIfzgspu5Pmu+K2s2\nWJD2Z1FChtvP0Wvi6BgdZMxqUWq33ObZmsMsePqH1Dk7v78/uQur3Ubxjn/w+V1P8lZTJQsn/G6p\nUTqSIjWcDNKYJLk41d3Cl3Y/jcVu4yerb5s2uH1+QjpFcam8VHvMz3voHZW97dQPmvjJ6tvQhUWw\nvaki0Lt0iUtc4hKy0zM2TEx4JCGzmCNmauKCutPaPjJAdV/HjDmsksFmYxAp5pTEUGbbbSiz/cdQ\nZptJKmQ3lNmswO3A7w1ltv8BZo53mICcRWtUc8mWg9I3zSVbRCDwV38BpHKCVK+ip42/V+wL4N5c\nItgQRZH3O+qZH58+5cV3WnQMA+NjjFgCJxV8sfYYi//1E56vPQpMPbtREJtM42BPULm1nuhuJiM6\nlsQZzB4mk6lxnGBah/uU2i23Kas8QP/4GG81VwKws6mK588cpXqCm/TSpEzX14IgsDI5hx3NVUHp\nOC0HJ7qbufm1P3La1MqPV99Kji5hxsdfqS/kRHczo0GwCDETY1YLW45sJURQcVPOAjbp57KjqQqb\n3W1DxUtcIuDY7HZOm1oQRZHW4f5L799LTIlpbJiEiOmlwRKZ2njahgeCMvYP4N1Whxpmw4xFq+Mc\nFUyKuSBg3Fisvhf4NPCa876ARN506Us350vf6Es3fwz4cAxYTUPLcB/3Fa7hqWvvZ3XqnKBygr1E\n4DnYUcfZgW5uy1085c9TIh1GBZ0BkJYc6WzkSGcDfzi5i17zCD84+CrAlC55ubpErKKdpiBaTTzR\n3cLiRL1Hz8nUxAHQFGCJ8KjV4jJv2N74QcftJ4ffBODBRZvYmGHgo3lLz3lecdEahi1mbnn1jy6z\ni4uJJ6oOEBkSynt3fot7DZfN+vhlSZlYRTvlplY/7J33/LV8L283V/ODy24mKVLLDVnzMY0Ns6+t\nNtC7dolLuM3vTr7N9f/5PSue/TmXPftzfnF0e6B36RJBiGlsyK2iNUsTh4hISxAsIk/Fkc5GdGER\nFMWfP9olodfEohIE6gcvFa0TuB9YA/zUUGarMxarc4En3X2ynEXrl3Hok+fqSze3Al8Fvijj9i8o\nBsbHGBgfQ6+JZUOGgWVJWTQP9V5afbyEixdqj6ELizjPSEYiKSowReuodZy7tv6V217/M8a+TgAs\ndhthKjVZk1yOwWFgBHA2SJz+es0jNAyaWORh0ZoWHQNAR4DckIctZh7Y9RQPH9nKuN3GyuRsrM7j\nRYYmlj7zCLqwCL6+9BqevPb+82aCLk/L49nrP8ewdZydzcFljOUrVruNNxvKuSF7PvFuXPAALE3K\nAuBoEMcyAbxad5I1qbmUzLscgKszi4gJi+CZMx++3N1LXLi8VucYh5KOny/WHrvYDWgu4QW9YyPE\nh7vXaQWCymdiIhU9bRTFpU3pqSARpg4hPTrmopYHG4vVD7tzn4ShzFZuKLN9xVBm+5fz+7OGMtsW\nd19PlqJVX7pZDXyxuWTLVUAyUNhcsmVtc8mWejm2fyEifdD0zu5NljYei90WtPEgl/A/p02tLE3M\nJDIkbMqfJ0udVj+/Z052t2CeIMn55rJrAUiPjp1yDiU3xplxGiTOu/udHaqVydkePU+aK+4MUJfy\nP3Unea3+FI87xwi+4fx/B7g5x7GwsTQpC7Vq+sP28uQsokPCgr676CnlPW0MjI+5DKfcITlKS6Ym\nLqizhMesFox9nVyWkuO6LyIklNtyl7C1ofycz+ElLhGsWO02zg508/n563jimhK+u+IG2kb6g8KT\n4RIOWof62Lz/JVqHAtu5dFse7Lx2DkYzJrtop7K3nXnxs49i5uqSqHEu/l+kXDvFfTdOvsNYrH7O\n+e+pKW5uOyaG+LCjLppLttj0pZvX6Us3C80lWy4+XZoXtDiL1vRoh5NzjlPbXj9oIkPjtrvzJS5S\nrHYbxr4Oiosun/YxKc5Oq7+d5yRp6l823osuLJIVydk0DvZwU87CKR8fFx5FXHhU0GSc7myqQhcW\nwfLkLI+eFxkShjY0nK4AOf1NdP69JrOItWl5fHnRRjj+NFdnFvLdFMO0fwMJlaCiIDblnNnXi4H3\n2s8CsCp1jkfPW5Gczf62WkRRnNa0KZAY+zqwifbzLn7WpeXzRNV7nDa1evw+vsTsVPd28KXdT3Nf\n0Ro+Xbg60LtzwdM42IvFbqMwLpUr9XPJiI7lp4ff5FB7/XlxbhcyZpuVcLUsl81+5/cnd/Fk9UEs\ndiuPrLszIPtgF+30mkfcKlrTomIIEVRBacbUMNjDiHXcraJ1eXIWvz3xNgPjY+jCIvywd/7BWKz+\nIvAlIM9YrD414UdaYCoDn/9y/nuLL68rpzz4OPCKvnTzp/Slm+9w3m6XcfsXFM3O1azMCZ1W+PC4\niF1iZhoGezDbrBRNE0oNjmIwRFD5vYhqGuolTKXmxpwFrM8oICo0jF+t+xib9NN3uXJ1iextPcN3\nDrxM23C/H/f2XJqHennp7HFunbN4VnfCqUiK1AasaD1lamFtWh67Pvo1/rTRYbx+dWYR4Mge/eLC\nDVPKsyczNy7FFXp+sfBeex1zdImkROk8et7KlBw6RgeDtuNT7jTrmx+ffs79UqF6pLPB7/v0YeB3\nJ96muq+DHx56LaDHq4uF2n5HJykvJhmAgtgkdGERvN1czffee4XDHRfu+/gPJ3ez4pmf8fCRbcz9\n5//yXM2RQO+SVxx2HkveDKCCo988ik20uzXioVapyNDE0TAQfMduKQ/dnaJ1dWoudlHk5SCLBZSB\np3EUoP8BbnZ+fQuw3FBm+8TkBxvKbK3Of+uBUWAhsAAYcd7nFnIWrRFAD3Aljl9A+iU+lDQP9RKu\nDnFJDtOiY1AJQtDo83vNI7xYewxrEDm+fpiQHGol+fhUqAQVSZFaOkf8W0S1DPWRHh0746zGZHJj\nEmkc6uGJqvd49PQ7Cu7dzDxbcwSr3c5XFm3y6vlJkdqAGF9Z7DaqettZkJBBQWzytJJxdyiISaZ7\nbIhe84iMexg47KKdQx11rPawywqOTivA+x31Mu+VPJT3tKIJDSdLe+5xICVKR3p0zCXzPgWw2m3s\nbjGyJjUXURT54aHXLnlN+EitczQkzzkqohJULE3K4tX6k5RVHmDzgZcALrj/Z6vdxm9P7KR9ZMAR\nOybaeaL6vUDvlsfY7HbODnQzNzaFgfExVj+3hVcDkGFtGhsGcNuXoDAuxaX8CiYqetpQCQKGKYwp\nJ7M6ZQ7r0vL54aHXaL2IFsgMZbZ+Q5mt3lBmuxvIAjY5i0+VsVg97cnaWKy+CzgE3AncBRwyFqvd\nbv3LpnNoLtlSLNe2LgaahnrRa+JckrRQlZq0qJiAO5NK/PrYDv5euZ+u0UG+sGB9oHfnQ4c0NynN\nrU5HcpTW7/Lg5uHeGYvpqbgmcx7PnXHE4hwOYB7x1sZyVqXmeC3BT47UUt7j33lQm93Omb4uzDYr\nCyZ13LwhzzVj3MVyD+d6g5G6ARP942MezyiDw+06JiyS/W1n+Vj+cgX2zjdOdDczPz59ygWi+fHp\nVPj5vfhh4ER3M/3jo3y6cDUbMgrYcmQbEepQfrP+rkDv2gVL7UAXCRHRxE4wh/to7mL2tBgBx8jJ\n70/s4pFjb/GPa4rZkGEI1K56RG1/N6NWC3fkLaVnbITIkFC2NVYwarUQGeJ2SkfAaR7uxWyzUlJ0\nOe+01vBGw2n+cHIXt0xjAqkUUtHqjjwYoCg+jbeaKhm1jvu0kCs3lT1t5OmS3HoPqFUqfrbmNta/\n+AjbGspdhnsXC8Zi9UPAcmAuUAqEAU8B0/2i3wNWGspsnc7nJwE7gefceT3ZOq360s2Z+tLNL+lL\nN3c5by/oSzd7Zt95EdE8dP6Ff6Y2Lig6rVa7jVfqTgDwTuuZAO/NhxPJXCl5FrljcqTW70ZMLUN9\nHhd9N2TPZ+8d3+AL86+gsrctIJmtVruNmr5OliZ6PwOYEBntOrH6g2GLmU0v/R/XvPIbAOYnuJ2x\nPS15TjfnYJkx9hXJVGpBgucFvVql4or0fPa01gSdk6nZZqXc1MqypKnfr/MT0jnT38WoNXA5zRcj\nO5qqUAkC69Lz+fKiTXxu/jqerz16SSbsA7X9XeQ7jzsSH8tfzvbbHuTdO/4HgIePbsMq2nn2zIUj\nrz3lVDp8aeFG/nltCR/LX4ZNdOTRXkic6XOcCwrjUvnrlZ/kwUWbqOrt8HuGdduI4zPm7pjH/Pg0\n7KJIuSm40jPLe9rckgZLzNElkhARzemLcxHyo8BtwDCAoczWAmhmeLwATLw4MTnvcws55cGlOLTN\n6c7bq877PnSIokj9oImsyUWrJi7gM62iKHKwox7T2DDa0HBXGPgl/Evn6CBRIWFoQsNnfFxypJYu\nP7rZjlktdI4OovewaBUEgTm6RBYl6jHbrBgDMFNZP2DCYrcxNy7Z620kRmjoHx/1W6D5O60150QF\n5eoSfd5mpjaeUJX6oplrLe9pI1SlJj/Gu7/r+owCOkYGXPFNwcLRrkbG7TaWJWdO+XPpgq3qIvk7\nBgM2u51Xzp7girR8V2TUrXMcOdnHu5sCuWteEQznblEUOdPX5Yo+m8i8+HRydAkuI0pwuOZfKJw2\ntRChDnWpV5YkOj6rx7ourPfKGWnmONbxN8qPTcYm2l2Gof6iznmuc9ecS3JV39cWPM2V9pEBWob7\nWJLkfk9OEASK4tKCUuosA2ZDmc2l+zcWq2dro28FthmL1cXGYnUJ8AbwprsvJmfRmtRcsqW0uWSL\nxXkrwxF/86GjbqCbgfEx5k/qDOg1cXSMDAY0xuCB3U/z8a2PEa4O4cuLNmEaG760whwAOkcGSZpF\nGgwOebBpbNhvs8fSSqg+2jN5sMR85+qjZFTgT6SipMCNOZPpkGRLPX6aBz3e5XAMvjF7Ab9b/3Gv\nzKMmE6pSsywpi33O6J8LnfKeVgpikwnz0rVzQ7pDiihJFYOFv5XvQxMazvr0gil/LpkzXWzxRYHk\nsfJ3aRzq4d65l7numxubgoBwwV1QHulsoOCf/8u/jO8HdD/ahvvpMQ8zL276ztN3V97AbbmLeWDB\nes72dzNkMftxD73ndE8r8+LTXMfl5CgtGdGxF8wCx6jVwncOvExp5X4SIzSuhV2wIP0AACAASURB\nVJp0ZyZ5y7B/42/qB0ykRcW4La1OiNCwID49qBSBkqHViuQcj55XFJ9KVW/7BTfX7QbPGYvVjwKx\nxmL153FIfR+f4fHfBB4FFuMwY3rUUGb7prsvJqd3t0lfuvlTOBylBOBuQNHgRkEQrgd+A6iBx0VR\nnDbQ1p+80XAagA2TLkayNPGIiLQM9U65Kqk0bcP9vF5/ipiwCH625qOubtopUwvpl2J4/ErH6IAr\n0mYmUiJ1iIh0jQ6R5jzRKEmDUwmg13pXtM7RJRKhDqW8p5U78e8ModEZ81LgZUcOHCdJgJ6xIVI9\ndKr1BmNfB3NjU/jrlZ+UdbsbMgr4xdHtVHgoYwpGKnra2JAxdWHnDhmaWHJ1ibzXfpbPL7hCxj3z\nnsqedrY2lvO1JVcTPY3aIlMThy4swu8z1hcrY1YLvz2xk6szC7kxe4Hr/qjQMHJ0CQFZaPOGV+tO\n8lT1IZqGehizWfj9iV3cY1gZsP055izgliRNrRgAuCF7ATdkL2BnUxV/Of0Op0wtrEnN9dcueoXV\nbuNkdwt3FZx7HlualMn7HQ3YRbtHZoWB4PX6kzxR5TCOmjhHnOGMYvS3MVDdgIk5Os8ikK5IL+Cx\n8r1BExmzq7kKTWi4a4HeXQyxKZhtVpqGesnx8P8gmDGU2X5pLFZfCwwCBuD7hjLbWzM8XgRecN48\nRs5P3P04nKDagTYczlAlMm7/HARBUAN/AK4H5gH3CIJQpNTrecK2xgqWJmWSOSmeYq4z3iRQjpBS\nDuST136G23IXMy8+DZUgcOrSRZHf6RodmtWECRwru4DfHG0rnRduhV52K9UqFfPi0zg+IXPUX9T0\ndZKpiSMq1HvDhkSn23f3qH/mWo19nRTEyi9I+eTcVSRFavivd57xm9RZCTpHBukcHTwvEsZTliVl\ncay7KSjklAA7m6sAuK9o+oxQQRCYF592Uc5B2UW73/8We1qMDFrMFBddfl5m79zYlKCTj0+FKIr8\n+P3XebftDA2DPaRE6Wgc6qHDz74HEznQfpZwdQhFcamzPnZxokNSeaLL/+cHT6nu7WDEOs7ypHMN\n4K7SF9I20s/9O58ImuPJdBxyRg0tSshwZH47SY2OQUDwe6e1bqCbOR6OwNyQMx+raOf1+lOzP1hh\nLHYbWxvKuT5rvsfKH2kxXZJqX0wYymzbDWW2bzhv0xasAMZi9R3GYnWNsVg9YCxWDzpvbh/AZCta\nm0u21DeXbLmluWRLkvN2W3PJFiVtRC8DzoiiWC+KogX4N45h4IAimWusSjnf8XlefBpx4VFsb6wI\nwJ598GGRLpIjQ8IoiEm+4OYzLgY6RwbcK1qdj/GXGVNlbzupUTri3HT3m4r1GQUc7Wr0+/uquq/D\nLQv6mZDkwd1jys8Rj1jGaRzs8XmfpyI+Ipofr7qVyt72C1omXNHrfh7eTCxLzqJrdCgojPAAjnU1\nkqtLdHX2p2NBfDqVPReXpMw0NsQVL/yKz739pF9f92BHHeHqENam5Z33s4LYZOoHTEG/wNM63E/r\ncD+fnLuKn635CI85FRoH2s8GZH8sdhv/OXuSazKLiHBD8pkYqUGvieX9znrld85H3mwsB2BF8rlG\naR/LX8YXF2xgR1NV0Hfna/o6WJUyhzdu/co5ne1QlZrkKC2tQ/4rWvvMI/SaRzzuMi5NzGSOLpHn\nnekEgeS0qZX+8TGuyiz0+Ln5znnimgtgcUxhfgHcaiiz6QxlNq3z5rasTU734Cf0pZtjJ3wfpy/d\n/He5tj8FGcDEq+Jm530B5bSplXG7zRUOP5EQlZpb5yxmW2MFA+Njft+3mr5O0qJizjH/2aSfy77W\nM7wXoJPeh5ERyziDFvOszsHwQdHqr9ibyp42imaYTXKH+4suJzlSy4/ff12mvZodq93G2f4un7uW\nrplWPzgIl/e0IiKy0AtXXHe4Ul+IWlC5ZnAuRKR5Tl+L1qVBZqByort5RjmlxPz4dMZsFpeBycXA\na3WnaBjsYWtjOWf7/fd7nTa1UhSXRugUc+OSMU39oMlv++MN0gjE7XlL+XThahYn6NGGhnOgLTDn\n78OdDfSYh11mVu5wY/YCtjVW8JdTgcvzno0Xao/xm+M7uS5r3nmKOUEQKClaA8ChIM1/BkdX3tjX\ngWGac2J6dIzLw8If1A84PluedloFQeDjBcs52FEX8ILvYHsdwJRNqdmIDY8iOVIb8N8hCGg3lNkq\nvX2ynPLgRc0lW1zLNs0lW3qBZTJufzJu6TIeeugh12337t0K7o6DBudJb7q5ujvyl2K2WXkjAFKH\nM/1drtUeiS8v2kiWNp6v7n0Ou3jxrOYHM5IkR5ormQlJrto5onzROm6zcqa/i6L42WVeMxEfEc2d\n+cs50tnot7iOhsEexu025vrYtYwJiyREUPml0yrFKSxIUGatLSo0jAUJ6UF9YTUbFT1t6DWx5+Q/\nekNhfCoR6lCOdgUuQ1hi1DpO+8jAeREhUyFFIJ00tdBvHlV61/zCO601rq8P+6njJooi5T2t08Ym\nGZzn62DvnH0wt+9476hVKlalzuGVuhNsbSj3+/7saq4mVKVmvQcz599cdh1X6Qt55PhbjPk5csUd\n7KKdXx7dxtKkTP608d4pH5MWHUN0SBi1A8EbK9YxOkj/+Ni0Sp706Fi/zrTWeVm0AtxdsJIwldo1\nnxsoDnbUkatLdI1teUp+TBLVfR96N/jDxmL1M8Zi9T1OqfAdxmL17e4+Wc6iVdCXbnYtSTm/9t0K\nc3pagIlL1Zk4uq3nMLFo3bhxo4K740AqLqbLoVqamElKlM7vkj2HLX3nebERseFRPLh4E01DvRec\ne+KFiiRRdCdWJkwdQnx4tF9mWmv7u7HYbT53WgGK4lIdnYsB/0Q8STO0kx27PUUQBBIioulWOGZo\nYHyM588cJT06RlHDp6VJmZzobr5g5aXlPa0+z7OCQw63KDEjKDqtTc7Pf9akDs5UFMSmoA0N58F3\nnmHhv37Eo6ff4a3GioA60PuCxW5jf1stHy9YQZhK7bc50qahXvrHx6YtWoviU4kJi2TvhII6GDH2\ndZIUqTlnfKO46HKGLGY++/Y/OdXtX7+MU6YW5sWnzRrdNpGIkFDuLFjOqNUSdF2nhkEThzsbaR7q\n477CNYRPM7coCAL5scl+VQp4iuRPMd0idFqUjrbhfr/N5UpqEXeOe5NJjNRwU85Cnj9zhOEAOU/b\nRTuHOupYlep5l1VibVoeJ7qbaQpw9KUcGIvVp2a4nZzhqTHACHAtcLPzdou7rytn0foIcEBfuvnH\n+tLNPwEOAL+UcfuTOQwUCIKQIwhCGPBxHDmxAaVjdGDG/E1BECiISXatOvmL9pEBhq3jU8onFzul\nc8G+ynyx4EmnFRxmTP6Yaa3snfkk5wnpLndC/8zMHOlsQBMa7nOnFSAhUqO4PPhXR7dzuqeVby+/\n4TxTGDlZmpTFiHX8glzdHbGMc3agmyKZ3I+XJmVxytTCkc7GgBqoSFnd7ly8harU/HDVLSxO1DM3\nNoUfv/8GJTuf4EeH/Ce9l5PjXU0MWsxs0s8lNybJb6YkJ52LWgunUTWEqNRsyChge2MlIxb/qEO8\noaav8zwV18YMA8fu/i4A+9v9uxhu7OucVn46E5LKIJg6lU9WH2Tt87/k9jf+QmRIKNdnz5/x8bm6\nRGr7g2f/J1PpbEIUTmOQlR4dy4h1nP5x/yg46gdNpEe7H3czmU8VrmbQYmZnU5XMe+YeVb0d9I+P\neSUNlrgjfxkqQaC0cr+MexYwbnHe3nTe7gU+wSy5q4YyW7GhzFYy+ebui8ppxPQEcDvQicNB+KPO\n+xRBFEUr8GVgG1ABPCOKotc6abnoHBkkOVI744VobkwidQNdfr1wcoVLTyFJm6NLIFwdcqlo9ROt\nQ32oBdW03fjJpERq/TLTWtnTTphKPeV7xFOkHDh/zcwc7mxgWVIWapXvh7TECA3dChetO5uruCaz\niI/mLVH0dVYmO5wvg72DNBWnTC3YRZElie6HuM/EJwwrCVWpue31P/GVd54JWLdSipXK0rjXcbir\nYAWv3/JlXrnpS/zvypsoiEnmtfqTF2T3fE9rDSpBYG1aHobYZL912o50Nc7qcHt/0Vp6zSO8UBt4\nw5epEEWRmr4ODHHnL8wlRTryQ/2ZTNBvHqVjZMCrXOwcbQICQlAVfU9XH3J9fVf+ilm7x/kxSbQM\n9/ltBMYT2ob72dFUSVpUzLSjFdI52l8Lyy1Dfeg13kXpASxLykQTGs57HXUy7pX7SL4vq33otOo1\ncdycs5Dnzxy74MfxDGW2ekOZrR641lBm+6ahzHbKUGY7aSizfQtHF3VWjMVqjw+2Pl/h6Us3R+tL\nN4cBNJdsKQfeAsIAz+21PEQUxTdFUZwrimK+KIo/V/r13KF9ZGDWYiRXl0j/+Bg9Zv/EagDsbKpC\nQGDeFCftEJWaubEpVPVeeN2YC5Hqvg6ytPFuF1iOTqvyRWv9YDfZ2oQpjUo8JTlKi0oQaPPDzMzg\n+BhVve1Tmp95Q3xENCYFZ1rHrBYaBnumlSrKSZY2npXJ2fzm+M6AOYx6y3Fn/uNimYrW3Jgk9t/5\nTf57yVW8fPY4d299zC+fq8k0DfYQFRLmMv1yl6jQMD6/4Aq+uuQqTGPDQSF19pS9LTUsTtQTFx5F\nljae1uF+vxTf73c0sDhRP2NMxYqUbDI1cbwbpG7bbcP9DFrM084oLkzI4KQf5cGuNAIvFjkjQkLJ\n1MQFjbx2cHyM0z2t/PeSq9h+24M8tOrmWZ+T5+wwB1PhDY7f5dpXfsuhjno26edO+7jcGMnN1j/7\n3z4yQFqU91nzISo1K5KzA2Y6drCjnozoWJ8Kb4D16QX0mIeD4r0vCMLfBUHoEATh1IT74gVBeEsQ\nBKMgCNsFQZhNEigYi9XrpG+Mxeq1gLvyMY9lZnJ0WrcC2QD60s35OGTBc4D/py/dvEWG7V9QdIwM\nkDLLkLZk+e2veb8/nNzF4xX7WJeeN22UyZyYxIvKoVLCYrcFxcFBYtxm5WBHPcuT3C+wkiN1dI0O\nKr4y1zky6LXBwGRCVGqSI7V+WcU93t2EXRRZkZw9+4PdIDEiGpOCndZ2p9TbXXm4r/x+w90kRmr5\n1r4Xgz5XcCIH2s+SrY0nyY1oKHdJiNDwjaXX8McN93C6p5XN+1+Ubdvu0jDYQ6YmzmtZ+BUZBQgI\n7G2rCYgLvbf0m0c51t3E+nSHaU9GdCwWu40uhU3Pjnc1cby7iU0Z01/ASxTFpQZdESJxwuSc259G\nLj8vPo36AZPfOn/SPPJUnV93yNbF0zgUHLN90jlkZXI28+LT3Vq4lSTOZ4Ls/bK/rZZe8wg35yzk\n2yuun/ZxeTFJhKtDOOYHczpRFGkf6ffZv2F1ai41/Z2KLipPhV20c7Ddt3lWCckJvyY48lpLgclv\nks3AW6IoGoCdzu9n4n7gT8ZidYOxWN0A/Ml5nzt4POciR9Ea21yyRdKe3Qc83Vyy5SvADTgGbD80\niKJI5+jgrJ3WHK2zaPWTvf5T1YdYlJDBXzd9ctrHzNEl0jLcd8EafEzH5v0vsv7FX/FG/Wl2NlUx\nGOCLvD0tRvrMI9wyZ5Hbz0mO0mIV7fSaRxTcM+gaHXIrO9ZdUqJ0dCpsaAQOabCAwFIPFgJmIjFS\nw5DFzKhCzpZSIZ8W7f2qsyfoNXEUF63h7EA3bX7K+/WVUauFd1trZ+wU+MJtuYv57Lx17Giuok/h\nz9Vkzg50kxvjuYOmRFx4FIsSM3jk2A7mPfVQUOQXusO+tlrsougqWqW59xYFsyLHrBY++/Y/SY+O\n4ZOFq2Z9fJY2nsbBnqBc3DnS2UiYSj2t23hhXCoiItV+UkzV9HUQoQ5FH+1d5ylTE++a7w40Bzvq\nUQmenUPm6BIJEVS8fPY4vX6ISHMXyb/g/9bdSdwMruvh6hA2Zhh4ofaY4sfAvvFRzDYrqdG+Fa1L\nnTFhp5xRaP7iZHcL3WNDrE/P93lb2c7r/wY/Na1mQhTFvcDk8PJbgX84v/4H8JHpnm8sVquB9YYy\n2yJgMbDYUGZbbCizzXhSMharw4zF6oXAM8ZitUdDznIUrROP7lcBOwCaS7aMAxe2aNtDhixmRqzj\npETO/MHM1MYjINDgBzOmfvMoTUO93DJnEdqwiGkfN0eXiF0Ug+YkIgfDFjMv1R4H4PO7nuS+HWV8\nY98LAd2n493NqASBdR4c/FKkrFYFpYzSgoucRWtCRLRf8k6rejvI0SWgm+H97QnxCme1SjED6X7q\ntAKuudBT3ecZrAcl77bWMGazcHVmkWKvcZW+ELsosrf1jGKvMRmL3UbDgOk8F3dPuX/eWtfXfz61\nx9fd8gt7WoxoQsNZ5pTx+8Os7fnao7SPDMx6AS+RpY1nxDquqNLCXVqH+10xR3bRzs6mKhYl6qd1\ntJUMd/yVAlDd10l+TJLXPgJZ2jhMY8MBc4OdyIG2WhYmZHh0DglXh3B5Wh47mqq4481Hg2ah42x/\nN2lRMUSFhs362K8vvYY+8yiPlb+r6D61DzsWS1N9kAfDByqD034uWp89cwS1oOIqGc5HMeGRxIVH\nBXMmdIooitLKVwcwrZTCUGaz4TBgwlBm6zOU2WY9mBuL1RuBGuCPzluNsVi9wd2dm37Aw31O6Us3\n/wpoBfKA7QD60s1xuJmlerEgxZLMJrEMV4eQFq3zy5tWileRVnemI9eZnXW2v2tKh+ELgbZhh/yk\nbsDEtw+8RH5MEuN2G19fejWPnt7LkMXM281VWO02QmSY2/SG+gET+ui4aS88pkI60HeMDLikJXIz\naDEzZrPILMWMprJH+Quo+oFu5uhmfn97QmKEIxvXNDZEhhuxRJ7SPiIVrf7ptIJDkqQWVJw0tXDd\nLK6YwcDWxgp0YRFcnpqr2GssSdITFRLGoY56j5QPvtA42INVtJPnQ6cV4I68pVypn8sLZ47y0KHX\nqBvo9ir/0F+IosjbzdVckZ7vkl5Kny2lOq120c5fT+9lYUIGa9Py3HqO5OjcMGhyZWT7k3GblXG7\nDavdxjUv/5rIkDAO3Pkt3mqspKa/kz9suHva52Zr44lQh/qtaK3p6/DJSTXTaUTWNNQ7rcOtP2gd\n6uNIZyNfWLDe4+f+au0d/L89/+L9zgaMfZ3M9VIqLSe1A11uKznmxaexLCnTZTKkFNI5z5eZVnBE\nNGZq4ij3Y9F6tKuRf1Yd5L6i1W4tfLlDtjaBej80rXbv3s3u3bu9fr4oiqIgCLPVce8ai9V/AJ4B\nhnHMqYozdFv/D4d5UzWAsVhtAP4NLHNnn+TotH4OMOGYa722uWSLtERZBPxKhu1fMEizau64whbE\nprhytJSkyc1MUOmi399RPHLxUu1xVj77c56oeo+/V+5jX1st/6h6j5iwSL6yaBMVn/gBv7niLkat\nloDOoNR5UWBJkholnXi73Fxw8YSECA095mFFV6BFUaRhsGfWRRlPkC5WlcrGbR3uJzY8isiQ2VfC\n5SIyJIw5uoQLIovZLtrZ0VTJlfrCGY1zfCVEpWZBQjqn/Oi4Kkk3fe20gkMmfF3WPAC2NVT4vD0l\nqertoG2knyv1H/gz6sIi0IaGuyLA5OaNhnLODnTzwIL1bs8PS91ffxjITcX9O59g+b9/ytf2Pkf/\n+BjtIwPsaq7mDyd3ka1N4OachdM+V61SMT8+jbeaKhXPgRwcH6N1uH9aUyh3yNQ6ZMWBzqx8vOJd\nROCTcy/z+Lnpmlh+uuY2AKr9fGy1i3Zu+M/v+dLup133iaLI2f4uVxPCHRYmZnDa1KqoZ4Z07eKr\nPBhgfnw65T3+KVpFUeTb+18iNUrH5uXTzwd7So4ugQY/NK02btzIQw895Lq5SYcgCKkAgiCk4UiE\nmYmlwHzgRziiT3/l/Hc6QqSCFcBQZjPiQQPV5yuC5pItI8B5zr3NJVv2AxdFGJG7SE6UKW50q5Yn\nZfGbEzup6GllXrxyLqJSpzVzFsez2PAo0qJiOGm6MOSDk3mx9hgAz5056pIbqQSBuwtWuLqqi10S\nyZaArOyKokjdQDdL89xaUHKRHKlFQFkn3g7ngovc8mCzzcqQxTyjNN0XTGPDDFnMLnMzOZBWg5X6\n/24d7iPNR0MKbzDEpriy+4KZugETprFh1rnZHfOFRQkZPFl9yG/qC1f0ikyKiUxtPPPj09jWWM4D\nC8/vFB1sr+N0TyslRWtQCXLGsnvG282ObMWNGYZz7k+PjlVEHjxus/LwkW0YYpO5KWeB28+TjGLa\n/Tj7PTg+xuMV75IRHcvuFiMA25squUpfyLGuJr6691n6x8f4xdrbZ32PfmbeWr6051/ctfUx9t7x\nDcXe09LCry+qLCnyqSGARasoirx89gTXZhWR6UZu8lTM0SWhEgSMfjbWqexp55SphVOmFn5w2c2k\nROnoGh2if3yMfA/+LosSMiirPEDdgEmWuLupkOTBclxfLEhIZ1tjBcMWM9GzxBL5yu4WI+U9bfzm\nijtnjUDyhGxtPP+pO8G4zarowqyX/AeHP9HDzn9fnunBhjLbRg+3f8RYrH4ceBJHV/YTwGF3nxx0\n/1sXMi3DjgLRHYOVO/KX8lj5Xm5/41HeveN/FJMiNQ31Eh0SNm1W10SuSM/n1fqTihfScuNw5HVk\nd0kxGd9ZcQN35i9zST3BIYEOV4dQ2RuYPFrT2DCDFrPHndYwdQhJkRpFL6S6nIZJcnZaP5DZDitW\ntEqrlTkydlqTI7WECCrX7KnctA33+3WeVcIQl8KbDeWMWi1eB7z7g6OdDjdLuYy1ZmJRop6xin3U\n9HVRFK/8QtaRzgYWJWR4NB4wG9dnz+f/ju2ka3TwHHl/r3mEO958FHA49V4fIFm4KIq8UHuUxYn6\n886NqdExihzXnqh6j7qBbv5xdbFHhVtceBShKrWi/gGT+fOpPfzu5C7Accx8/MpP8efTe/jfy27i\nr6ff5R9VB0iN0vExNxY7b81dzJjNwtfefZ6TphaWKfQZqnGa/Rh8KFoTIqKJCYsMqPrjTH8XnaOD\nbHTDWXo6IkNCydTE+y1zWGKiy/XuFiOnTC2uUaICD5QccyfMQitVtLYM95ESpZOlQJsfn4aISEVP\nGytTcnzfuRn4Z9V7JEVquHXOYlm3m6NNwC6KNA/1+WTK5yuCIPwL2AAkCoLQBPwvsAV4VhCEzwD1\nwF2zbcdYrL4ZmAe4LvQMZbYfTfPwB4AvAw86v9+Lw3HYLQK39HoRUj9gIilS49bqT7Y2gX9d91mG\nLGa2NSon7Woe6kXvZrzCg4uvRBcawdf2Pq/Y/ijBsa4mRqzjfGXRJtd969PzSYrUnvN7q1Uq8mOS\nqPbzyUVCihTyZvYsNUqnaKe1c9Rx4SjnTKtkaKSkPb0kZ5ez06pWqUiJ0ilmENM63O/XeVaJubEp\niIjUBofV/rQc625CExruipRQEkl94Q+Fidlm5WR3M8tkimaSuD5rASLieeeRp6oPur5+p7Vm8tP8\nxt7WMxj7OikpWnPez1KjdIoUrf+oeo9VKXO40kP3aUEQSInSuo6H/mBHcxXRIWGsTctjy+UfZUVK\nNn+76tNkaxP46pKruL/ocv565SfdvuC/wunOrGSOr7GvkzCV2jUD7A2CIHBZSg7vtNYwHqDUgiOd\nDQCs9jHKpCA2ye9RSRM9Ub7+7vOUVR5gy5GtAB4dO6UC19innOt0kzPmSw4klVy1gvsLjsXlnc3V\n3JW/QvZuaLbzesUfEuGZEEXxHlEU00VRDBNFMVMUxVJRFHtEUbxaFEWDKIrXiqI444WQsVj9KI7C\n9kEcndO7cMagTsMDhjLbI4Yy2+3O269xFLJucalolZGGwR6X5MUdFifq0YaGU6GgPr9pqNc1OzIb\nOboEPjf/Ck73tLrkosHOU9WHuGvrY4Sq1HxhwRVcm1nEbXMWM3+aTrEhNgWjnyIBJvNB0ep5gZWm\nUEdConNkiDCVmtiwSNm2KakHlHTibBg0ISD4HPg9mfToGEU6raNWC73mkYB0WiWTkAo/zNL7wrGu\nJhYn6r12JfWEOboENKHhnPSDq7Kxt4Nxu42lzkJZLgrjUsjWxp8z1yqKIs/WHGFVyhw2ZBg42F4n\n62t6QlnlfpIiNdwyRbciNcqRQW2122R7vdr+LuoGurllziKvsnCTI3V+67S2jwxQ0dPGg4uv5Jnr\nP3deNzwxUsOPVt/qUcc0NUpHbHiUoue5mr5OcmOSfJYff7pwNa3D/fze2Wn2N7X93YSq1D4rdXJ1\njpx7pbPUJ1I/YCIlSse1TkdbKadcFxbhUZxaVGgYWZp4jL3KLWY2D/XJdo7O0MQSGRKqaGdbFEW+\n994rqAWBe+eulH372drAS+Nl5HJDme3TQI+hzPZDYDUw02ph8RT3lbj7YopeFehLN39Bye0HG42D\nPa4VFHcQBIF58WmKXUSKokjTYI9HB4slSY4LqgvBsGXMauGHh17DJtr5yqJNxIZH8fer7+OPG++Z\n9mJlQUI6bSP9tCqYDTgZURTpM49QP2BCLai8mp1JjYpRvNM6uTPtKwmuTqtyRWv9gIkMTYysckuQ\nZu3k//+WZsyVcCWejfyYJJIjtexsrp79wQFi1GqhsqdNMVnjZFSCioUJGZzoVt6MSZp5M8jsMCoI\nAtdnzWdf2xlXDvWx7ibODnRzZ/4yViZnU93XEZCM6mGLmT2tNdw2Z/GUn9GUKB12UaRbxmPEjqZK\nAK7OLJzlkVOTEqX126LtbudncZPeMMsj3UcQBObGpijaiarp6/RJGiyxST+XazKLeNr4fkAiY84O\ndJGjTfB5gSw3JgmzzarYSMlUNAyayNEm8PDa23nsyk/ywg1f4Pfr7+alG7/o8XncEJesWKfVarfR\nOtwnW6dVJagczQcF39/PnjnCtsYKvr3iellNHiWSI7VEhoRS72xkXOCMOv8dMRarMwArcN6sjbFY\nfY+xWP0qMMdYrH51wm03DjNft7jUaZWJAaebXp6H0s+i+DQqe9sVOWD3RJY3nAAAIABJREFUmUcY\ntJg9WkWUPqD+sOP2lTP9nYxYx/nzxnv52tKr3XrOJqdc7M3GciV37Rx+cPBVlj/zM7Y1VqDXxLki\nHzwhLVpH//goo9ZxBfbQMdMq5zwrfFC0do8qJw+W2zlYwtHZ7pf9cynlICuxz7OhElRcnz2fnU1V\nfjWa8YRjXY1YRTvLk/1TtIJjrrWyt01xieKZvk5CBJWs89cS12XPZ9xu421nEbSnxYiAwPXZ8z8w\noPOjS7LEO601mG1WrnG6HE9GMj6Ss0h8q6mSwrhUrzs7KVE6v8iDLXYbz505QmqUjqI4eaPMCuNS\nqFboumLEMk7TUK9s0Xjr0wvoGBnwa8Encba/W5aZQmkWtNqPKq76ARM5ugSSIrXckL0AtUrFR/OW\neBW7Y4hN4exANxYZFQ8SDc6YLzlHeAyxyYopCSQTtxXJ2XxmQh62nAiCQGFcqqISfj/yqrFYHQf8\nEjiCYw72X1M8bj8OV+EqPnAY/hXwNeA6d19M0aK1uWTLo0puP5g42d2MiMiSpEyPnlcQk8yQxUyH\nAvEakvTAk7mTlCgtEerQgGvt3UGaTfXEdr8gJpnFiXp+fOh1djZVKbVr5/DvmsOYbVaq+zq8zhNN\ndTnaKnMx1TEyIKtzMDhiVmLDoxSLtADniVuBIiA9OgazzSp7l1iaQ8r2YRbMFz4//wpsop3/O7Yj\nIK8/Gwc76hAQWJmc47fXXJSQgdlmVXTlHhwzY3N0iYq4RS5PyiIuPIrdLY6i9VBHPUXxqcSGR7Eo\nMQOAE36QQE9mR1MlMWERXDaNYYoUD9cuU8HSZx7h/Y4GrnFKJr0hJVJH//iYYguEEv/9zrMc7Kjn\nwcVXyqpwAYe5zqDFrIg6p7a/CxGRAh/ibiYiZY8r/fmbjNVuo35QHsfcJYl6wtUhvNt2RoY9mx3p\nmlGuc58hNgWL3eYaYZKTQx31wAf+AXJgiE2hY3SQPvOIbNuU2NNipHN0kC8v2qio4/rV+kKOdDW6\nFhovVAxlth8bymy9hjLbC0AOUGgos31/isc1GMpsuw1lttWGMtseQ5ltN6AzlNmOGsrcXzGW7S+i\nL938c33p5rgJ38fpSzf/RK7tBzuSa62nH0xpYP6MAvr8Ri+KVpWgIlsbf0Hktdb0dRAiqDwqBAVB\n4Mlr7ydTG8/vTryt4N456B0bZmTCxc/ChAyvtpPmimJQZjW6a3RI9qIVHDODSpwIwaFu6DEPeyTJ\ndxdp5lRuM6bGwR6iQ8JcXWh/k6NL4NY5i3iz4bRf56/c5WB7PfPiU4kJl2+2ejY+KOqU7UTW9HWS\nH6uMuZRapeLytDz2tdVitds40tnoKvwTIjToNbGc9IMEeiI2u50dTVVs0hdOqy6Rila5Fm13txix\niXavpcGOfXIcB5Wcaz3b380rdSd4cNEmPl24Wvbtz3UWlFUKFIKSzN0Th9qZkIpGfxsZNQ/1YbHb\nPMo0nY7IkDBWp+ayvbHCL8dVowzuzRNZ4rxuvfKlX7OvVb7CWxRF/l6xj1xdous9KQdSo0KJudY3\nG8qJCYtgQ4Z8kv2p+Mz8dRTFpfI/+17AZg++c7EnGIvVC43F6rtwmDDdaixWf9rNp07nMDwtci4j\n3NBcsqVX+sb59U0ybj+oqertQK+JdStaZiJ5zoPOGQUO2CdMLYSp1B5LEbO18TQN9c7+wABj7O0g\nN8bzzkVceBS35y3haFcTXQp0uCcizSt/bcnVLIhP58785V5tRzJWaFNA1jlus9JjHpbVOVhCMqhQ\ngoYB+eNuJCR3X7kla6dNreTHJsveWfGENam59JpHFDnm+MKo1cLhzgZWpfjm5OkpOdoEdGERipox\nmW1W6gdNHqlCPOXy1Fxah/t5vf40I9ZxVk3obi5K0CvikCyKIrtbjAxMmpfd1VzN0n//FNPY8IxR\nO0kRGlSCIJs8+NW6k6REalmS6JniaSJSId2p4Llhf1stAHcVrFBk+9LctBLeFA0yO7Y7om8iOOvn\n+T4ptkcumfNd+ctpGOxhT4vyTt2SDHmuTHnz+bHJ/M/SawCH87ZcHOqop7K3nS8t3CDrOU8q1uWe\n2xZFkb2tZ1iXXuDVGJcnaELD+dLCjXSMDFCuoBmr0hiL1Q8BvwP+AGwCfgHcqtTryVm0qvSlm10Z\nPfrSzZFAmIzbD2rO9HWS78XKY0qkFk1oOGcUiKHY31bLsuQsjzMZMzRxNA/1BsQYwROq+zq9lihd\nlzUfEZHtjZUy79W5lDuL1vuKVrP1tge9np/5QB4sf6e1zdm9VSKGZY4ukdbhfoYsZtm37cpo1ckv\ntU1zFa3ydVrHbVaOdzexUubIE0+RpJpHnHmowcL+tlrGbBau9KFL5g2CIDiLOuU6kQ5nUVG2C+Sp\nuDwtD4BfHt0OwJq0XNfPliRl0jDYM+MiXa8XUrv/1J3kk9v/zhd3P01VbzvP1hzGZrfz3QOvoA0L\n5/srb+TGGYpWtUpFUqRWFgXJ4PgYu1uM3JSz0CdjHbkly1NxrLuJ+PBoxcYE4sKjSInSUa1A0do8\n1EtKlE428ztBEJijS+Jsv3+L1mpXt1KehaTrs+cTrg7xS7xURU8bkSGhZLmZDOEO/7XkKm7KWShr\nAbWnxYhaUMmec5qhiSUqJEz2udazA920jfRzRVq+rNudDukYvb/trF9eTyE+BlwNtBnKbCXAYsBd\np0mPzXrlLFqfAnbqSzd/Rl+6+bPADuAJGbcftNhFO2f6u7y6IBEEgbyYJNk/fL3mEU6bWlnrvJDx\nhExNHEMWM33jo+f9TBRFPvL6n/n41scUKWrHrBZeqz+FeRaJ+6jVQuNgj9fymKK4VLK18Tx/5sis\nr+ULp3taSY3SkRCh8Wk7UaFhxIRFKCIPbnY6KcsdGwOOrh6gSBaxNB+apUCnNSEimjCVWtZOa0VP\nG2ab1RVNEChydAlEh4QFXfTN281VRIaEstrPnVZwSISretsVOxbUuObvlSta82OSSInUUj9oYm5s\nyjnKiXXO88CeFuOUz/3LqXdY+PSP+POpPR695taGctd2r375N3zt3ef5zoGXaRzq4atLruILC9bP\nOhfmyGr1vav5tPEQZpuVj+Yt9Wk7mZo4BARFlQjHu5pYkqRXVHGxOCGD3S1G2ZUuTUO9sjnBSuTF\nJPpdHiyp47RhEbM/2A3C1SHMj0+n3KRs18wu2nm7uZrLknNkn7nMj0miaahXNkOmhsEeMqJjiQqV\nt3+lElQUxCZjlFkevNcpjV6X7p+iNTVKR7Y2gaNdwbWA7CGjhjKbDbAai9UxQCcwrdTFWKyONhar\nv28sVj9mKLMdMharC4zF6pvdfTHZ3vHNJVseBn4CzAMKgR8577vo6RgZZMxmYY6XsxErkrM50tWI\naUw+l9WjnY2IiKxOzZ39wZOQipeWKSTClb1tHO5sYF9brVfSjFHrOKIo8srZE9z22p9omRQ98/Mj\nW3lg11P89P03+PXxHa74gomMWS3sbK5CRPRaHiMIAp+Zt5b3Oxv4yOt/Vuxi9bSpZdrMWE9RKvZG\n+jsrUbSuTMkmUxPHczVHZN92/YCJpEgNmtBw2betElSkRcv7/y113RcmejfXLBcqQcW8+LSgkiSJ\nosiOpirWpxcQ4aEyRA4WJeqx2G2KRX1V93Ug4OgoKYUgCHxu/hUAfGb+ua6XCxLSSYzQsGuKovWt\nxgp+duRNAH59fCc/O/wmt7z2x1ldv212O++01nBTzkJCJlw8P2U8RJhKzbVZ03dYJ5IapfNZHvx+\nRz2/OLqdjRkGlnpohjiZ6NBwDLHJijl7DlvM1PR3+iRhdodvLLsGq93OV/c+J+t2m4d6ZT9X5MUk\n0TbSz4hFWfOriRzvapLt3CxREJukePG9p6WGhkETd+Qvk33bmZo47KIo23mvftBEtgJKKHDMbdfI\nLA/e31aLXhPrV6PEJYn6gJjkycj7Tvfgx4DDwDEcTsHTUQqMA5c7v28Ffurui8m6TNNcsuXN5pIt\nX28u2fKN5pIt2+TcdjAjnXAl+35P+cTcy7DZ7fz88FbZ9kka1C/0oqiTVlHrpwg+3jHBcdfTwPpy\nUysLnv4R39r/Et997xWOdDVSWul4b4uiiMVu4+WzxwH4e+V+Hjm2g+Id/zgvX/C/9z7LA7ueAuAy\nH1xG75+3ll+svZ1TphZ2yezgJooif6vYh7Gvc1rnTE9xxLDIP9PaNNSLgKCIPFglqPhI7hL2t9ee\nN/fmK/WDJkWjY9KiY2SVB1f0tKINDZe9S+EN8+LTqehpCxozpqreDlqG+7jKz9JgicVOgzSl5lrL\nTa3kxSR6PKrhKQ8sXM+pe77PvYbLzrlfJajYkFHAnpaac0w/9rQY+czb/2R+fDqv3PQlRqzj/OnU\nHo51NfHvmsNTvobVbuOLu57m1tf/RP/4KDfnLORf13+WRzd9gocvvx2Am+csQudmByvFx6J11Grh\nwXeeIS0qht+uv8vr7UxkaVImR7saFTFIOdbVhF0UWaZwrNO8+HS+uHA9hzsbZPNucGRu9st+DJPM\nkJTyP5hM63A/9YMmVqfKq+rIi0mmY3TQo3Nd3UA3n9n5BDV9nVT2tPNmw+kZH/9k9UESIzTcnLPQ\n1909D2kxQi5PE6Ui6cAxiyy3g/CxriaWJ2f71XNiUWIGLcN9ikYDKomhzPYlp3vwX4BrgfucMuHp\nyDOU2R7GUbhiKLN5FNEgp3vwkL5086DzZtaXbrbrSzcHZxigzEiGDSleFq2G2BQ+MXcVL9Yek+3C\n/kx/J8mRWuI8NIYCyI9NQkA4bx7Garexp6WGhQkZpETpONRRT1Vvu9sn9medUtynjYdcB5rtjRW8\n01JD/j+/zwO7nsI0Nswv1t7OdVnzXA6QkmU6OLLt3nJ2X7+74gafs0XvzF9ObHjUrCcKT3mvo44f\nHHyVubEp3G2Qx2wjPTqWZgUMss70dZGhiVEkigNgdeoc7KIoe05kw0CPIiZMEunRsbLKg6v7Opgb\nl6qojb67zE9IY8hipnEwOAzXXqw9hlpQcbXe+6gSX9Br4ogLj1JsxfukqcVr53BPiZvGmfpKfaEj\nEqazHnAsrH3vvf+QH5PE8zd8nuXJWWy5/KPcV7iGbG08hzqmXpR8p/UMr9afdP1fXZGez5rUXG7K\nWci9hpU8d8PnXcWrO6REauk1jzBmtXj2izp5vf4UTUO9/GTNbT6PYUhsyDDQPz7K4c4GWbY3kYMd\ndagEgeVJymcRX5FeAMC7rbWybK99ZACbaJe905rrZwfh99odM4SrUzxXos2EKw3CA4+SP57czbbG\nCh459haf2P43Pvf2kxzrauJMXyetk5Roo1YLO5uquD1viSLn6wyNYxRxKpWdp/SbR+kzjyjWtZRm\nkeWSCLePDNA20s9ShRUQk5ESRy7UbquxWL3cWKxeZixWLwPiALWxWJ1nLJ72DWo2FqsjJzw/D3Db\n9EROebCmuWSLtrlkixaIBG4H/iTX9oOZTuc8ji+RIddlzWPcbuOUTG/cmr4u1wHUUyJDwiiKT2V7\nY4VLrrO7xUjOP77LwY46rkjPZ1VKDq/UneDql3/Dw0fda6rvbjGyMjmbxYl6rsuax8/WfISzA93c\nu/1vmG1WtjVWoAkN52N5y/jbVZ/mzxs/QZhKzf72D4bUq51zZ3/ccA9fXLjBq99vIqEqNZsyDLzT\nWiPrjO6+tlpUgsArN39JtgupXF0iprFhrwxTpkMURQ511rNcwTlLqdsvpynIqNVC20i/YtIjgLSo\nGDpGBmTrRrYN97suCgLNAqcsLhgkwvUDJp6sfo+rMwt9XoTyFkEQWJSojBlT81AvHSMDsuYUesPV\nmYVEhYTxYq1DzVLZ2+7o8sxbR7RTYv/Juav46ZrbWJOay9GupnPe+/vaanmh9hg7miqJUIfywIL1\n/HLtHec45guCwJrUXI86yqlOhYe3br3P1BwmWxvPehnn0Dbp5xIiqNjVIr8CZ0dTFQsTMmSbpZyJ\nBfHpaEPDOdRRx/62Wp8VRVIHTu5OqzRa9X5ng1/UH4c66tGGhrsyYuXC0whDKRYK4LX6U67PwIu1\nx7juP79j7Qu/xDphvrSqtx2raGeFQjnW6dGxCAgunwtfkCIXleq0znU6ZMvlB3PCOQ7g63iBpyxK\n0BOhDuXJ6oOKGFb6gT8CB3HIgx8D3gOeB4zGYvV1Uzz+IWAroDcWq58G3ga+5e6LKbLk31yyxd5c\nsuVl4Holth9stI8OICCQFOl9cSIdPCtlurBvG+73aTW0pOhyynvaePCdZwD4e8U+wHES/MTcy7ht\nghvca3Wnpt2O2Wbl41sf4443/kJtfxc35Szk9Vu+zN+u+jQ3Zi9wPe5naz7CjdkLeGTdx1wriJEh\noSxO1HN4Qqf1uLOoX5Ik3wXguvR8ukaHZLVPf7+jnvnx6bLOW+Y5nYfPyrgaLV1Qr1ToJAiOxZzY\n8CiXTb8cNA05Tog5Wt8z9qYjJUqLVbTLskggiiLtIwMuF+hAY4hNIUIdyjt+iGeYCYvdxud3PYlK\nUPGDy9z2YlCExQkZVPd2MOplx286yioPICBwdWZgusgS0aHh3Ji9gFfrTtBnHmF7YwUCAtdMsV8r\nU3LoM49Q0+c41phtVu7e+jj/9c4zPFH1HhsyCvjeyhu5x7DS5/1yZbV6IRGu7GnnQPtZ7jFcJquC\nQRMajiEuhVMym+oc727mlKmFu7yMPvMUtUrFsqQs3mqq5K6tj/Gpt0qp8GGhqnlQGf+DyJBQliRm\nUlq5n6/tfV7WbU/Fye5mFiXqfXKZnoosbTyhKvWsJl795lE2vvgIG158hO6xIT41d5XrZznaBEor\n92O2WbHYbRzv+qCRIZk8LUiQdxZXIlwdQnKUlpZh3zutSrr7A2RExxIZEipb8sZJUwsqQWCezHPO\nsxEVGsYXF67nraZKvibz/LmfaAWWGMpsyw1ltuXAEuAscA2O+BsXxmK1Ckc39g6gBHgaWGEos+1y\n98Vk0xfoSzffMeFbFbAcON9+9iKkc2SQxMhoQnzIdUqM1JAUqZGlaLWLdrrHhnzK3bzHsJLa/i4e\nPb2XPvMIR7uauMewkl+udfyZs7UJ7Ln967xRf5qHj26jd2x4Slnau61n2Nf2gTRp4oVbYqSGX6+7\nk/aRAT41d9WUIevLkrJcB/BwdQjHu5qIC48iSyPfgXCd09783dYzXs0AT8Zit3G0q5F7Cny/oJtI\nnkt61CVbZ1RaBFBSqiYIAoVxKbKa3EhZgUp2WpMnXEz72i3vGx/FbLOS5uUIgdxEhIRyc85CXqk7\nwfcvu0kRMyt3eLr6EBU9bTx+5afI8qP5xVQsStRjE+1U9LSxXKZ5w96xYUor93NH3lLZci194fML\n1vHi2WP84uh23u+oZ1lS5pTdbSkr9xv7nucjuUuYF5+GyAdKlJtknKdLiXRGzHhYtHaNDnLfjlJi\nw6O4V4bieTIL4tN5u7kaURRlm3F7svo9okLCuN1Hh2NPWJU6hz0TYlieqTnCD1d5d2EudVqVUIz8\n45r7KNnxBK/Wn+SX6+5QLCfTbLNS2dvOZ+etk33bISo1c3QJs8qctzWWn1PYfmPZNQiCgF4Tx7DF\nzG9PvO362dGuRk6ZWtCGRVDe00pMWISivgiZmjiaZBgbkTxRlHD3B8d1Ra4ukVqZopLqBrrJ1MQp\n7jswFV9feg2D42OUVR5gcHzMLyoMGZlrKLOVS98YymwVxmJ1oaHMVmssVp8jXzSU2ezGYvU3DWW2\nZ4DXvHkxOUXxt4DrrGYF6oHbZNx+0NI5OuA68frC3NhUWS7s+82jWOw2nzq/4JBI/eX0O7xYe4w+\n88h5bod5MUksc0opTppa2JBhOG8bBzvqCFWp+cKCK0iM0Jx34XZnwcwrzitSsnm0fC8/P/wm+TEO\nR8fFifJGBWRoYlkQn87fKvZxt2Gl1xfwNrudv5bvJVwdwqjVIpsBk0S21hFVcrK7hY/LFEp/vKuJ\ncHUIhfHyhJRPx9zYVF6oPYrVbkNA8HmFW4q7maPgTGtqpFS0DjLPx3qqfdhxQe7t3LsS3Fe0hudr\nj/JMzWE+M2/t7E9QgKeNh1zjAoFm0QQzJrmK1hdqj2G2WXlg4XpZtucr8+LTub/och53Kmd+snrq\nU3S2Nh69JpZjXU0c62piWVIWKkHgX9d+hsre9nOUNr4iFUCNUxj/zcSWI9voHh3i5Zu+SPw0c7y+\nMC8+jWfPHKFzdND1uRVFkWHruFfnCFEU2dVs5NqseX69KP1Y/nL+UXmAG3IW0DU6xMtnj/O9lTd6\nVRS2DMub0TqRhAgN98+7nC/v+Tdn+rooUuicVN3bjsVuY5FCLu55MUmzqorebq4mPjyaa7KKyNUl\nkhCh4WdrPgI4zsm/PfE2d+Uv50D7WZ42HnIVuHN0iRTFpylqFJShieW4DM7ZjYM9JEREK7ogmheT\nJNssaP2AiRwvE0DkYF16Po9X7KOqt52VMl87Kky5sVj9Z+DfgADcBVQYi9XhwFSypbeMxepvAM8A\nLhMmQ5nNrROAbEee5pItxXJtS0IQhDtx6J8LgZWiKB6d8LNvA/cDNuBBURS3y/367tIxMijLLFZ+\nbBLPnznq88pup9OFzJcZW4BlSZmECCoePb0XcFhzT2aB80JvW2MFPzv8Jp+au5pPFn4gdTnUUc/C\nhAw2L/dOKb4+vQBdWITrIgvgljmLvNrWTDy06mY+vvVxvnPgZX63/uNebePF2mP89PCbru/lPvCo\nVSqWOF0t5aKit43CuFTFVrUlCuNSGLKYyXvi+2zIKOCJa2Yyl5ud+oEedGER58zTyU2K8zPtaxwH\n4MrX9dZhXAmWJmVSGJfKW42VASlajX0dlPe08cNVt/jVrXE60qJjSIzQcLxbvqiTA+1nydEmyKLg\nkIvvrryRrtEhOkb/f3tnHh9VdTb+75NJCGQhIWQDAoEAYZUdERFFQXGpu1ZtXeJS21q11da6dNHa\nvtW31tq+rfpTW43WutR9X3Bhk33fCVsCgUBIQhYgIcnk/P64d+IQJslMMluS5/v53M/MnHvuuefe\nOffc85zzLJXNrviJCE+ecQ3fFO3g2Y0LWXVwN+OS+zOt7xCm+TmGYc9u3UnrEe+Tml99g5NPCzZw\nSdY4xgTIVniUrYK5YN923tmxmgsHjWFbeTHPbVrIv866jrN9nGjZd6SC4uqqoDhgcqdvbAIrrnoA\nEWHO7k18lL+euYVbfa4/wJ4q/8dodWeUm619oIRWl916oByjDUlI5ZOCjZz1zl94bNrlfFW4lRXF\nBfxr5vVsKN1LgzEs2LeNczNH8fhpV5xw/LiU/sy/7Bf0iU3gFwvf5L1daxv37aos4ayMYQGpt4uM\n2F58nL8BZ0NDuyaXCwLs3R8sofWDXeupqa9rV6g0Ywy7KksC7tG7JVzviA4otOYAtwE/s39/A/wC\nS2A9y0P+q7EWOH/ilmYAr7yitVtozXjhvgeb2WUACm989OF2FL8euBR4xj1RREYCV2HFhO0HfCEi\n2caEJn5D8dFKRvnBoH9oQiqH645RdLSyXeFHXO7tU9opSPeI7Ma4lP6sKC4gNrKbx4FXQnQPBsb3\n5qUtSwB4ZOUnnD1gBM9smM93Bo1hbUlhuwbEsVHR/PfcH7Dl0H6+Lszjq8ItXJI1rs3lNccp6Vnc\nOGIqL2xezO+nXERCdI/WD2rCZ7s3ARAb2Y1JaQMDsqo2MWUAT66fx9G6Wr8E7C48XN7olCeQjOhl\nPR9OOzC6Zd/Z9vuzu6qMAXFJARV2XOr1/hFa2xcWK1BM6zOYl7cubVS/Dybv7lhDhAgXBWASqi2I\nCJPTMlmyf5dfVEIbTAPLDuR7tBkNJVERDp6ccU2r+SamZjIxNZO6BidPrPkyICE2XAxJTG3VDtCd\nFcUFVNTWBDRE0gj7fXffoneocdYdp2L726UfcFrfoT6pEq62JxuD7egFaGzLMzKGkdIjjgcWv0dy\nj3if65JfVdqoOh4IBvXsTbQjko1l+7gC/8chBVhfspeEbt0D5tV2ZsZwnlo/j7zyYi77+Bmc9rD0\nN0ve443tjesunNmveeEzy/ZfMTU9i/d2rWV63yEs2b+LugZnwB269Y/rRV2DkwPVVe0ah+6qLOGU\ndP96Z27K4IQUDIb8qtJ2TQyWHTtCVd2xgEYjaI1+sYnER0UHLFZ4oMjOdR7Ny3H8HXB5ZN2anet0\nBVw+wbtedq5zYHvO5w8r9CPA4SabAW7GB49QnjDGbDHGnBgN3VI7ftUYU2eMyQe2Ayd7yBdw6hqc\nFFcfpo8fYlwOTUwFYHNZUbvKcXmga+9KK1iDWrBWVJubdXPl6REZRUVtDee9/3ee3biQiz58iroG\nJ1PaOWs0unc/rhgykX+ccTUrr/pVwGzDzs0chdM0HGeD6wtrSvZwSdY4vrnil7ww83o/185iYmom\nTtPAaj+sBhlj2HekPCgebcen9GdW/+FMsm1x17ZT/SgY9e4eGUVidEybvZq641ppTQ0zoXVqehbH\nnPUBi0/aHA2mgXd3rmV6nyHtsr33N9P6DGHvkXJ2H/ZNVdUTOypKOHTsqN/NBILNT06awYuzcvjB\nKP/bALoYkpDKtvJir8OnzdmzhUiJ4HQ7pEsgSIyOIS2mJzXOOgYnpBDtiCQuKpqnzriGPYcPce77\n/8dqH/qx1bYphr891vpCVISDF2flECHCnfNf98ljfnV9LfuOVDT6VggEkREORib1YUPpPjaX7fdr\nDE4Xqw7uZmxy/4BNeE5Ky2TV1Q/wz7OuaxRYh/dKbxRY46KiSYvp6dGcqinfHTqRh07+Do9Pu4In\nz7iGc/qP4NwBowJSbxf+CHtTfuwo+45UBFzDZHBP/4RK2lVhmxuFUD1YRHyevAsH8nIcM4A8LC/C\nT2J5DW42tEdejqNbXo7jp3k5jrfychxv5uU47sjLcXg9+9duobXwxkf/XHjjo48X3vjo41jujntg\neYV6DQjUlFxfwH2UVYi14hp0io9WYTB+EVrHJfcnKsLBDV/k8pNTXbq+AAAgAElEQVR5r7a5nMaV\nVj8MBq8aOonJqZncNW5ms3l+Pv5sfjz6DL6+9G56REZRXF1FHzcvqf6abRMRv6wuNsfE1EzioqJZ\nsM93j6pFRyrYf7SS8Sn9Se4RF7CYp5NSMxGEpfs9x1D0hZKawxxz1tMvNvBCqyMigtxZObx8zk1A\n+2OrFR2t8Msz1xppPeJ9dhDjif1HKkmKjg36amZrTE6zJhGWunnoDgYL9m1n9+EyrgiSF1VvObWP\n1VctKtrZSs7WcU1+nRzAlalg0D0yipn9h/vd06o7J6cN5HDdMdaWtj55Yozh04KNTOs7JOC2odcP\nm0KECH+cegmfXnQnn1x0BxdljeXx066g/NhRfr3kPa8FvzUlexiV1Ddg7wZvGZOcwc/GzWRXZUmj\nIz5v2GU7v8sK8MD+pN79WLx/J2e/91e+99m/vDpmc9l+7v3m7RPimjalsraGLYcONE6eBore3eOY\nPWAkPxs3k/8343v876mXkh7Tk/899TJWX/1r5l32c6/abjdHJLeMOo2+cYmcP3A0z8+6IaBjIPhW\ncGuPGZLLoeiIAAutWY0RFdrnjCm/yjp+UIid5WX1TG73tYSAvwDnZOc6T8/OdZ4OnAM80UL+p4EJ\nWALu01hOe5/29mR+6T0zXrivN3AX8H3gJWBC4Y2PejVNIyJzAE8t+wFjzAc+VMPjm+Ohhx5q/D5j\nxgxmzJjhQ5Gts++I1Un29cPAPyaqG3eMOZO/rPmC93au5a6xMxlir776QnH1YaIdkcT7wQB+QHwS\n71zw4xbzpMbE86vJ5wHw28kX8Erecp6feT0f7FpHVkJyh/GEFhXhYEraoDattK4OUoyvhOgejErq\nw+L97R9U77Vf8MGMHRoXFU2/2MR2hReqqq2hsrbGL89ca6TH9PSL0LrvSEW7VK0CRe/ucQxJSGH5\ngXzKao7Qs1v3dnlB95aXtiyhd/dYzh84uvXMQWRoQiopPeJYVLSjXeFcXIJVZnzvkA+EOgLT+w5B\nED4t2MiEFmw+nQ0N/GXNFxRUlXL7mBkBr9edY8/ihhFTT7Cdv2roJGqd9dy/+F1Wl+xpsc5geaxd\nW7KXa4eFRCHsBM7LHMW9i97miz2bvX5nuUKtuQSFQDExNbPR3Ghd6d4WTUlWFu9mWK80frXkXZYd\nyCe/qpSsnslERThOsJWvqa/j9W3LMZigaD+ICL8Yf3bj7xVXPRDwc/qDgT17MyVtIM9vWsRNI6e1\nyd/FqmJL4B0VYNOj2Kho0mN6tn+ltbIUh0T4PZSTrwxOSOGtHav9Zv4VJCKzc52NAaCzc515eTkt\nzsxNzs51utsEfZmX41jn9cnaUkN3Ml64789YdqfPAmMKb3zUJ106Y8zZrec6gb2Ae0+bYaedgLvQ\nGgiKjlhqf338FH/x7vGzuGzweE576zEW79/ZNqH1aCWpPeJD4tzkuuGncJ0duubW0dODfv72clrf\nwXxZuMVnIWPZgV2W6levwKt+Te2TxUtblrTbDrHQnnDJCKLQClaM0Lx2CK377GcuGCvEA3sm8/aO\n9jtH23ekPGA2VO3l5LRBvJK3jDGv/p7zMkfx3FnXBfR8BVWlfLFnCz8cPT3sVp5FhFPTB7No/842\n/+dFRyq4/ONn2H24jNvHzAgLJ1PhTlL3WL4z8CRe2LyI64ef0uzg8e0dq/nb2q+4cOAYrhgSGJtH\nd0SkWWdvl2SN46FlH/LW9lWtCq2rD+6mxlnH1ADb+HlLYnQME1IGMHdvHvdMOMerY9aV7iUqwsGQ\nBN/HJL5wQeZolmbvol9sAo+tnsOy/bv4dPdGJqVmMr3vUO5a8Aa3j5lBvWngR1//hwgRGowhIy6R\nb4p2NE46XzhoTKNDm/oGJxd88A+2lh8gMz6JU9I7tvZDoLll1Gn84KuXWVS0wys15qa8t2st45sJ\np+VvBiektFulNr+ylIy4xJBrQbi0GPKrSoIeL7YdrMzLcfwTeBnLe/D3gRUt5K/Py3EMyc51bgfI\ny3EMxoo44xX+0Pe5G0s199fAvowX7qty29q/RPEt7m/+94GrRaSbiAwChgLL/Hgur9lrD/z9qaqY\nGZ9ESo84lhcXtOn4cF3V6Qi47HMX+bjaumDfdqakDWqXBztvOSVtEMec9e12S+9SpQrGiqU72b3S\n2FFx0Gv7taZ8q90Q+DY+JCGFqrpjHLQ9creVoqMV9A3y5IC3XDdsCr2iY4h2RPJJwUa/qJ63xN/W\nfEVkRAQ3hSjMTmtMTc/iwNFKCnwMweLipS1L2HP4EH845WLuGjfLz7XrvPxq8nlEINzzzVvNqtx+\nWbiFvrEJPDXjmoB7PG+N+G7dOXfAKN7dubZF28sG08CrecuJlAimhJGwNKNfNutK9nrtaG7NwT2M\nTOoT8Hdc98go/jTtMm4bM4Pujij+uPIT3t+1jt8u/YDfL/+INSV7+P3yj3hx82IAGozBIRF8fOEd\n3DdxNn+cegnRjkg+yl/fWOYnBRvZWn6An449i3cv+HFQtEk6MjP6ZSMIK9owBt1WXsymsiIuDYDD\nTE8MTkhhZ+VBn+yzm5JfFdpwNy5cWgz+ij0bJH4EbAbuBO4ANgItqWfeA3yVl+OYl5fjmAd8heVt\n2CvaPa1QeOOjATN0EZFLgf8DkoGPRGS1MeY8Y8wmEfkvsAlLQr/NtKfFtoONZUWkx/Skpx9VYEWE\nSamZrCwuaJMr771HDjE5daDf6tOVGN4rnV7RMXxTtN3rmfzP7Bdie9QJfeHk9EEIwuL9O9s1CNpz\n+BBxUdEkdPPdU3J7yE5M5ZiznoKqsjapmrlWWoMhbLucjmyvKG7zrPHhumNBU2duCycl92PdNb+x\nVoLe+BOPrvyUV2ffEpDB6ZZD+3lzxypuHjkt7Dwpu3CFPVh5cLfPTt/qG5z8d9sKzsoYRs6IqYGo\nXqclI64X9008l98sfZ8vC7cwOXXgcV7cjTEsO5DPtD6Dw2b1+scnnc4H+eu4f9G7PDXjGo/1+sPy\nj3lrx2p+NPr0gIbo8pWLBo3liTVfctnH/49nz7y2McSPJ5wNDawtKQyqDXpUhIPxKf2PM4X5qnAr\nidExFFSVUVBVxj3jz2ZIYiqZ8UkkdY/l9jFnAvB14VY+KdjIyKQ+HKw+zAe71jEwvjd3j5sVUNvs\nzkKPyG70i0totGP2BZct7Iw2rNC2hayeyVTW1lBSc7hNflxc4W4uzfIc/iuYDIx32eh2DGdMthrw\n2uxc53DgcW+Oyc51fpmX48gGhmGZdeZl5zprvD1nWD+9xph3jDH9jTE9jDHpxpjz3Pb90RgzxBgz\n3BjzWUvlBJI1B/cwLtn/doxT0gZRUFXGkH//hsdXz/H6OGdDA0VHKkOum99RiZAIpqZneW0zWlJ9\nmJ/Me42xyRl8P0j2Sr2iYxiRlM6Sdq6IFVSVMjC+d9AHgNmJaQBtVhHed6ScCJHGOKqBxOXRu7Vg\n8S2x216xywhToRWsibIekd24a9xMlhcXMPPdv3IoAJ47/2f5J8RHRXOnPbgMR4YlphEXFc0qH1YZ\nGkwD/1g3l+vn5HKguipoE1idjWuHTyGrZzI5X7zIqFd+x2Orvg2/XlBVRnF1VUBDrvjK6N79uHfC\nbD7IX8ff1319wv4jdcd4ccsSrhg8gV9NOs9DCaEjKyGZf828jsN1x/j98o9bzLuj8iBH6ms9xmoP\nJK7wdv976mVMTBlAVISD12bfTGZ8bxK6defq7MlcMPCkxnjxLs7LHMXeI+XcvfBNHln5KRvK9vGj\n0aerwOoDg3oms6vS9xW/TWVF9IiMCniMVhcuE7q22rUeOnaUytqasPA9EBPVjT4xCexsw30PBdm5\nznpga16Ow2vPZnk5jtuBHtm5zrXZuc51QI+8HMdt3h6vT3A7KD92lPyqUsal+L8jv2zw+MbYr//e\nspQGL0PQHqiuwmkagmLv11mZmp5F4eFy9nihHrjsQD41zjoennIhPSKDZzh/StogVhQXUOv02hTg\nBPIrSwMWPqglsu2XTFuF1qIjFaT2iA+Kild6TE96d49lQ9m+NpexyQ5hNTwpsJ4U/cENI6by4qwc\ndleV8fT6eT4du2T/Tm764kX+svoLKo5Vk7t58XEeKOfuzePrvVu5c+xZ9Ooe6++q+w1HRATjkvuz\nsth775lf7NnCoys/Zf6+bQxJSAlo/NDOTFSEg0dOvZRhiWn0io7huY0Lqay1JuGXHbAm6SaHWQih\n2046g0uyxvHYqjk8vnrOcWqKXxVu5ZiznquyJ4XN6rA7s/qP4MohE1l6YBfV9XXN5ttSZnmDbWk1\nNhB8L3syy757P98fdjKvzL6ZuZfdzeje/fjowp8w//JfNBsL/ZwBI8mIS+S0PkN45szv88sJ5+hE\nko8M6plMfmWJz2q3m8uKGN4rPWgTBINttd622rW6VpNDMRbyRFZCckdTD04CNublOL7Ky3F8YG/v\nt5D/B9m5zkZHvfb3W709WXh5wehgrCuxfD8FIthzUvdYPrv4p7yxbSV3LXyDTWVFJ8wmesKlVjAg\nTJ2+dASmpA8EYEXxbvq3ch9XHdxNtwiHV/9NU+pK91Ax/3kSTr+JqN6+rdZP7ZPF85sXsbaksE2D\nuPoGJ3sOHwqJ99bYqGgy45P4unArd4w50+fBnGWzHZxJGRFhdFJfNpR69PPmFe/uXENaTM+Ah4rw\nFzP7D+c7A0/iP1uXcte4WfTwQk04d/NiHlz6Ad0dkXy+ZzN/XfslDcYQ7YjkpVk5HK2v5VdL3mNQ\nz2RyRpwahKtoHxNTB/CPdXO99uL42e5NJHTrzjsX/Ji0Hj1Dbm/ZkZnWZzBfXnoXa0sKueCDf3DR\nh09S1+Ck/NhREqNjGJoYuDihbUFEeGza5USI8MSaLxmSkMrFWWMB+DB/Pcnd4zg5jM11TkkfxP/b\nMJ81JXuadRS1tfwADokIaIxWT4hIo++C2KhoYu2ICK2pWSdGx7Doil8iSFhOFnQEMuOTqKitoaK2\n2ie19oKqsqA6uuoXl0hsZLc2a0PlV9lCa5BWhltjSEIK7+xc027nj0HkNx7SWprpiMjLcURk5zob\nAPJyHA4geHFauzJrSixHOGN6B05l5vR+VvD0Bfu2e5X/090biRBhXIBDr3RmshPTiIns5lWcstUH\ndzO6d782eUGtL9tD2XsPU1/mu0Mll4pcW1WEd1aWUNfgbAzOHWxuO2kGy4sLeHfnWp+P3XekPKiO\nxkb37kdeeXGbVrXzK0uZt3cb38ue3KGcf1w3fAoVtTV8lN+6J/r3dq7l10ve46yMYay46gGenvE9\nLhw0hmfPvJb0mASu+uyf3PjlSziN4akzrgk7j8GeOCV9EE7T4FXMZmMMcwu3Mr3vULIT046zw1Ta\nztjkDMYmZ7C94iAFVWVU1NZwXuYoIiT8hi09IqP46/QrGZaYxhNrvsDZ0EBe+QHm7N7ERYPGhLVa\n6kQ7ZunKFtThtxzaz6CevTvEs+siQiI6yqA/LOlnm5i5HB96g7Ohgf1HK4PqvyFCIhjeK53Nh4ra\ndHx+ZQkRIq0uUASLrIQUKmtr2u38MVhk5zrnujZgAzAvO9fZkprWZ8BreTmOmXk5jlnAa8Cn3p6v\n4/RAYUB1fd1xqw5bDu1nQFxSQAcpaTE9GZKQwj83LmThvu38cuLsZld28ytLeXnLUq4ZOtmvjqG6\nGpERDsYmZ7QqtNY1OEMWey+peyzDEtNYvH8nd4z13T7wyz1bADjZXlUONtdkT+Lp9fN4e8dqLh3s\nvZdBYwxFRyuYFUT1y1FJfahrcLK94iAjk3wLafTG9pVEiPC97PCIz+gtU9OzGJyQwrMbF3LRoLHN\nhgKob3Dy2KrPGZnUh3+edR2OiAguHDSGCwdZYdgmpg7gnR1rGJqYyvS+Q0IeUsBbTknPIik6lvd3\nrWN25qgW864v3cuB6irOzBgWpNp1Hf5xxtXM2b2Z8weO5pOCDVwZREdAvhIhEdw1fhY/+vo/ZL/8\nW44563FIBNeE+bPfKzqGrJ7JjbHGPZFXXuxz36d0bFwmZoWHy70Ov1Jsm6cFO3rFiKQ+fLBrXZtW\nJ3dVltIvNjFsJmSG2NoMOyoPBiVkkIjkA5WAE6gzxnjVYeXlOKYCjwBlwO+Bf2M5zY3Iy3HckJ3r\n/KSZQ+/FUgd2eRieA/zT2/qG7/RfmPHBrnWMfuV37D387azTrsrSgAfaBpjZfwQHqquYt2/bcY4p\nmvJR/nrqTQM/HTcz4HXq7ExIGcDG0n2Ndj7V9XX8z/JPWHHg29nozWVF1DjrWo3R1xz1FcXHffrK\n1D5ZrCguoK7B6dNxNfV1PLNhAVPTs4LmLKEpERLBlPSBbPTRVrS8tprq+jq/hphqjUzb1sUbG+em\nLD2wi5N69wtqff2BiHDvhNlsKivitrmvNtvG3ty+ivyqUn4x/myPq0lpMT350UmnM7P/8A4jsIJl\nW3n+wNF8vmcTVbUtOzb8YNd6IiWCc/qPCFLtug6DeiZz6+jpZMT14gejpvvd+25d6R5K3vkddaXt\nCx/m4vzMUYxO6ouzoYEfjprO2+f/iBEdwJZ9fEp/Vh3c7dF+sbq+jvzK0kZfBErXwBW/vfDwoVZy\nfkvR0eB59ndnRK90KmqrKfIyfJM728uLw8p0x6WCv6M8aB6EDTDDGDPeW4HV5h/AH4FXga+BW7Jz\nnenA6VjCrEeyc53O7Fzn09m5ziuwhNcl2blOrwexKrR6yVA7TMe8fXmAteKzs+Igg4LQ2H829ix+\nNm4m5/QfwaKiHVTX13rMt650LwPje2uMVj8wIaU/9aaBjaX7MMbw8tYlPL1hHnfOfx1nQwPPbJjP\n85sWWXlT2ya0OqsOHPfpK6ekZ3G0vrbRttpbPirYQEnNYX469qw2nddfDEtMp7i6irKaI14fU9QY\nFzl4L8X+tprUHh9e3mCtxK85WMikNraPUHP+wNH8bsqFfLp7I4+sOH7SdHdVGS9vWcqfVn3O2OQM\nzu6EAtvVQydRXV/Hm9tXNZtn66EDvLB5EbP6jwhr51KKZ9pjouGJCIngjfNuZdl37+c3J1/AxA7y\n7E9IGcDB6sMeYxNvLy/GYBjWK/yFb8V/JHePI9oRedxCTWu4wtH1iQ1uOLMRthbA5jLfVIRrnfXk\nlR/weiU5GPSNTaC7I4odlUENe9MWPXpHdq7z8+xc5xtAUXaucwlAdq5zCy3YtNrxWXvm5TiSgJXA\nc3k5jie8PWnHmfoOMcMS00iP6Wnbp53MwerDHKmvDYqb7Phu3fnF+LP5unArn+/ZzPIDBY22ru5s\nLy9uDNGhtI/x9urpJR8/TZ+YhMYZxN2Hy/jr2i95Ys2XAKT1iA+Zp+ZTbLvWxft3+jQ4+mbfdnp3\nj2Van8GBqppXDOtlhb7ZfGi/13X5NkZr8CZmekXHEBvZzWehdWPpPmqcdUwKM2+nvnDzyGnkV5by\n7MaFbCwrovBwOQPie7HsQD7HnPUkRcfy2LTLOqXt2LiU/oxNzuClLUtwmgZe37aCW0adxox+2aTF\n9MQYw10L/ktcVDT/M/XiUFdXCRPiu3UnvoOZ58zIyEYQTnvrMW4YPvW49rzV9vI+zA5VpnQNLCdY\niez1waZ1ny3gBnuldbg9obL50H6fPLdvrzhIbYOTUb3DR/U9QiLISkhme3BXWr8QESfwjDHmOR+O\nc+F1nFUgITvXWZmX47gFeCk71/lgXo5jvbcHq9DqJSLCGf2G8mnBRuobnI3xq7KC6E1vStogoiIc\nLNi3/QSh1dnQQH5VqdpV+YnUmHjLa2zZvkaB9ZGpl3D/4ncbBdbJqZlcP3xqyAbsyT3iyE5MZcn+\nndw+ZobXx60tKWRsckbIBY2h9iBoe3mx10KrqyMPpqc/ESEjrpfP6sErbMcmk1K9DmEWlvx68vls\nryhmQ+k+JqYOIO9QMd8ZeBI/HTuTgT2TwtIxjr+4aeQ0fjr/dR5a9iEOieDnC98E4L6J5zKtz2DW\nle7lkamXNBt6Q1E6ApnxvfnnWdfyxJoveWnLEm476Qz62eqhWw8doFuEI2xCgijBIyMukUIfVloL\nDx8iLiqahG7BdUbXs1t3MuISfXbGtMoOaxZIZ6ptYUhCCmtLCttdzty5c5k7d25r2aYZY4pEJAWY\nIyJbjDELvCh+TF6Oo8r+3sPtO0BLDcCRl+PoA3wX+LWd5nVcJRVafWBmxghe37aSpQfy2W0PYIMZ\nkDgmqhsTUwfw9IZ5fFm4mdfP/QEpPSxD7cIjhzjmrA+6S/rOzKvn3kJZzRESo3uw93A5Y5IzeDVv\nOetK9/LTsWdxz4RzQl1FTknP4q3tq6hvcHrlnfZoXS3bKoo5LwShbprSJ6YnsZHdfIqvtvlQEWkx\nPUkKsirmgPgkr1danQ0NfJS/nje3ryIjLpH0Di7QRDsieXX2LaGuRki4NGssRUcqiBDh1lGn8enu\nTfxr40L+tvZLVhYX0CMyikuyvHckpijhyuzMUYxI6sOpb/6J/25fwV3jZgGWo7FhvdI1jFMXJKtn\nMm/tWI2zocErD9h7j5TTLzYxJBPiI3r18Vk9eNH+HaTF9AzqON4bBiek8MGu9dTU19Hdi5BzzTFj\nxgxmzJjR+Pt3v/vdCXmMMUX250EReQc4GWhVaM3Odba1Q3gYy4PwN9m5zmV5OY7BQOtu+m067xR5\nAJjRL5toRySfFGxgV2UJUREOMmJ7BbUO1w6bAlje/N5ws7VyrUANTVD1YH/RKzqGwQkp9O4exxjb\nY/PvT7mYK4dM4AejTgtx7SympmdxpL6W9aXeOTTaULaPBmMY24a4sv5GRBiSmMp2HxxRbSorYmSv\n4KvyZMT1Ys/hQ14FWs/dspjb5r3KhrJ9nN1/ZBBqpwSKCIng9jEzuO2kM4iMcPCdgSfx59OuoLq+\njjl7NnPF4AkdThVUUZpjQHwS0/sO4eUtS3lv51oO1x1jbckexgUgFr0S/kxOG8jhumO8sHmRV/n3\nHi5vXKEPNiN6pbOjooQa23lma9Q3OFm4bwenpmeFXOusKYMTUjAYdlWWBvQ8IhIjIvH291jgHMBr\nVd22kJ3rfCM71zkmO9f5Y/v3juxc5+XeHq9Cqw/ERHVjRr9sPivYxI6Kg2TGJwU9/tolWePYk/MI\nwxLTWFS0A4BjzvrGgf/gIHgz7spMTB3AE9O/63cvli589WbpCuK9ZP9Or/IvP5APEDZxfIckpHht\nu7GnqozNh/aHxLHRgPheHK47Rvmxo63mnVuYR1xUNL+ccA53j58VhNopwWRwQgo/HH06A+KSuO2k\nM0JdHUXxK3eMOZNDx47yk3mvMuaVh6mqOxY27wsluJw7YBRT0gby0LIP2Vy2v8W8xhj2HC4LmY+P\nkUl9cJoGryfBlx3Ip+zYkVZDmoUC97A3ASYNWCAia4ClwIfGmOZDlIQBKrT6yLkDRlF0tILPdm8K\niudgT4gIE1MzWX1wD6/lLSf737/l8dVf0Lt7rHqw7OD46s0ypUc8WT2TWWYLo62xeP9OshNTG9XK\nQ82QhFSKjlZwuO5Yq3mf27iQqAgHV4QgVmP/OCvw+G4vVIQ3le1j9oCR3Dn2LHoFaHJDCS2/mXw+\ni678ZdgEpFcUf3Fqn8GsvPpXPH7aFdQ2OImJ7NYpvYMrrdM9MopnzrwWgC8LN7eYd++Rcipqaxo9\n+Qabbz0Ityxcu/ikYCPRjkjO7JcdyGq1iayeKTgkggNtCOHjC8aYXcaYcfY22hjTbKiacEGFVh+Z\nNeDbzjuUsZ0mpPSnoraaBxa/i9M0cLS+ttGDmtK1ODltIMsO5NNgGlrM90reMhbs284ZYdRJu2IY\nrmkhsD1Y2gSvb1vBhYPGhET9aIAtnOxuxRlTSfVhDlRXMSqMXOgriqL4Qq/oGK4aOomPLrydTy+6\nM+g+BJTwIblHHP3jerHlUMuh+T7fvQlov+PBtsZOHhjfm2hHpFfOmOobnHxasJEZ/bKJjYpua1UD\nRkxUN7Zd9zA3j5wW6qqEHSq0+kiv6JjGpftJaaHzCjrR7hhqG5xcmjWOAXFJ3Dpqesjqo4SOKWmD\nqKitJq+8ebWYdSWF/PKbt5mYOsAnT8OBZmp6FvFR0fxh+cccakH1dlNZEUfqa5k9IDQ2ot4KrZts\nRxCjQjTbrCiK4i/GJmeQpSZHXZ7BCSnsaMFh4jFnPX9f9zWTUjMZ0c7Fk7bGTnZERDC8VzqbD524\n0mqMobq+FoDq+lqe2bCAoqMVXBkCrS1v6eboXH5y83Icp+TlONbm5TiO5OU4FuflONo0mOtcdyVI\n/O+pl/FJwQZmZngfD8rfDElIIatnMruryvj15PM15EIX5uT0gYBlo9HcavvHBRtwSAQvzLyBhOjg\nuqNvidioaP52+lXc+tXLPLH6Cx4+5SKP+VYftFzTj0/23baqrnQPFfOfJ+H0m4jq3TbbrLioaNJ6\nxLPFwwvRHZfQOlKFVkVRFKUTMCQhhaUHdtFgGjyGOFuyfycHqw/z52lXhNSp0fBe6Xy+e9Nx9TTG\n8JN5r/LBrvXM6JfNmpI9HDp2lKnpWZwzQNXeg8iTwC+wPBNfCDwBzPa1EF1pbQNT0gfx0JQLQzoT\nIiK8ff6PmHf5z1Vg7eIMiEsiLaYnS/fvajbPV4VbmZyW2WaBta0qO95wzoCRzM4cxYf565v1zrum\npJC0HvH0iU3wufy2ztw2ZXLaQJYe2NWiB+GNZfvoE5OgtuVBIJBtUlEURbEYnJBCdX0d+494trF0\nTeZODIGTRHempg/i0LGjjZPHAM9vXsT7u9ZxclomSw7sZELKAF46+0b+c85NnTrGeBgSkZ3rnJOd\n66zJznW+AbQp1ImutHZgknvEkUxcqKuhhBgR4eTUgawoLvC4v+hIBZvKinhg0nltPodL8IsdfXab\nVytb4ox+Q/kofz3bKorJTkw7Yf+q4t2MS+kf0lncU9Kz+DB/PetL9zaGQGrK6oN7GJMc+nBCXYFA\nt0lFURQFsmyTuJ2VJfT14FNiR0UJvbvHBiyqgrec3tfy19hzWkAAAB3cSURBVDF3bx6je/djU1kR\n/7P8Y2b1H84LM28Iu9A2XYyEvBzHZYB4+G2yc51ve1OITjMoSidgbHIGe4+UU1pz+IR9X+/dCsBZ\nGcOCXS2vOa3PEAAW7tt+wr79RyvJryrl5LSBQa7V8VyaNY5e0TE8svJTj/uLj1aFRT0VRVEUxV+4\nnI7urCzxuH9n5cGQOiZ1kRoTz6ikPnyxZwsNpoF7vnmLxOgYHj8t+GrLqgl0AvOx1IK/Y2/uvy/0\nthBdaVWUToBrdW9dyV7OdBNOVx/cw0ubl9A3NoFhHlYww4UB8UkMiEvim6Id3OTmMa+mvo7nNiwA\nrJXOUJIQ3YNbRk7jsdVzKD5aRWrM8WGDPtu9EbAcYymKoihKZyA9pic9IqOadca0s6KEMzPCIyrB\n+ZmjeWz1HJ5aP5+1JYX8dfp36d09+BqJqgl0PNm5zhx/lKMrrYrSCRjd2yW0Fjamzd2bx4UfPsmG\nsn3cOmp62KvGTOs7mMX7d1LrrG9Mu23uKzyzcQEjk/owOgzCyLgmBL4p2nFcesWxah5d+SmTUjMZ\n24zqsKIoiqJ0NESEEb368K9N33D1p//kYHVV476q2hqKq6vI6pkSwhp+y2WDxxMpETy68lNGJ/Xl\nssHjQl0lBcjLcfw8L8dxi4f0m/NyHD/zthwVWhWlE9CzW3eyeiazrnQvYHnMe2zV5/SP68WCy3/B\nLaNOC3ENW2d6nyFU1taQ9dKvuXvBGxw4WsmcPVu4dtgU3rvgxzgiQt9djUrqS0K37izev/O49Dl7\nNlFRW8NvJl8Q9pMDiqJ0HlQNUQkGLk+7C4u285+tyxrTXSrD4RIaqX98EvdPOpfM+CT+cMrF6mwp\nfPg+8JKH9H8DN3tbiKoHK0on4aTkfizdb3m3/bhgA2tLCvnTtMsYFAa2Jt4wO3MU1w6bworiAv67\nfSUigsFw88hp9IjsFurqAVYsuPEpA1jZxOnVJwUbSY/pyfgUXWVVFCV4qBqiEgx+NPp0xiZn8Pvl\nH7OwaDun9hnMIys+YbLtw2FwQnistAL8cPTp/HD06aGuhnI8kdm5ztqmidm5ztq8HIfXM/06BaEo\nnYQz+g5l/9FKbvnq39w+7zVGJfXhisETQl0tr4l2RPLoqZfy5nm3EhvZjde3rWBEr3SGJrbJM3rA\nmJg6gLzyYu795m1Of+vPbC8vZt7ebcweMEpndRVFUZROR2SEg+l9hzKtz2BWH9zDIys+YXlxAU+t\nn0ekRJAZ3zvUVVTCG8nLcaQ3TczLcaQBzccRbIKOsBSlk3DhoDGk9ojns92bmD1gJK+d+4OQxhJu\nK4nRMY3OmL6XfXKIa3Mik1IzMRj+k7eMnZUlfPfT56hx1nFe5qhQV01RFEVRjsOfKuSTUwdyzFnP\ncjdtoyGJqUR3wLGGElQeAz7Ky3HMyMtxxNvbmcBHwOPeFqKtTFGCTF3pHirmP49ERjebp77yACXv\n/I6E02/yWuWrR2Q3vrjkZ5TVHGFImK1O+so9E87mgoGjGRUGzpeaMil1IH1jE4gQYWJqJu/tXEti\ndAxT0tVrsKIoihJe+FOFfHJaZuP3l8+5icdXz+GHo6a3t4pKJyc71/lSXo7jIPAw4Jrh3wj8JjvX\n+Ym35ajQqihBxvUC6XXez5vN46wsbtNLJql7LEndY/1RzZASIRGNHpHbimtyILr/WD/VyqJHZBRz\nLv4ZjogIKmtrKKs5wtVDJxMV4fDreRRFCQ5tmSRUlK5ISo947p0wmyP1x5jRL5sZ/cIj1I0S/tjC\nqdcCqidUaO3iuAb2HfVl3dHrrwQO1+RA6g1P+b3shOgeAMRFRfPq7BO8uCtKm9E+Lfi0dZJQUcKR\nQPchd4w90+9ldjS0n/aNvBzHg24/DSBu38nOdT7sTTlq09rFcQ3s68tatnUIV7f6zdU/XOurKIrS\nEt72yYqiKJ7QPiTw6D32mSPAYXtzfTdY4W7u9bYQFVoVr+hoD2hHq68SeFwqgDqRoSiKEl7oRLOi\ndF6yc51/zs51Pp6d63wceA7oAdwIvAZ47RBEhVZFUboELhVAnchQFEUJLU2FVJ1oVpTOTV6Oo3de\njuMPwFogCpiQneu8NzvXWextGSq0Kp0aXV3zPzojriiKorQHFVIDQ13pHsrnPx/qaijKceTlOP4M\nLAOqgDHZuc4Hs3Odh3wtR4VWpVOjq2v+x9NgQwVZRVGaov2C0lkJ17ZdX7aHqgUvhLoaitKUu4F+\nwK+BfXk5jiq3rdLbQtR7sNKpCFSYE6Vl/BkHrj24e/TrqHSGa1AUCJ9+QVH8TUdo2xXznycyKTzr\n5g3qobfzkJ3r9Msiqa60Kp0K14vEWXUg1FVRQkBnUDnrDNegtJ36ygPHfSqKorSFygUvdOj3iL4L\nlaao0OpHwlVdRAlPjm5b1Pjd1XbqK7y2R1cUxaYz9b3OyuLjPj3Rma5XURTFE67xUEcaF+lYLrCo\n0OpHdFZI8YVj2xc3fg/nFeLmHDt0NCdXh9d8GOoqKAGiq/W9He16K+Y/32H6CUVRQk/F/OepLdoC\nEJbjouaoyV9B2XsPU/7lP0JdlU6JCq2KorRIc44daou2UPbew9TsWhmCWvnO0bUfh7oKitIl6ehq\niooSrnRWrYvKBS/QcLQs1NXwGZeGTPXmr0Nck86JCq1Kq6gLdcWFu51dwxHLW3lHmgVVFEXpDDRV\nQ+xomi+Kf+hoWhfNoWq1ijeo0Kq0Smsu1DvSTF+41zXcVFibTli0ZGfXkQj3dqB0TrTdhTcdSY3Z\npYZYu38z0PHDu7k7INPnpG105AUGTyZSzuoq6/Owz+E8g46rzXqqq7Zn/6FCqx8JhtdH98bfngfB\n21mtpp2g66XuOr56+1JK3v1dh3lZhvusZHMqrIHu9JorvzPEfPM0ERDu7UDpnLi3O38807q65l86\nkhqzawKxvqTA+n2k46lSuuPugCzc+mdP465wXOH29L6umP98h129NDVW+M6OoCbsarOe6hpu7bkj\nE9ZCq4g8JiKbRWStiLwtIgl2+kARqRaR1fb2VKjrCt55fWwv7o2/PQ+Ct45/mnaCrpe6a5b36Jav\njtuvM0r+oekAJNCdnqfyW3LABN/OgrqnuT7nzp0bkHq2haYTAe4v8HBcWemKIU8C1V6a648C2U95\nW7Y/nulwWV0LZr8f6L6lOSEkUNfYWrmtTVQ31Fj9sMtcQzkef7QXT+Mu19jJ9QwefP0eil+5O+ze\nJ5ULXqBiwb9CXQ2v8TT50lBd6ZfFmtbwpa10lve0iJwrIltEZJuI3Bvq+rRGWAutwOfAKGPMWCAP\nuN9t33ZjzHh7uy001eu8tLYS6/LqVley+7j0UM4odWTVmKaEwwCkuVVW16SMaxbUPc31GU5Ca1Mq\nFvyrsV2H48pKMCa/wo1AtZfm+qNA9lNdcVY9mNcc6L7FJYSUvnv8wDhQ19hauf6aqPYnHWly2pf2\n0p7rOrzsDco//1vI/xtPdCQnhJ7GPg01VUF5BnxpK53hPS0iDuAfwLnASOAaERkR2lq1TFgLrcaY\nOcaYBvvnUiAjlPXpSrS2EuvqWNwFl1DTGVRZlcBzdO3H6jxKUZQWCccJrXAhXIRnf9NZr0tRmuFk\nrAXAfGNMHfAacHGI69QiYS20NuEmwH26aJCtGjxXRE4LVaUURVEURVEURVE6EP0A9xmaQjstbBFj\nTGgrIDIHSPew6wFjzAd2nl8BE4wxl9u/uwGxxphDIjIBeBdLjbjKvQARCe3FKYqiKIqiKIqihBhj\njLi+i8jlwLnGmB/Yv68Fphhj7ghV/VojMtQVMMac3dJ+EckBzgdmuh1TC9Ta31eJyA5gKLCqSdmC\noiiKoiiKoiiK4mIv0N/td3+s1dawJazVg0XkXOAe4GJjTI1berJtQIyIZGEJrDtDU0tFURRFURRF\nUZQOwwpgqB2RpRtwFfB+iOvUIiFfaW2FvwPdgDkiArDY9hR8BvA7EakDGoAfGmPKQ1dNRVEURVEU\nRVGU8McYUy8itwOfAQ7gX8aYzSGuVouE3KZVURRFURRFURRFUZojrNWDlcAgIoki8qaIbBaRTSIy\nRUSSRGSOiOSJyOcikuiW/3478PAWETnHLX2iiKy39/3NLT1aRF6305eISGawr1HxD760FVvFpNr2\n6r1aRJ5yK0fbShfAQ3s5RUSuFJGNIuK0Hee559e+pYviS1vRvkVppr08Zv9eKyJvi0iCW37tW7oo\nvrQV7Vs6Fiq0dk3+BnxsjBkBjAG2APcBc4wx2cCX9m9EZCSWnvtIrADET4mIy8HV08DNxpihWHrx\n59rpNwOldvoTwP8G57KUAOB1W7HZbowZb2+3uaVrW+kaNG0vm4H1wKXAfPeM2rd0ebxuKzbat3Rt\nPLWXz7EiR4wF8oD7QfsWxfu2YqN9SwdBhdYuhj27NN0Y8zxYOu3GmArgIuBFO9uLwCX294uBV40x\ndcaYfGA7MEVE+gDxxphldr6X3I5xL+st3Dw/Kx2HNrSV5srRttIFaK69GGO2GGPyPByifUsXpQ1t\npblytK10AVpoL3OMMQ12tqVAhv1d+5YuShvaSnPlaFsJQ1Ro7XoMAg6KyAsiskpEnhORWCDNGHPA\nznMASLO/9+V4F9iu4MNN0/fybVDixoDFxph6oEJEkgJyNUog8bWtAAyyVWzmishpdlo/tK10BTy1\nl5gW8mvf0nXxta2A9i1dGW/ay03Ax/Z37Vu6Lr62FdC+pcOgQmvXIxKYADxljJkAHOF49U6M5Z1L\nPXQpvraVfUB/Y8x44G7gFRGJD2J9ldDSantRFBtf24r2LV2bFtuLiPwKqDXGvBKi+inhg69tRfuW\nDoQKrV2PQqDQGLPc/v0m1gO+X0TSoVEtotje3zT4cIZdxl6OV69wpbuOGWCXFQkkGGPK/H8pSoDx\nqa0YY2qNMYfs76uAHVgxlLWtdA2aay/NoX1L18WntqJ9S5en2fYiIjnA+cD33fJr39J18amtaN/S\nsVChtYthjNkP7BGRbDtpFrAR+AC4wU67AXjX/v4+cLWIdBORQVgP8zK7nEqxvMkKcB3wntsxrrKu\nwHLWo3QwfG0rIpIsIg77exZWW9lpjClC20qnp4X24o64fde+pYvia1vRvqVr01x7sR3j3ANcbIyp\ncTtE+5Yuiq9tRfuWDoYxRrcutgFjgeXAWuBtIAFIAr7A8qr2OZDolv8BLEcGW4DZbukTsbw9bgf+\nzy09GvgvsA1YAgwM9TXrFvi2AlwGbABWAyuBC7StdK2tmfZyKZb9TzWwH/jELb/2LV1086WtAJdr\n39K1Nw/tJdH+bwvsdrEaSyXUlV/7li66+dJWtG/pWJvYf4CiKIqiKIqiKIqihB2qHqwoiqIoiqIo\niqKELSq0KoqiKIqiKIqiKGGLCq2KoiiKoiiKoihK2KJCq6IoiqIoiqIoihK2qNCqKIqiKIqiKIqi\nhC0qtCqKoiiKoiiKoihhiwqtiqIonRARyRGRBhG5oUl6vojsClW9FM+IyAz7/3ow1HVRFEVRlHBD\nhVZFURQbERkuIn8XkQ0iUiEix0Rkr4h8KCI3iUi3UNexDTQNxm08pAWcriiUicjJIvIvEdkqIpUi\nUmNPGrwhIleKiKd3sAZP70K4TS694JYmIjLPTr+6meOyRKRKREpFpG/waqwoihIaIkNdAUVRlHBA\nRH4LPAgIsAj4AqgC0oHTgX8CPwYmh6qOfuKsEJ+/0wtlIhIF/B/wQ6AemAd8ABwDMoAzgcuBt4Ar\nQ1RNJbxofC6MMUZErgfWAk+KyHxjzD7XfhFxAC8DMcBN7vsURVE6Kyq0KorS5RGRB4CHgN3AlcaY\n5R7yzAbuCXLV/I4xJtSqwRLi8weDJ4FbgHVY7Wmb+04REeAq4JIQ1E3pABhjCkTkp8ALQC5wjtvu\n+4FTgP8YY94IQfUURVGCjqoHK4rSpRGRgVgCay1wvieBFcAY8xlwvofjvysi82114qMisk5E7mtO\nlVhEJorIWyJS7KYu+qSIpHvIm2urCA4SkTvsso+KyNdueYbY6qaHROSwiHwjIifU0y3/CTat7vav\nInKmiMy11VkrbNXo4R7KyRaRR0VkhYgcdLuWZ0SkX9PrAL6yfz5on8u1nd4k7zUi8rWIlItItYhs\nEpFf+aqaLSJ97Puab6t5F9v3fYKHvD5ffwvnnYYlsJYCs5sKrGCtpBljXgOub6aMcSLykX0Pjtj1\nmeoh30N2vc8Qke+JyFK7Dexyy9PW+3C2iCywVVAPisjzIpJg55tg1++Qvf89Ecls5lqGishLYqnZ\nu9TtXxSRIR7yxovIb+Rb9fxKEdkuIq81U1+vnz1XuxeRWBF5QkT22MesEZFL7DyRIvJrEdlmt73t\nIvITT9dl558tIh+LSInd/reLyJ9c96m9GGNeBN4BZoklwCIik4DfYk2wNVs3RVGUzoautCqK0tW5\nEasvfNUYs6mljMaYWvffIvJH4D7gIJa63mEswfaPwGwROccYU+eW/ztYKqEGeBMoACZhqR1fLCKn\nGWPyPZz6b8B04EN7c9rlDQUWA0nAx8AaYCjwLvBJS5fSTPp3gIvtsp4GRtnXM1lERhpjSt3yXoal\n/voVsBBL6B+NJbBdKCKT3NQW37HPeQMw195cFLi+iMjzQA6wB3gDKAemAr8HZorI2cYYZwvX5Spn\nkF2nPsCXwH+AAViquBeIyOXGmI/aef3Ncav9+awx5kBLGZu2J5vJwL1YKurPAplYqsRfisg4Y0ye\nh2N+DpwNvI91vS7hsq334SKse/EB1n2YhvW/DBaR+7FU5+cCzwFjgAuBLBEZY4xpbFsiMtnOGwe8\nB2wCRgDXYrX3WcaYFXZeAT7F+r8X2d/rgf7ADGA+sMqtbJ+ePaz2FwXMAXphtclo4BrgTRE5D0sI\nnIj1/x8Dvgv8XUQOGmP+636DxLLNfhBrcuIDoBgYC/wCOF9EphpjqjzcW1+5FTgVeEREFtrXGgHc\nYIyp9EP5iqIoHQNjjG666aZbl92wBvMNWLZhvhw31T4uH0h1S3dgCQ8NwP1u6XFYA9w6YFqTsn5p\n5/+sSXqunb4HyPRQh8/t/Xc0Sb/ITm8Arm+yLx/Y2SQtx85bC5zZZN8f7X33NEnvC0R5qNPZWMLG\nU03SZ9jl/LaZ++mqw5tAdJN9D9r77vTyv/ms6f13+8/qgBIgtj3X38K5d9j5z/KxPbnuj6f/7FY7\n/ckm6Q/Z6VXAWD/fh+lu6eLW1sqBa5qU909730VNjtmMNcHSNP937fybAbHTTrLT3mrm/iS29dlz\na/cNWMJzlFv6aW7XtRTo6bZvEJbwuqpJWWfaxyx0z2/vu8He9xcv/3fXPX++hTwX2Hmq7c/HfGlb\nuummm26dYVP1YEVRujp97M9CH4+7yf78gzGm2JVorJXAn2MNLm9xy38x1grP68aYb5qU9TjWiuPZ\nItLfw7n+ZIwpcE8QkQxgFrAT+If7PmPM+1jOf3zlNWPM103SnrU/j3NAZYzZZ45fyXKlz8FaUZvt\n47l/iiVI3WSMOdZk3x+wBP7vt1aIfV/Oxrqff2pSt8XAq1gr05d5ONzr62+BPlirer62JxcLjTEv\nNUl7Hkv4a64Ozxpj1rontPM+vGqMWeCW3wD/tn+uMca82iS/q75j3dJOBYYBi5vmN9aq5UJ7/2lN\nyqrxdIHGmHK3n74+e41ZgJ+5t1tjzEIsgTYeuNe4rV4ay/57ETDKXgl2caf9+QPTZLXTWCq9a/Gi\nrXqLsVbD52OtDBcAD/irbEVRlI6CqgcriqK0jQlYg+Cvmu4wxmwTkb3AQBGJN5aaoMsmz1N+p4jM\nB64DxmOtrLqzzMP5x9ufC22hoinzgDO8upJvWeEhzSV89Wq6Q0SuxVopGgskYq10uWgqeDaLiMTY\nZRwE7j5ePmikFku1tDVc92WB8axK/BWWeuo4vhXEXPh0/QHihDoYY+pF5EALdWipffjrPhTZnys9\n7HOpgWe4pTXb3m2+xhJYxwELgI1Y6u3X2Pax72EJtis8TI74+uy5KDeeHZHtw1LD9nRte7HUitP5\n9h64Vqq/K54bazcgRUR6GWMOedjvEyJyFpYHc7DUpU/BumeKoihdBhVaFUXp6hQBwzl+wO0NLmcr\nRc3sL8IaYCZiqW96k9+9XHf2t3D+5uwmPR3TGuVNE2yBCY4XSBGRJ7BWR/dh2c/uxVJfBMtOeIAP\n53UJYylYTmaaw5twOa3dZ9d9SfSwz+vrb4EiLLXSDMCT/WlrnFAHm/oW6tBS+2jLfaho5vyt7Yvy\n4fyu9EQAY0yDLZz9FrgC+F97f5WIvIil7nvEh7Iz+PbZc+Gp7o31N55tUD1dW2+s/6KlmMMGyySg\nXUKriCRimQnUYq3wPgm8aNsPH25P2YqiKB0JVQ9WFKWr41qxmOnjca4BcJ9m9rvURF35XJ8neAlu\nUo6ngbUnYc2VL62Z8po7T7sRkVSsAfR6YJgx5npjzP3GmIeNMQ9jDbB9wXUtq4wxES1s3giO7bnP\n/qCt7ak9tNQ+QnUffD6/MabcGHO3MWYAlkOxW4AtwO1YDqGalt3Ss3dc2X6mAihrra0aY5pqTLSF\np7AE8AeNMc9iCfMDgSf8ULaiKEqHQYVWRVG6Oi9gqfpdLiItqp82CaWxCsvZzAwP+YZgDTR3udm8\nuTyfnukhfySWd2Djlq81XPlOExFPffkJ9fIjWdjOedxWv4BGW8osD8e4VFRPEDztFaONwGgRaa8a\nrvt98STkntkkn79x2cDeagv3zeIpNIsfCfV9aLa9e3N+Y8wOY8zzWCruR7Cci7mX7cuz528WA0ki\nMjJA5QMgIlcBV2OZALhWnh/CUqO+WUQuCOT5FUVRwgkVWhVF6dLYDo4ewrJD+0hEJnrKZ4fE+NQt\n6Xn789cikuyWzwH8GWtQ/S+3/O8CZVg2e1OaFP8zrNWTL4wxXjnwMcbsxQrfkYW1EuVe14v51gYu\nELjsAqe7C8wiEocVBsWTkOQKF+MxnifwF6z/oDEeqDsi0ktExp942PG43ZdBWPfVvYwpwPew/od3\nWiurLRhjFmHdg97Ap83EI40Qke9hhS8JCGFwH74BtmIJzZc3Of8VWPasW21HSIjIQBHxNNmRhOWA\nqNotzddnz9+4VjmfE5ETVnvtWLBNn3GfECvW8dNY6s2N8XyNMfVYtu/H7PP3bs95FEVROgpq06oo\nSpfHGPOIvdr5ILBcRBZhOWU5jKV+ezowBFjudsxiEfkTVriaDSLyJnAUOA8rvucC4DG3/EdE5Cas\n+KPzROQNLIdLE7G8vBZhxT31hZ9grfr8VUTOAdbZ9bwEK3bkhT6W5xXGmAMi8hrWKtAaEZmDZWd4\nNtY9WIPlYMedLVh2r1eLSB2wG2tl+SVjzG5jzAv2hMFtwA4R+Qzr/iRhCV7TsYSV27yo4o+Ab4DH\n7PuyEsu++EosG8Ubm64Q+5mfYK0s/wjYLCJzsf6bY0A/4Cz7840A1gFCfx9uwBKcXxeR97CE2GFY\n7bMSN2EMq728LSLLsNrKPiwb54uxJkFcK40+P3te4tH7lyeMMV+JyH3AI8A2EfkYywNxHNakzOl2\nHc73sQ5WRSwj6lwsm9ybTZPYzcaYjSLyGyyv0E9jhRBSFEXp1KjQqiiKAhhjfm8LkrdhqS7mAN2x\nYlmuwRqgvtzkmPtEZDXWSuf1WM5atgO/Ah63V0Xc878vItOwQlbMxhL0irAGnr83xjR1qGNowfmQ\nMWa7iJwCPIoV/mYGVriNi4FU4DueDmsmzRsnR+7cjBVu5yqse1aMFSPzQeCtpuXZjnYutet6JVaI\nEbBCeey289wuIp9gCVuzsAbtpfb+P+HlyqQxZpeITAJ+jSU4zMCyQ/wY+B9jTFMvsW25/pbOXw/c\nJiK5WDFWp2N5fI3Ccpy1DCuszJu+FNtMWkvtI9T3YZmITLbPPwtrEuUg8B+s9r7NLftyrGfsDKxn\noxdWm1oO/J8x5rMmZfv07LVyXS1dt8d9xpg/icg3WLbdp2E9c+VYEzPPAK+0cL7W6nUnlk30u8aY\nF5o57nGs+3m5iHzPGOPt+RRFUTokrqDeiqIoiqIoiqIoihJ2qE2roiiKoiiKoiiKErao0KooiqIo\niqIoiqKELSq0KoqiKIqiKIqiKGGLCq2KoiiKoiiKoihK2KJCq6IoiqIoiqIoihK2qNCqKIqiKIqi\nKIqihC0qtCqKoiiKoiiKoihhiwqtiqIoiqIoiqIoStiiQquiKIqiKIqiKIoStvx/E8WU4imigO8A\nAAAASUVORK5CYII=\n",
       "text": [
        "<matplotlib.figure.Figure at 0x7f64888b8450>"
       ]
      }
     ],
     "prompt_number": 15
    }
   ],
   "metadata": {}
  }
 ]
}
